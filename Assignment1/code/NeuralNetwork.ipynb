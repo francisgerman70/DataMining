{
 "cells": [
  {
   "cell_type": "code",
   "execution_count": 1,
   "metadata": {},
   "outputs": [],
   "source": [
    "import numpy as np\n",
    "import pandas as pd\n",
    "from sklearn.datasets import load_iris\n",
    "from sklearn.tree import DecisionTreeClassifier\n",
    "from sklearn.model_selection import GridSearchCV\n",
    "from sklearn.model_selection import train_test_split\n",
    "from sklearn.metrics import accuracy_score\n",
    "from sklearn import preprocessing\n",
    "import sklearn\n",
    "sklearn.__version__\n",
    "%matplotlib inline\n",
    "from matplotlib import pyplot as plt\n",
    "from keras.models import Sequential\n",
    "from keras.layers import Dense\n",
    "import matplotlib.pyplot as plt\n",
    "#from sklearn.tree"
   ]
  },
  {
   "cell_type": "code",
   "execution_count": 2,
   "metadata": {},
   "outputs": [
    {
     "data": {
      "text/html": [
       "<div>\n",
       "<style scoped>\n",
       "    .dataframe tbody tr th:only-of-type {\n",
       "        vertical-align: middle;\n",
       "    }\n",
       "\n",
       "    .dataframe tbody tr th {\n",
       "        vertical-align: top;\n",
       "    }\n",
       "\n",
       "    .dataframe thead th {\n",
       "        text-align: right;\n",
       "    }\n",
       "</style>\n",
       "<table border=\"1\" class=\"dataframe\">\n",
       "  <thead>\n",
       "    <tr style=\"text-align: right;\">\n",
       "      <th></th>\n",
       "      <th>LotArea</th>\n",
       "      <th>OverallQual</th>\n",
       "      <th>OverallCond</th>\n",
       "      <th>TotalBsmtSF</th>\n",
       "      <th>FullBath</th>\n",
       "      <th>HalfBath</th>\n",
       "      <th>BedroomAbvGr</th>\n",
       "      <th>TotRmsAbvGrd</th>\n",
       "      <th>Fireplaces</th>\n",
       "      <th>GarageArea</th>\n",
       "      <th>AboveMedianPrice</th>\n",
       "    </tr>\n",
       "  </thead>\n",
       "  <tbody>\n",
       "    <tr>\n",
       "      <th>0</th>\n",
       "      <td>8450</td>\n",
       "      <td>7</td>\n",
       "      <td>5</td>\n",
       "      <td>856</td>\n",
       "      <td>2</td>\n",
       "      <td>1</td>\n",
       "      <td>3</td>\n",
       "      <td>8</td>\n",
       "      <td>0</td>\n",
       "      <td>548</td>\n",
       "      <td>1</td>\n",
       "    </tr>\n",
       "    <tr>\n",
       "      <th>1</th>\n",
       "      <td>9600</td>\n",
       "      <td>6</td>\n",
       "      <td>8</td>\n",
       "      <td>1262</td>\n",
       "      <td>2</td>\n",
       "      <td>0</td>\n",
       "      <td>3</td>\n",
       "      <td>6</td>\n",
       "      <td>1</td>\n",
       "      <td>460</td>\n",
       "      <td>1</td>\n",
       "    </tr>\n",
       "    <tr>\n",
       "      <th>2</th>\n",
       "      <td>11250</td>\n",
       "      <td>7</td>\n",
       "      <td>5</td>\n",
       "      <td>920</td>\n",
       "      <td>2</td>\n",
       "      <td>1</td>\n",
       "      <td>3</td>\n",
       "      <td>6</td>\n",
       "      <td>1</td>\n",
       "      <td>608</td>\n",
       "      <td>1</td>\n",
       "    </tr>\n",
       "    <tr>\n",
       "      <th>3</th>\n",
       "      <td>9550</td>\n",
       "      <td>7</td>\n",
       "      <td>5</td>\n",
       "      <td>756</td>\n",
       "      <td>1</td>\n",
       "      <td>0</td>\n",
       "      <td>3</td>\n",
       "      <td>7</td>\n",
       "      <td>1</td>\n",
       "      <td>642</td>\n",
       "      <td>0</td>\n",
       "    </tr>\n",
       "    <tr>\n",
       "      <th>4</th>\n",
       "      <td>14260</td>\n",
       "      <td>8</td>\n",
       "      <td>5</td>\n",
       "      <td>1145</td>\n",
       "      <td>2</td>\n",
       "      <td>1</td>\n",
       "      <td>4</td>\n",
       "      <td>9</td>\n",
       "      <td>1</td>\n",
       "      <td>836</td>\n",
       "      <td>1</td>\n",
       "    </tr>\n",
       "    <tr>\n",
       "      <th>...</th>\n",
       "      <td>...</td>\n",
       "      <td>...</td>\n",
       "      <td>...</td>\n",
       "      <td>...</td>\n",
       "      <td>...</td>\n",
       "      <td>...</td>\n",
       "      <td>...</td>\n",
       "      <td>...</td>\n",
       "      <td>...</td>\n",
       "      <td>...</td>\n",
       "      <td>...</td>\n",
       "    </tr>\n",
       "    <tr>\n",
       "      <th>1455</th>\n",
       "      <td>7917</td>\n",
       "      <td>6</td>\n",
       "      <td>5</td>\n",
       "      <td>953</td>\n",
       "      <td>2</td>\n",
       "      <td>1</td>\n",
       "      <td>3</td>\n",
       "      <td>7</td>\n",
       "      <td>1</td>\n",
       "      <td>460</td>\n",
       "      <td>1</td>\n",
       "    </tr>\n",
       "    <tr>\n",
       "      <th>1456</th>\n",
       "      <td>13175</td>\n",
       "      <td>6</td>\n",
       "      <td>6</td>\n",
       "      <td>1542</td>\n",
       "      <td>2</td>\n",
       "      <td>0</td>\n",
       "      <td>3</td>\n",
       "      <td>7</td>\n",
       "      <td>2</td>\n",
       "      <td>500</td>\n",
       "      <td>1</td>\n",
       "    </tr>\n",
       "    <tr>\n",
       "      <th>1457</th>\n",
       "      <td>9042</td>\n",
       "      <td>7</td>\n",
       "      <td>9</td>\n",
       "      <td>1152</td>\n",
       "      <td>2</td>\n",
       "      <td>0</td>\n",
       "      <td>4</td>\n",
       "      <td>9</td>\n",
       "      <td>2</td>\n",
       "      <td>252</td>\n",
       "      <td>1</td>\n",
       "    </tr>\n",
       "    <tr>\n",
       "      <th>1458</th>\n",
       "      <td>9717</td>\n",
       "      <td>5</td>\n",
       "      <td>6</td>\n",
       "      <td>1078</td>\n",
       "      <td>1</td>\n",
       "      <td>0</td>\n",
       "      <td>2</td>\n",
       "      <td>5</td>\n",
       "      <td>0</td>\n",
       "      <td>240</td>\n",
       "      <td>0</td>\n",
       "    </tr>\n",
       "    <tr>\n",
       "      <th>1459</th>\n",
       "      <td>9937</td>\n",
       "      <td>5</td>\n",
       "      <td>6</td>\n",
       "      <td>1256</td>\n",
       "      <td>1</td>\n",
       "      <td>1</td>\n",
       "      <td>3</td>\n",
       "      <td>6</td>\n",
       "      <td>0</td>\n",
       "      <td>276</td>\n",
       "      <td>0</td>\n",
       "    </tr>\n",
       "  </tbody>\n",
       "</table>\n",
       "<p>1460 rows × 11 columns</p>\n",
       "</div>"
      ],
      "text/plain": [
       "      LotArea  OverallQual  OverallCond  TotalBsmtSF  FullBath  HalfBath  \\\n",
       "0        8450            7            5          856         2         1   \n",
       "1        9600            6            8         1262         2         0   \n",
       "2       11250            7            5          920         2         1   \n",
       "3        9550            7            5          756         1         0   \n",
       "4       14260            8            5         1145         2         1   \n",
       "...       ...          ...          ...          ...       ...       ...   \n",
       "1455     7917            6            5          953         2         1   \n",
       "1456    13175            6            6         1542         2         0   \n",
       "1457     9042            7            9         1152         2         0   \n",
       "1458     9717            5            6         1078         1         0   \n",
       "1459     9937            5            6         1256         1         1   \n",
       "\n",
       "      BedroomAbvGr  TotRmsAbvGrd  Fireplaces  GarageArea  AboveMedianPrice  \n",
       "0                3             8           0         548                 1  \n",
       "1                3             6           1         460                 1  \n",
       "2                3             6           1         608                 1  \n",
       "3                3             7           1         642                 0  \n",
       "4                4             9           1         836                 1  \n",
       "...            ...           ...         ...         ...               ...  \n",
       "1455             3             7           1         460                 1  \n",
       "1456             3             7           2         500                 1  \n",
       "1457             4             9           2         252                 1  \n",
       "1458             2             5           0         240                 0  \n",
       "1459             3             6           0         276                 0  \n",
       "\n",
       "[1460 rows x 11 columns]"
      ]
     },
     "execution_count": 2,
     "metadata": {},
     "output_type": "execute_result"
    }
   ],
   "source": [
    "#columns = ['age', 'sex', 'cp', 'trestbps', 'chol', 'fbs', 'restecg', 'thalach', 'exang', 'oldpeak', 'slope', 'ca', 'thal', 'num']\n",
    "#df = pd.read_csv('../cleaned_processed.cleveland.data',header=None,names = columns)\n",
    "df = pd.read_csv('../housepricedata.csv')\n",
    "df"
   ]
  },
  {
   "cell_type": "code",
   "execution_count": 3,
   "metadata": {},
   "outputs": [],
   "source": [
    "dataset = df.values"
   ]
  },
  {
   "cell_type": "code",
   "execution_count": 4,
   "metadata": {},
   "outputs": [
    {
     "data": {
      "text/plain": [
       "array([[ 8450,     7,     5, ...,     0,   548,     1],\n",
       "       [ 9600,     6,     8, ...,     1,   460,     1],\n",
       "       [11250,     7,     5, ...,     1,   608,     1],\n",
       "       ...,\n",
       "       [ 9042,     7,     9, ...,     2,   252,     1],\n",
       "       [ 9717,     5,     6, ...,     0,   240,     0],\n",
       "       [ 9937,     5,     6, ...,     0,   276,     0]])"
      ]
     },
     "execution_count": 4,
     "metadata": {},
     "output_type": "execute_result"
    }
   ],
   "source": [
    "dataset "
   ]
  },
  {
   "cell_type": "code",
   "execution_count": 5,
   "metadata": {},
   "outputs": [],
   "source": [
    "X = dataset[:,0:10]\n",
    "Y = dataset[:,10]"
   ]
  },
  {
   "cell_type": "code",
   "execution_count": 6,
   "metadata": {},
   "outputs": [],
   "source": [
    "min_max_scaler = preprocessing.MinMaxScaler()\n",
    "X_scale = min_max_scaler.fit_transform(X)"
   ]
  },
  {
   "cell_type": "code",
   "execution_count": 7,
   "metadata": {},
   "outputs": [
    {
     "data": {
      "text/plain": [
       "array([[0.0334198 , 0.66666667, 0.5       , ..., 0.5       , 0.        ,\n",
       "        0.3864598 ],\n",
       "       [0.03879502, 0.55555556, 0.875     , ..., 0.33333333, 0.33333333,\n",
       "        0.32440056],\n",
       "       [0.04650728, 0.66666667, 0.5       , ..., 0.33333333, 0.33333333,\n",
       "        0.42877292],\n",
       "       ...,\n",
       "       [0.03618687, 0.66666667, 1.        , ..., 0.58333333, 0.66666667,\n",
       "        0.17771509],\n",
       "       [0.03934189, 0.44444444, 0.625     , ..., 0.25      , 0.        ,\n",
       "        0.16925247],\n",
       "       [0.04037019, 0.44444444, 0.625     , ..., 0.33333333, 0.        ,\n",
       "        0.19464034]])"
      ]
     },
     "execution_count": 7,
     "metadata": {},
     "output_type": "execute_result"
    }
   ],
   "source": [
    "X_scale"
   ]
  },
  {
   "cell_type": "code",
   "execution_count": 8,
   "metadata": {},
   "outputs": [],
   "source": [
    "X_train, X_val_and_test, Y_train, Y_val_and_test = train_test_split(X_scale, Y, test_size=0.2)\n"
   ]
  },
  {
   "cell_type": "code",
   "execution_count": 9,
   "metadata": {},
   "outputs": [],
   "source": [
    "X_val, X_test, Y_val, Y_test = train_test_split(X_val_and_test, Y_val_and_test, test_size=0.2)"
   ]
  },
  {
   "cell_type": "code",
   "execution_count": 10,
   "metadata": {},
   "outputs": [
    {
     "name": "stdout",
     "output_type": "stream",
     "text": [
      "(1168, 10) (233, 10) (59, 10) (1168,) (233,) (59,)\n"
     ]
    }
   ],
   "source": [
    "print(X_train.shape, X_val.shape, X_test.shape, Y_train.shape, Y_val.shape, Y_test.shape)\n"
   ]
  },
  {
   "cell_type": "code",
   "execution_count": 11,
   "metadata": {},
   "outputs": [],
   "source": [
    "model = Sequential([\n",
    "    Dense(12, activation='relu', input_shape=(10,)),\n",
    "    Dense(12, activation='relu'),\n",
    "    Dense(1, activation='sigmoid'),\n",
    "])"
   ]
  },
  {
   "cell_type": "code",
   "execution_count": 12,
   "metadata": {},
   "outputs": [],
   "source": [
    "model.compile(optimizer='sgd',\n",
    "              loss='binary_crossentropy',\n",
    "              metrics=['accuracy'])"
   ]
  },
  {
   "cell_type": "code",
   "execution_count": 13,
   "metadata": {},
   "outputs": [
    {
     "name": "stdout",
     "output_type": "stream",
     "text": [
      "Epoch 1/100\n",
      "98/98 [==============================] - 2s 17ms/step - loss: 0.6880 - accuracy: 0.5891 - val_loss: 0.6649 - val_accuracy: 0.7425\n",
      "Epoch 2/100\n",
      "98/98 [==============================] - 0s 3ms/step - loss: 0.6714 - accuracy: 0.6699 - val_loss: 0.6475 - val_accuracy: 0.7639\n",
      "Epoch 3/100\n",
      "98/98 [==============================] - 0s 3ms/step - loss: 0.6495 - accuracy: 0.7347 - val_loss: 0.6291 - val_accuracy: 0.7940\n",
      "Epoch 4/100\n",
      "98/98 [==============================] - 0s 3ms/step - loss: 0.6360 - accuracy: 0.7360 - val_loss: 0.6084 - val_accuracy: 0.8112\n",
      "Epoch 5/100\n",
      "98/98 [==============================] - 0s 3ms/step - loss: 0.6132 - accuracy: 0.7666 - val_loss: 0.5871 - val_accuracy: 0.8069\n",
      "Epoch 6/100\n",
      "98/98 [==============================] - 0s 3ms/step - loss: 0.6021 - accuracy: 0.7581 - val_loss: 0.5647 - val_accuracy: 0.8069\n",
      "Epoch 7/100\n",
      "98/98 [==============================] - 0s 3ms/step - loss: 0.5795 - accuracy: 0.7742 - val_loss: 0.5412 - val_accuracy: 0.8155\n",
      "Epoch 8/100\n",
      "98/98 [==============================] - 0s 3ms/step - loss: 0.5502 - accuracy: 0.7933 - val_loss: 0.5169 - val_accuracy: 0.8155\n",
      "Epoch 9/100\n",
      "98/98 [==============================] - 0s 3ms/step - loss: 0.5279 - accuracy: 0.7971 - val_loss: 0.4932 - val_accuracy: 0.8283\n",
      "Epoch 10/100\n",
      "98/98 [==============================] - 0s 2ms/step - loss: 0.4984 - accuracy: 0.8162 - val_loss: 0.4700 - val_accuracy: 0.8369\n",
      "Epoch 11/100\n",
      "98/98 [==============================] - 0s 3ms/step - loss: 0.4848 - accuracy: 0.8072 - val_loss: 0.4476 - val_accuracy: 0.8369\n",
      "Epoch 12/100\n",
      "98/98 [==============================] - 0s 3ms/step - loss: 0.4701 - accuracy: 0.8198 - val_loss: 0.4273 - val_accuracy: 0.8369\n",
      "Epoch 13/100\n",
      "98/98 [==============================] - 0s 2ms/step - loss: 0.4170 - accuracy: 0.8552 - val_loss: 0.4090 - val_accuracy: 0.8498\n",
      "Epoch 14/100\n",
      "98/98 [==============================] - 0s 3ms/step - loss: 0.4135 - accuracy: 0.8585 - val_loss: 0.3925 - val_accuracy: 0.8541\n",
      "Epoch 15/100\n",
      "98/98 [==============================] - 0s 2ms/step - loss: 0.4129 - accuracy: 0.8585 - val_loss: 0.3784 - val_accuracy: 0.8584\n",
      "Epoch 16/100\n",
      "98/98 [==============================] - 0s 2ms/step - loss: 0.3800 - accuracy: 0.8518 - val_loss: 0.3689 - val_accuracy: 0.8541\n",
      "Epoch 17/100\n",
      "98/98 [==============================] - 0s 2ms/step - loss: 0.3657 - accuracy: 0.8669 - val_loss: 0.3556 - val_accuracy: 0.8584\n",
      "Epoch 18/100\n",
      "98/98 [==============================] - 0s 2ms/step - loss: 0.3534 - accuracy: 0.8762 - val_loss: 0.3473 - val_accuracy: 0.8584\n",
      "Epoch 19/100\n",
      "98/98 [==============================] - 0s 2ms/step - loss: 0.3407 - accuracy: 0.8762 - val_loss: 0.3394 - val_accuracy: 0.8670\n",
      "Epoch 20/100\n",
      "98/98 [==============================] - 0s 2ms/step - loss: 0.3627 - accuracy: 0.8675 - val_loss: 0.3372 - val_accuracy: 0.8584\n",
      "Epoch 21/100\n",
      "98/98 [==============================] - 0s 2ms/step - loss: 0.3432 - accuracy: 0.8729 - val_loss: 0.3284 - val_accuracy: 0.8670\n",
      "Epoch 22/100\n",
      "98/98 [==============================] - 0s 3ms/step - loss: 0.3258 - accuracy: 0.8716 - val_loss: 0.3248 - val_accuracy: 0.8627\n",
      "Epoch 23/100\n",
      "98/98 [==============================] - 0s 3ms/step - loss: 0.3039 - accuracy: 0.8964 - val_loss: 0.3196 - val_accuracy: 0.8584\n",
      "Epoch 24/100\n",
      "98/98 [==============================] - 0s 4ms/step - loss: 0.2976 - accuracy: 0.8931 - val_loss: 0.3214 - val_accuracy: 0.8627\n",
      "Epoch 25/100\n",
      "98/98 [==============================] - 0s 3ms/step - loss: 0.2852 - accuracy: 0.9021 - val_loss: 0.3163 - val_accuracy: 0.8627\n",
      "Epoch 26/100\n",
      "98/98 [==============================] - 0s 2ms/step - loss: 0.2938 - accuracy: 0.8944 - val_loss: 0.3110 - val_accuracy: 0.8627\n",
      "Epoch 27/100\n",
      "98/98 [==============================] - 0s 2ms/step - loss: 0.2969 - accuracy: 0.8948 - val_loss: 0.3118 - val_accuracy: 0.8627\n",
      "Epoch 28/100\n",
      "98/98 [==============================] - 0s 3ms/step - loss: 0.2912 - accuracy: 0.8921 - val_loss: 0.3079 - val_accuracy: 0.8670\n",
      "Epoch 29/100\n",
      "98/98 [==============================] - 0s 2ms/step - loss: 0.2779 - accuracy: 0.8980 - val_loss: 0.3052 - val_accuracy: 0.8670\n",
      "Epoch 30/100\n",
      "98/98 [==============================] - 0s 3ms/step - loss: 0.2874 - accuracy: 0.8921 - val_loss: 0.3050 - val_accuracy: 0.8670\n",
      "Epoch 31/100\n",
      "98/98 [==============================] - 0s 3ms/step - loss: 0.2747 - accuracy: 0.8987 - val_loss: 0.3019 - val_accuracy: 0.8670\n",
      "Epoch 32/100\n",
      "98/98 [==============================] - 0s 3ms/step - loss: 0.2802 - accuracy: 0.9009 - val_loss: 0.3005 - val_accuracy: 0.8712\n",
      "Epoch 33/100\n",
      "98/98 [==============================] - 0s 3ms/step - loss: 0.2922 - accuracy: 0.8912 - val_loss: 0.3035 - val_accuracy: 0.8712\n",
      "Epoch 34/100\n",
      "98/98 [==============================] - 0s 3ms/step - loss: 0.3092 - accuracy: 0.8886 - val_loss: 0.2959 - val_accuracy: 0.8670\n",
      "Epoch 35/100\n",
      "98/98 [==============================] - 0s 3ms/step - loss: 0.2771 - accuracy: 0.8945 - val_loss: 0.2929 - val_accuracy: 0.8584\n",
      "Epoch 36/100\n",
      "98/98 [==============================] - 0s 3ms/step - loss: 0.2685 - accuracy: 0.9051 - val_loss: 0.2923 - val_accuracy: 0.8670\n",
      "Epoch 37/100\n",
      "98/98 [==============================] - 0s 3ms/step - loss: 0.2913 - accuracy: 0.8787 - val_loss: 0.3066 - val_accuracy: 0.8584\n",
      "Epoch 38/100\n",
      "98/98 [==============================] - 0s 3ms/step - loss: 0.2736 - accuracy: 0.8911 - val_loss: 0.2885 - val_accuracy: 0.8670\n",
      "Epoch 39/100\n",
      "98/98 [==============================] - 0s 3ms/step - loss: 0.2577 - accuracy: 0.9069 - val_loss: 0.2873 - val_accuracy: 0.8670\n",
      "Epoch 40/100\n",
      "98/98 [==============================] - 0s 3ms/step - loss: 0.2841 - accuracy: 0.8984 - val_loss: 0.2873 - val_accuracy: 0.8584\n",
      "Epoch 41/100\n",
      "98/98 [==============================] - 0s 2ms/step - loss: 0.2880 - accuracy: 0.8834 - val_loss: 0.2851 - val_accuracy: 0.8712\n",
      "Epoch 42/100\n",
      "98/98 [==============================] - 0s 3ms/step - loss: 0.2581 - accuracy: 0.9157 - val_loss: 0.2828 - val_accuracy: 0.8584\n",
      "Epoch 43/100\n",
      "98/98 [==============================] - 0s 3ms/step - loss: 0.2643 - accuracy: 0.8988 - val_loss: 0.2817 - val_accuracy: 0.8670\n",
      "Epoch 44/100\n",
      "98/98 [==============================] - ETA: 0s - loss: 0.2384 - accuracy: 0.89 - 0s 3ms/step - loss: 0.2404 - accuracy: 0.8970 - val_loss: 0.2801 - val_accuracy: 0.8627\n",
      "Epoch 45/100\n",
      "98/98 [==============================] - 0s 3ms/step - loss: 0.2706 - accuracy: 0.8973 - val_loss: 0.2920 - val_accuracy: 0.8755\n",
      "Epoch 46/100\n",
      "98/98 [==============================] - 0s 2ms/step - loss: 0.2657 - accuracy: 0.8975 - val_loss: 0.2780 - val_accuracy: 0.8627\n",
      "Epoch 47/100\n",
      "98/98 [==============================] - 0s 2ms/step - loss: 0.2831 - accuracy: 0.9047 - val_loss: 0.2797 - val_accuracy: 0.8755\n",
      "Epoch 48/100\n",
      "98/98 [==============================] - 0s 2ms/step - loss: 0.2768 - accuracy: 0.8959 - val_loss: 0.2759 - val_accuracy: 0.8670\n",
      "Epoch 49/100\n",
      "98/98 [==============================] - 0s 2ms/step - loss: 0.2380 - accuracy: 0.9147 - val_loss: 0.2756 - val_accuracy: 0.8712\n",
      "Epoch 50/100\n",
      "98/98 [==============================] - 0s 2ms/step - loss: 0.2523 - accuracy: 0.8975 - val_loss: 0.2750 - val_accuracy: 0.8712\n",
      "Epoch 51/100\n",
      "98/98 [==============================] - 0s 2ms/step - loss: 0.2614 - accuracy: 0.9045 - val_loss: 0.2742 - val_accuracy: 0.8712\n",
      "Epoch 52/100\n",
      "98/98 [==============================] - 0s 3ms/step - loss: 0.2853 - accuracy: 0.9009 - val_loss: 0.2839 - val_accuracy: 0.8755\n",
      "Epoch 53/100\n",
      "98/98 [==============================] - 0s 3ms/step - loss: 0.2650 - accuracy: 0.9018 - val_loss: 0.2719 - val_accuracy: 0.8670\n",
      "Epoch 54/100\n",
      "98/98 [==============================] - 0s 3ms/step - loss: 0.2659 - accuracy: 0.8906 - val_loss: 0.2933 - val_accuracy: 0.8627\n",
      "Epoch 55/100\n",
      "98/98 [==============================] - 0s 4ms/step - loss: 0.2532 - accuracy: 0.9069 - val_loss: 0.2704 - val_accuracy: 0.8670\n",
      "Epoch 56/100\n",
      "98/98 [==============================] - 0s 2ms/step - loss: 0.2471 - accuracy: 0.9039 - val_loss: 0.2694 - val_accuracy: 0.8712\n",
      "Epoch 57/100\n",
      "98/98 [==============================] - 0s 2ms/step - loss: 0.2430 - accuracy: 0.9154 - val_loss: 0.2830 - val_accuracy: 0.8755\n",
      "Epoch 58/100\n"
     ]
    },
    {
     "name": "stdout",
     "output_type": "stream",
     "text": [
      "98/98 [==============================] - 0s 3ms/step - loss: 0.2476 - accuracy: 0.9156 - val_loss: 0.2687 - val_accuracy: 0.8712\n",
      "Epoch 59/100\n",
      "98/98 [==============================] - 0s 2ms/step - loss: 0.2572 - accuracy: 0.8986 - val_loss: 0.2676 - val_accuracy: 0.8712\n",
      "Epoch 60/100\n",
      "98/98 [==============================] - 0s 2ms/step - loss: 0.2497 - accuracy: 0.9105 - val_loss: 0.2805 - val_accuracy: 0.8755\n",
      "Epoch 61/100\n",
      "98/98 [==============================] - 0s 3ms/step - loss: 0.2367 - accuracy: 0.9001 - val_loss: 0.2690 - val_accuracy: 0.8670\n",
      "Epoch 62/100\n",
      "98/98 [==============================] - 0s 3ms/step - loss: 0.2536 - accuracy: 0.9146 - val_loss: 0.2685 - val_accuracy: 0.8670\n",
      "Epoch 63/100\n",
      "98/98 [==============================] - 0s 3ms/step - loss: 0.2382 - accuracy: 0.9080 - val_loss: 0.2780 - val_accuracy: 0.8712\n",
      "Epoch 64/100\n",
      "98/98 [==============================] - 0s 3ms/step - loss: 0.2280 - accuracy: 0.9135 - val_loss: 0.2738 - val_accuracy: 0.8798\n",
      "Epoch 65/100\n",
      "98/98 [==============================] - 0s 2ms/step - loss: 0.2493 - accuracy: 0.8990 - val_loss: 0.2723 - val_accuracy: 0.8755\n",
      "Epoch 66/100\n",
      "98/98 [==============================] - 0s 2ms/step - loss: 0.2512 - accuracy: 0.9102 - val_loss: 0.2725 - val_accuracy: 0.8798\n",
      "Epoch 67/100\n",
      "98/98 [==============================] - 0s 3ms/step - loss: 0.2539 - accuracy: 0.9019 - val_loss: 0.2633 - val_accuracy: 0.8670\n",
      "Epoch 68/100\n",
      "98/98 [==============================] - 0s 3ms/step - loss: 0.2900 - accuracy: 0.8837 - val_loss: 0.2719 - val_accuracy: 0.8798\n",
      "Epoch 69/100\n",
      "98/98 [==============================] - 0s 3ms/step - loss: 0.2397 - accuracy: 0.8983 - val_loss: 0.2629 - val_accuracy: 0.8670\n",
      "Epoch 70/100\n",
      "98/98 [==============================] - 0s 2ms/step - loss: 0.2359 - accuracy: 0.9010 - val_loss: 0.2648 - val_accuracy: 0.8670\n",
      "Epoch 71/100\n",
      "98/98 [==============================] - 0s 2ms/step - loss: 0.2813 - accuracy: 0.8852 - val_loss: 0.2655 - val_accuracy: 0.8712\n",
      "Epoch 72/100\n",
      "98/98 [==============================] - 0s 2ms/step - loss: 0.2198 - accuracy: 0.9193 - val_loss: 0.3035 - val_accuracy: 0.8541\n",
      "Epoch 73/100\n",
      "98/98 [==============================] - 0s 2ms/step - loss: 0.2637 - accuracy: 0.8907 - val_loss: 0.2634 - val_accuracy: 0.8670\n",
      "Epoch 74/100\n",
      "98/98 [==============================] - 0s 3ms/step - loss: 0.2613 - accuracy: 0.8953 - val_loss: 0.2615 - val_accuracy: 0.8627\n",
      "Epoch 75/100\n",
      "98/98 [==============================] - 0s 2ms/step - loss: 0.2520 - accuracy: 0.9058 - val_loss: 0.2618 - val_accuracy: 0.8627\n",
      "Epoch 76/100\n",
      "98/98 [==============================] - 0s 2ms/step - loss: 0.2660 - accuracy: 0.9047 - val_loss: 0.2980 - val_accuracy: 0.8584\n",
      "Epoch 77/100\n",
      "98/98 [==============================] - 0s 2ms/step - loss: 0.2508 - accuracy: 0.8956 - val_loss: 0.2758 - val_accuracy: 0.8712\n",
      "Epoch 78/100\n",
      "98/98 [==============================] - 0s 2ms/step - loss: 0.2545 - accuracy: 0.9015 - val_loss: 0.2734 - val_accuracy: 0.8712\n",
      "Epoch 79/100\n",
      "98/98 [==============================] - 0s 3ms/step - loss: 0.2432 - accuracy: 0.9102 - val_loss: 0.2595 - val_accuracy: 0.8670\n",
      "Epoch 80/100\n",
      "98/98 [==============================] - 0s 2ms/step - loss: 0.2600 - accuracy: 0.9011 - val_loss: 0.2672 - val_accuracy: 0.8755\n",
      "Epoch 81/100\n",
      "98/98 [==============================] - 0s 2ms/step - loss: 0.2414 - accuracy: 0.9075 - val_loss: 0.2591 - val_accuracy: 0.8712\n",
      "Epoch 82/100\n",
      "98/98 [==============================] - 0s 2ms/step - loss: 0.2532 - accuracy: 0.8982 - val_loss: 0.2591 - val_accuracy: 0.8670\n",
      "Epoch 83/100\n",
      "98/98 [==============================] - 0s 2ms/step - loss: 0.2223 - accuracy: 0.9158 - val_loss: 0.2615 - val_accuracy: 0.8712\n",
      "Epoch 84/100\n",
      "98/98 [==============================] - 0s 2ms/step - loss: 0.2574 - accuracy: 0.9010 - val_loss: 0.2824 - val_accuracy: 0.8670\n",
      "Epoch 85/100\n",
      "98/98 [==============================] - 0s 2ms/step - loss: 0.2870 - accuracy: 0.8978 - val_loss: 0.2587 - val_accuracy: 0.8627\n",
      "Epoch 86/100\n",
      "98/98 [==============================] - 0s 2ms/step - loss: 0.2393 - accuracy: 0.8993 - val_loss: 0.2654 - val_accuracy: 0.8755\n",
      "Epoch 87/100\n",
      "98/98 [==============================] - 0s 2ms/step - loss: 0.2376 - accuracy: 0.9096 - val_loss: 0.2854 - val_accuracy: 0.8670\n",
      "Epoch 88/100\n",
      "98/98 [==============================] - 0s 2ms/step - loss: 0.2346 - accuracy: 0.9151 - val_loss: 0.2579 - val_accuracy: 0.8627\n",
      "Epoch 89/100\n",
      "98/98 [==============================] - 0s 2ms/step - loss: 0.2443 - accuracy: 0.9106 - val_loss: 0.2861 - val_accuracy: 0.8670\n",
      "Epoch 90/100\n",
      "98/98 [==============================] - 0s 2ms/step - loss: 0.2419 - accuracy: 0.8969 - val_loss: 0.2581 - val_accuracy: 0.8627\n",
      "Epoch 91/100\n",
      "98/98 [==============================] - 0s 2ms/step - loss: 0.2569 - accuracy: 0.8905 - val_loss: 0.2725 - val_accuracy: 0.8670\n",
      "Epoch 92/100\n",
      "98/98 [==============================] - 0s 2ms/step - loss: 0.2929 - accuracy: 0.9009 - val_loss: 0.2680 - val_accuracy: 0.8798\n",
      "Epoch 93/100\n",
      "98/98 [==============================] - 0s 2ms/step - loss: 0.2097 - accuracy: 0.9164 - val_loss: 0.2583 - val_accuracy: 0.8584\n",
      "Epoch 94/100\n",
      "98/98 [==============================] - 0s 2ms/step - loss: 0.2383 - accuracy: 0.9085 - val_loss: 0.2605 - val_accuracy: 0.8712\n",
      "Epoch 95/100\n",
      "98/98 [==============================] - 0s 2ms/step - loss: 0.2352 - accuracy: 0.8986 - val_loss: 0.2835 - val_accuracy: 0.8670\n",
      "Epoch 96/100\n",
      "98/98 [==============================] - 0s 2ms/step - loss: 0.2372 - accuracy: 0.9107 - val_loss: 0.2563 - val_accuracy: 0.8670\n",
      "Epoch 97/100\n",
      "98/98 [==============================] - 0s 2ms/step - loss: 0.2664 - accuracy: 0.8873 - val_loss: 0.2562 - val_accuracy: 0.8670\n",
      "Epoch 98/100\n",
      "98/98 [==============================] - 0s 3ms/step - loss: 0.2379 - accuracy: 0.9140 - val_loss: 0.2788 - val_accuracy: 0.8670\n",
      "Epoch 99/100\n",
      "98/98 [==============================] - 0s 3ms/step - loss: 0.2360 - accuracy: 0.9065 - val_loss: 0.2631 - val_accuracy: 0.8755\n",
      "Epoch 100/100\n",
      "98/98 [==============================] - 0s 3ms/step - loss: 0.2494 - accuracy: 0.9032 - val_loss: 0.2556 - val_accuracy: 0.8670\n"
     ]
    }
   ],
   "source": [
    "hist = model.fit(X_train, Y_train,\n",
    "          batch_size=12, epochs=100,\n",
    "          validation_data=(X_val, Y_val))"
   ]
  },
  {
   "cell_type": "code",
   "execution_count": 14,
   "metadata": {},
   "outputs": [
    {
     "data": {
      "image/png": "[encoded data removed]",
      "text/plain": [
       "<Figure size 432x288 with 1 Axes>"
      ]
     },
     "metadata": {
      "needs_background": "light"
     },
     "output_type": "display_data"
    }
   ],
   "source": [
    "plt.plot(hist.history['loss'])\n",
    "plt.plot(hist.history['val_loss'])\n",
    "plt.title('Model loss')\n",
    "plt.ylabel('Loss')\n",
    "plt.xlabel('Epoch')\n",
    "plt.legend(['Train', 'Val'], loc='upper right')\n",
    "plt.show()"
   ]
  },
  {
   "cell_type": "code",
   "execution_count": 15,
   "metadata": {},
   "outputs": [
    {
     "data": {
      "image/png": "[encoded data removed]",
      "text/plain": [
       "<Figure size 432x288 with 1 Axes>"
      ]
     },
     "metadata": {
      "needs_background": "light"
     },
     "output_type": "display_data"
    }
   ],
   "source": [
    "plt.plot(hist.history['accuracy'])\n",
    "plt.plot(hist.history['val_accuracy'])\n",
    "plt.title('Model accuracy')\n",
    "plt.ylabel('Accuracy')\n",
    "plt.xlabel('Epoch')\n",
    "plt.legend(['Train', 'Val'], loc='lower right')\n",
    "plt.show()"
   ]
  },
  {
   "cell_type": "code",
   "execution_count": 16,
   "metadata": {},
   "outputs": [
    {
     "name": "stdout",
     "output_type": "stream",
     "text": [
      "2/2 [==============================] - 0s 3ms/step - loss: 0.2367 - accuracy: 0.8644\n"
     ]
    },
    {
     "data": {
      "text/plain": [
       "0.8644067645072937"
      ]
     },
     "execution_count": 16,
     "metadata": {},
     "output_type": "execute_result"
    }
   ],
   "source": [
    "model.evaluate(X_test, Y_test)[1]"
   ]
  },
  {
   "cell_type": "code",
   "execution_count": 17,
   "metadata": {},
   "outputs": [],
   "source": [
    "model3 = Sequential([\n",
    "    Dense(62, activation='relu', input_shape=(10,)),\n",
    "    Dense(62, activation='relu'),\n",
    "    Dense(1, activation='sigmoid'),\n",
    "])"
   ]
  },
  {
   "cell_type": "code",
   "execution_count": 18,
   "metadata": {},
   "outputs": [],
   "source": [
    "model3.compile(optimizer='sgd',\n",
    "              loss='binary_crossentropy',\n",
    "              metrics=['accuracy'])"
   ]
  },
  {
   "cell_type": "code",
   "execution_count": 19,
   "metadata": {},
   "outputs": [
    {
     "name": "stdout",
     "output_type": "stream",
     "text": [
      "Epoch 1/100\n",
      "19/19 [==============================] - 1s 14ms/step - loss: 0.6856 - accuracy: 0.5268 - val_loss: 0.6854 - val_accuracy: 0.4850\n",
      "Epoch 2/100\n",
      "19/19 [==============================] - 0s 6ms/step - loss: 0.6821 - accuracy: 0.5363 - val_loss: 0.6812 - val_accuracy: 0.5236\n",
      "Epoch 3/100\n",
      "19/19 [==============================] - 0s 6ms/step - loss: 0.6786 - accuracy: 0.5470 - val_loss: 0.6771 - val_accuracy: 0.5622\n",
      "Epoch 4/100\n",
      "19/19 [==============================] - 0s 5ms/step - loss: 0.6738 - accuracy: 0.5971 - val_loss: 0.6731 - val_accuracy: 0.5880\n",
      "Epoch 5/100\n",
      "19/19 [==============================] - 0s 4ms/step - loss: 0.6715 - accuracy: 0.6145 - val_loss: 0.6691 - val_accuracy: 0.6438\n",
      "Epoch 6/100\n",
      "19/19 [==============================] - 0s 5ms/step - loss: 0.6659 - accuracy: 0.6593 - val_loss: 0.6652 - val_accuracy: 0.6781\n",
      "Epoch 7/100\n",
      "19/19 [==============================] - 0s 5ms/step - loss: 0.6630 - accuracy: 0.6820 - val_loss: 0.6611 - val_accuracy: 0.6953\n",
      "Epoch 8/100\n",
      "19/19 [==============================] - 0s 4ms/step - loss: 0.6580 - accuracy: 0.7008 - val_loss: 0.6570 - val_accuracy: 0.7039\n",
      "Epoch 9/100\n",
      "19/19 [==============================] - 0s 5ms/step - loss: 0.6544 - accuracy: 0.7139 - val_loss: 0.6530 - val_accuracy: 0.7296\n",
      "Epoch 10/100\n",
      "19/19 [==============================] - 0s 5ms/step - loss: 0.6536 - accuracy: 0.7326 - val_loss: 0.6490 - val_accuracy: 0.7296\n",
      "Epoch 11/100\n",
      "19/19 [==============================] - 0s 7ms/step - loss: 0.6467 - accuracy: 0.7720 - val_loss: 0.6450 - val_accuracy: 0.7339\n",
      "Epoch 12/100\n",
      "19/19 [==============================] - 0s 7ms/step - loss: 0.6456 - accuracy: 0.7666 - val_loss: 0.6410 - val_accuracy: 0.7382\n",
      "Epoch 13/100\n",
      "19/19 [==============================] - 0s 5ms/step - loss: 0.6366 - accuracy: 0.7914 - val_loss: 0.6369 - val_accuracy: 0.7382\n",
      "Epoch 14/100\n",
      "19/19 [==============================] - 0s 5ms/step - loss: 0.6357 - accuracy: 0.7980 - val_loss: 0.6327 - val_accuracy: 0.7554\n",
      "Epoch 15/100\n",
      "19/19 [==============================] - 0s 5ms/step - loss: 0.6341 - accuracy: 0.7864 - val_loss: 0.6285 - val_accuracy: 0.7554\n",
      "Epoch 16/100\n",
      "19/19 [==============================] - 0s 5ms/step - loss: 0.6278 - accuracy: 0.8018 - val_loss: 0.6241 - val_accuracy: 0.7554\n",
      "Epoch 17/100\n",
      "19/19 [==============================] - 0s 5ms/step - loss: 0.6195 - accuracy: 0.8271 - val_loss: 0.6197 - val_accuracy: 0.7554\n",
      "Epoch 18/100\n",
      "19/19 [==============================] - 0s 5ms/step - loss: 0.6122 - accuracy: 0.8284 - val_loss: 0.6151 - val_accuracy: 0.7597\n",
      "Epoch 19/100\n",
      "19/19 [==============================] - 0s 6ms/step - loss: 0.6088 - accuracy: 0.8351 - val_loss: 0.6104 - val_accuracy: 0.7682\n",
      "Epoch 20/100\n",
      "19/19 [==============================] - 0s 8ms/step - loss: 0.6031 - accuracy: 0.8348 - val_loss: 0.6057 - val_accuracy: 0.7725\n",
      "Epoch 21/100\n",
      "19/19 [==============================] - ETA: 0s - loss: 0.6018 - accuracy: 0.81 - 0s 11ms/step - loss: 0.6017 - accuracy: 0.8200 - val_loss: 0.6008 - val_accuracy: 0.7725\n",
      "Epoch 22/100\n",
      "19/19 [==============================] - 0s 10ms/step - loss: 0.5964 - accuracy: 0.8282 - val_loss: 0.5958 - val_accuracy: 0.7768\n",
      "Epoch 23/100\n",
      "19/19 [==============================] - 0s 7ms/step - loss: 0.5903 - accuracy: 0.8307 - val_loss: 0.5908 - val_accuracy: 0.7811\n",
      "Epoch 24/100\n",
      "19/19 [==============================] - 0s 8ms/step - loss: 0.5866 - accuracy: 0.8378 - val_loss: 0.5856 - val_accuracy: 0.7854\n",
      "Epoch 25/100\n",
      "19/19 [==============================] - 0s 7ms/step - loss: 0.5776 - accuracy: 0.8397 - val_loss: 0.5804 - val_accuracy: 0.7854\n",
      "Epoch 26/100\n",
      "19/19 [==============================] - 0s 10ms/step - loss: 0.5797 - accuracy: 0.8197 - val_loss: 0.5751 - val_accuracy: 0.8069\n",
      "Epoch 27/100\n",
      "19/19 [==============================] - 0s 13ms/step - loss: 0.5705 - accuracy: 0.8575 - val_loss: 0.5696 - val_accuracy: 0.8069\n",
      "Epoch 28/100\n",
      "19/19 [==============================] - 0s 6ms/step - loss: 0.5586 - accuracy: 0.8691 - val_loss: 0.5640 - val_accuracy: 0.8069\n",
      "Epoch 29/100\n",
      "19/19 [==============================] - 0s 6ms/step - loss: 0.5615 - accuracy: 0.8531 - val_loss: 0.5584 - val_accuracy: 0.8112\n",
      "Epoch 30/100\n",
      "19/19 [==============================] - 0s 6ms/step - loss: 0.5545 - accuracy: 0.8453 - val_loss: 0.5526 - val_accuracy: 0.8112\n",
      "Epoch 31/100\n",
      "19/19 [==============================] - 0s 8ms/step - loss: 0.5497 - accuracy: 0.8462 - val_loss: 0.5468 - val_accuracy: 0.8155\n",
      "Epoch 32/100\n",
      "19/19 [==============================] - 0s 6ms/step - loss: 0.5428 - accuracy: 0.8578 - val_loss: 0.5409 - val_accuracy: 0.8155\n",
      "Epoch 33/100\n",
      "19/19 [==============================] - 0s 8ms/step - loss: 0.5316 - accuracy: 0.8676 - val_loss: 0.5349 - val_accuracy: 0.8155\n",
      "Epoch 34/100\n",
      "19/19 [==============================] - 0s 8ms/step - loss: 0.5296 - accuracy: 0.8657 - val_loss: 0.5288 - val_accuracy: 0.8240\n",
      "Epoch 35/100\n",
      "19/19 [==============================] - 0s 8ms/step - loss: 0.5170 - accuracy: 0.8676 - val_loss: 0.5229 - val_accuracy: 0.8369\n",
      "Epoch 36/100\n",
      "19/19 [==============================] - 0s 7ms/step - loss: 0.5132 - accuracy: 0.8779 - val_loss: 0.5164 - val_accuracy: 0.8240\n",
      "Epoch 37/100\n",
      "19/19 [==============================] - 0s 5ms/step - loss: 0.5151 - accuracy: 0.8582 - val_loss: 0.5103 - val_accuracy: 0.8240\n",
      "Epoch 38/100\n",
      "19/19 [==============================] - 0s 6ms/step - loss: 0.5083 - accuracy: 0.8547 - val_loss: 0.5045 - val_accuracy: 0.8369\n",
      "Epoch 39/100\n",
      "19/19 [==============================] - 0s 8ms/step - loss: 0.4892 - accuracy: 0.8812 - val_loss: 0.4985 - val_accuracy: 0.8412\n",
      "Epoch 40/100\n",
      "19/19 [==============================] - 0s 7ms/step - loss: 0.4957 - accuracy: 0.8646 - val_loss: 0.4920 - val_accuracy: 0.8283\n",
      "Epoch 41/100\n",
      "19/19 [==============================] - 0s 6ms/step - loss: 0.4824 - accuracy: 0.8723 - val_loss: 0.4863 - val_accuracy: 0.8412\n",
      "Epoch 42/100\n",
      "19/19 [==============================] - 0s 6ms/step - loss: 0.4825 - accuracy: 0.8607 - val_loss: 0.4805 - val_accuracy: 0.8412\n",
      "Epoch 43/100\n",
      "19/19 [==============================] - 0s 5ms/step - loss: 0.4709 - accuracy: 0.8710 - val_loss: 0.4745 - val_accuracy: 0.8369\n",
      "Epoch 44/100\n",
      "19/19 [==============================] - 0s 7ms/step - loss: 0.4638 - accuracy: 0.8731 - val_loss: 0.4687 - val_accuracy: 0.8412\n",
      "Epoch 45/100\n",
      "19/19 [==============================] - 0s 7ms/step - loss: 0.4724 - accuracy: 0.8507 - val_loss: 0.4630 - val_accuracy: 0.8412\n",
      "Epoch 46/100\n",
      "19/19 [==============================] - 0s 6ms/step - loss: 0.4630 - accuracy: 0.8561 - val_loss: 0.4570 - val_accuracy: 0.8326\n",
      "Epoch 47/100\n",
      "19/19 [==============================] - 0s 6ms/step - loss: 0.4449 - accuracy: 0.8756 - val_loss: 0.4517 - val_accuracy: 0.8369\n",
      "Epoch 48/100\n",
      "19/19 [==============================] - 0s 7ms/step - loss: 0.4367 - accuracy: 0.8772 - val_loss: 0.4461 - val_accuracy: 0.8369\n",
      "Epoch 49/100\n",
      "19/19 [==============================] - 0s 6ms/step - loss: 0.4337 - accuracy: 0.8760 - val_loss: 0.4407 - val_accuracy: 0.8369\n",
      "Epoch 50/100\n",
      "19/19 [==============================] - 0s 13ms/step - loss: 0.4375 - accuracy: 0.8616 - val_loss: 0.4354 - val_accuracy: 0.8326\n",
      "Epoch 51/100\n",
      "19/19 [==============================] - 0s 8ms/step - loss: 0.4352 - accuracy: 0.8617 - val_loss: 0.4309 - val_accuracy: 0.8369\n",
      "Epoch 52/100\n",
      "19/19 [==============================] - 0s 7ms/step - loss: 0.4173 - accuracy: 0.8826 - val_loss: 0.4257 - val_accuracy: 0.8369\n",
      "Epoch 53/100\n",
      "19/19 [==============================] - 0s 7ms/step - loss: 0.4341 - accuracy: 0.8539 - val_loss: 0.4210 - val_accuracy: 0.8369\n",
      "Epoch 54/100\n",
      "19/19 [==============================] - 0s 5ms/step - loss: 0.4161 - accuracy: 0.8586 - val_loss: 0.4168 - val_accuracy: 0.8369\n",
      "Epoch 55/100\n",
      "19/19 [==============================] - 0s 6ms/step - loss: 0.4133 - accuracy: 0.8619 - val_loss: 0.4128 - val_accuracy: 0.8412\n",
      "Epoch 56/100\n",
      "19/19 [==============================] - 0s 6ms/step - loss: 0.3932 - accuracy: 0.8875 - val_loss: 0.4087 - val_accuracy: 0.8412\n",
      "Epoch 57/100\n",
      "19/19 [==============================] - 0s 5ms/step - loss: 0.3978 - accuracy: 0.8766 - val_loss: 0.4046 - val_accuracy: 0.8412\n",
      "Epoch 58/100\n"
     ]
    },
    {
     "name": "stdout",
     "output_type": "stream",
     "text": [
      "19/19 [==============================] - 0s 8ms/step - loss: 0.3888 - accuracy: 0.8755 - val_loss: 0.4007 - val_accuracy: 0.8412\n",
      "Epoch 59/100\n",
      "19/19 [==============================] - 0s 8ms/step - loss: 0.3779 - accuracy: 0.8862 - val_loss: 0.3976 - val_accuracy: 0.8498\n",
      "Epoch 60/100\n",
      "19/19 [==============================] - 0s 8ms/step - loss: 0.3743 - accuracy: 0.8856 - val_loss: 0.3930 - val_accuracy: 0.8369\n",
      "Epoch 61/100\n",
      "19/19 [==============================] - 0s 7ms/step - loss: 0.3775 - accuracy: 0.8665 - val_loss: 0.3900 - val_accuracy: 0.8412\n",
      "Epoch 62/100\n",
      "19/19 [==============================] - 0s 8ms/step - loss: 0.3797 - accuracy: 0.8681 - val_loss: 0.3863 - val_accuracy: 0.8412\n",
      "Epoch 63/100\n",
      "19/19 [==============================] - 0s 7ms/step - loss: 0.3710 - accuracy: 0.8728 - val_loss: 0.3841 - val_accuracy: 0.8455\n",
      "Epoch 64/100\n",
      "19/19 [==============================] - 0s 4ms/step - loss: 0.3690 - accuracy: 0.8747 - val_loss: 0.3804 - val_accuracy: 0.8455\n",
      "Epoch 65/100\n",
      "19/19 [==============================] - 0s 4ms/step - loss: 0.3600 - accuracy: 0.8756 - val_loss: 0.3778 - val_accuracy: 0.8455\n",
      "Epoch 66/100\n",
      "19/19 [==============================] - 0s 5ms/step - loss: 0.3622 - accuracy: 0.8707 - val_loss: 0.3748 - val_accuracy: 0.8455\n",
      "Epoch 67/100\n",
      "19/19 [==============================] - 0s 5ms/step - loss: 0.3650 - accuracy: 0.8672 - val_loss: 0.3706 - val_accuracy: 0.8369\n",
      "Epoch 68/100\n",
      "19/19 [==============================] - 0s 4ms/step - loss: 0.3545 - accuracy: 0.8781 - val_loss: 0.3698 - val_accuracy: 0.8455\n",
      "Epoch 69/100\n",
      "19/19 [==============================] - 0s 5ms/step - loss: 0.3520 - accuracy: 0.8707 - val_loss: 0.3680 - val_accuracy: 0.8455\n",
      "Epoch 70/100\n",
      "19/19 [==============================] - 0s 5ms/step - loss: 0.3463 - accuracy: 0.8804 - val_loss: 0.3647 - val_accuracy: 0.8455\n",
      "Epoch 71/100\n",
      "19/19 [==============================] - 0s 5ms/step - loss: 0.3502 - accuracy: 0.8779 - val_loss: 0.3620 - val_accuracy: 0.8455\n",
      "Epoch 72/100\n",
      "19/19 [==============================] - 0s 5ms/step - loss: 0.3378 - accuracy: 0.8863 - val_loss: 0.3616 - val_accuracy: 0.8455\n",
      "Epoch 73/100\n",
      "19/19 [==============================] - 0s 5ms/step - loss: 0.3434 - accuracy: 0.8737 - val_loss: 0.3584 - val_accuracy: 0.8455\n",
      "Epoch 74/100\n",
      "19/19 [==============================] - 0s 5ms/step - loss: 0.3312 - accuracy: 0.8842 - val_loss: 0.3564 - val_accuracy: 0.8455\n",
      "Epoch 75/100\n",
      "19/19 [==============================] - 0s 5ms/step - loss: 0.3470 - accuracy: 0.8650 - val_loss: 0.3553 - val_accuracy: 0.8455\n",
      "Epoch 76/100\n",
      "19/19 [==============================] - 0s 5ms/step - loss: 0.3408 - accuracy: 0.8724 - val_loss: 0.3533 - val_accuracy: 0.8455\n",
      "Epoch 77/100\n",
      "19/19 [==============================] - 0s 5ms/step - loss: 0.3269 - accuracy: 0.8789 - val_loss: 0.3515 - val_accuracy: 0.8455\n",
      "Epoch 78/100\n",
      "19/19 [==============================] - 0s 5ms/step - loss: 0.3448 - accuracy: 0.8723 - val_loss: 0.3501 - val_accuracy: 0.8455\n",
      "Epoch 79/100\n",
      "19/19 [==============================] - 0s 5ms/step - loss: 0.3157 - accuracy: 0.8922 - val_loss: 0.3492 - val_accuracy: 0.8498\n",
      "Epoch 80/100\n",
      "19/19 [==============================] - 0s 5ms/step - loss: 0.3295 - accuracy: 0.8786 - val_loss: 0.3470 - val_accuracy: 0.8455\n",
      "Epoch 81/100\n",
      "19/19 [==============================] - 0s 5ms/step - loss: 0.3295 - accuracy: 0.8743 - val_loss: 0.3453 - val_accuracy: 0.8455\n",
      "Epoch 82/100\n",
      "19/19 [==============================] - 0s 4ms/step - loss: 0.3156 - accuracy: 0.8883 - val_loss: 0.3449 - val_accuracy: 0.8498\n",
      "Epoch 83/100\n",
      "19/19 [==============================] - 0s 4ms/step - loss: 0.3098 - accuracy: 0.8918 - val_loss: 0.3424 - val_accuracy: 0.8455\n",
      "Epoch 84/100\n",
      "19/19 [==============================] - 0s 5ms/step - loss: 0.3154 - accuracy: 0.8863 - val_loss: 0.3415 - val_accuracy: 0.8455\n",
      "Epoch 85/100\n",
      "19/19 [==============================] - 0s 4ms/step - loss: 0.3217 - accuracy: 0.8707 - val_loss: 0.3415 - val_accuracy: 0.8498\n",
      "Epoch 86/100\n",
      "19/19 [==============================] - 0s 5ms/step - loss: 0.3153 - accuracy: 0.8851 - val_loss: 0.3405 - val_accuracy: 0.8498\n",
      "Epoch 87/100\n",
      "19/19 [==============================] - 0s 5ms/step - loss: 0.3076 - accuracy: 0.8915 - val_loss: 0.3382 - val_accuracy: 0.8455\n",
      "Epoch 88/100\n",
      "19/19 [==============================] - 0s 4ms/step - loss: 0.3089 - accuracy: 0.8818 - val_loss: 0.3378 - val_accuracy: 0.8498\n",
      "Epoch 89/100\n",
      "19/19 [==============================] - 0s 4ms/step - loss: 0.3258 - accuracy: 0.8817 - val_loss: 0.3359 - val_accuracy: 0.8455\n",
      "Epoch 90/100\n",
      "19/19 [==============================] - 0s 5ms/step - loss: 0.3032 - accuracy: 0.8901 - val_loss: 0.3356 - val_accuracy: 0.8498\n",
      "Epoch 91/100\n",
      "19/19 [==============================] - 0s 5ms/step - loss: 0.3027 - accuracy: 0.8863 - val_loss: 0.3332 - val_accuracy: 0.8455\n",
      "Epoch 92/100\n",
      "19/19 [==============================] - 0s 5ms/step - loss: 0.3012 - accuracy: 0.8923 - val_loss: 0.3341 - val_accuracy: 0.8498\n",
      "Epoch 93/100\n",
      "19/19 [==============================] - 0s 5ms/step - loss: 0.2889 - accuracy: 0.8987 - val_loss: 0.3349 - val_accuracy: 0.8498\n",
      "Epoch 94/100\n",
      "19/19 [==============================] - 0s 5ms/step - loss: 0.3236 - accuracy: 0.8825 - val_loss: 0.3328 - val_accuracy: 0.8498\n",
      "Epoch 95/100\n",
      "19/19 [==============================] - 0s 5ms/step - loss: 0.3134 - accuracy: 0.8886 - val_loss: 0.3313 - val_accuracy: 0.8498\n",
      "Epoch 96/100\n",
      "19/19 [==============================] - 0s 5ms/step - loss: 0.3048 - accuracy: 0.8897 - val_loss: 0.3302 - val_accuracy: 0.8498\n",
      "Epoch 97/100\n",
      "19/19 [==============================] - 0s 5ms/step - loss: 0.2904 - accuracy: 0.8898 - val_loss: 0.3296 - val_accuracy: 0.8498\n",
      "Epoch 98/100\n",
      "19/19 [==============================] - 0s 5ms/step - loss: 0.2931 - accuracy: 0.8958 - val_loss: 0.3290 - val_accuracy: 0.8498\n",
      "Epoch 99/100\n",
      "19/19 [==============================] - 0s 5ms/step - loss: 0.2846 - accuracy: 0.9008 - val_loss: 0.3319 - val_accuracy: 0.8498\n",
      "Epoch 100/100\n",
      "19/19 [==============================] - 0s 6ms/step - loss: 0.2914 - accuracy: 0.8961 - val_loss: 0.3290 - val_accuracy: 0.8498\n"
     ]
    }
   ],
   "source": [
    "hist3 = model3.fit(X_train, Y_train,\n",
    "          batch_size=62, epochs=100,\n",
    "          validation_data=(X_val, Y_val))"
   ]
  },
  {
   "cell_type": "code",
   "execution_count": 20,
   "metadata": {},
   "outputs": [
    {
     "data": {
      "image/png": "[encoded data removed]",
      "text/plain": [
       "<Figure size 432x288 with 1 Axes>"
      ]
     },
     "metadata": {
      "needs_background": "light"
     },
     "output_type": "display_data"
    }
   ],
   "source": [
    "plt.plot(hist3.history['loss'])\n",
    "plt.plot(hist3.history['val_loss'])\n",
    "plt.title('Model loss')\n",
    "plt.ylabel('Loss')\n",
    "plt.xlabel('Epoch')\n",
    "plt.legend(['Train', 'Val'], loc='upper right')\n",
    "plt.show()"
   ]
  },
  {
   "cell_type": "code",
   "execution_count": 21,
   "metadata": {},
   "outputs": [
    {
     "data": {
      "image/png": "[encoded data removed]",
      "text/plain": [
       "<Figure size 432x288 with 1 Axes>"
      ]
     },
     "metadata": {
      "needs_background": "light"
     },
     "output_type": "display_data"
    }
   ],
   "source": [
    "plt.plot(hist3.history['accuracy'])\n",
    "plt.plot(hist3.history['val_accuracy'])\n",
    "plt.title('Model accuracy')\n",
    "plt.ylabel('Accuracy')\n",
    "plt.xlabel('Epoch')\n",
    "plt.legend(['Train', 'Val'], loc='lower right')\n",
    "plt.show()"
   ]
  },
  {
   "cell_type": "code",
   "execution_count": 22,
   "metadata": {},
   "outputs": [
    {
     "name": "stdout",
     "output_type": "stream",
     "text": [
      "2/2 [==============================] - 0s 4ms/step - loss: 0.3338 - accuracy: 0.8136\n"
     ]
    },
    {
     "data": {
      "text/plain": [
       "0.8135592937469482"
      ]
     },
     "execution_count": 22,
     "metadata": {},
     "output_type": "execute_result"
    }
   ],
   "source": [
    "model3.evaluate(X_test, Y_test)[1]"
   ]
  },
  {
   "cell_type": "code",
   "execution_count": 23,
   "metadata": {},
   "outputs": [
    {
     "data": {
      "text/html": [
       "<div>\n",
       "<style scoped>\n",
       "    .dataframe tbody tr th:only-of-type {\n",
       "        vertical-align: middle;\n",
       "    }\n",
       "\n",
       "    .dataframe tbody tr th {\n",
       "        vertical-align: top;\n",
       "    }\n",
       "\n",
       "    .dataframe thead th {\n",
       "        text-align: right;\n",
       "    }\n",
       "</style>\n",
       "<table border=\"1\" class=\"dataframe\">\n",
       "  <thead>\n",
       "    <tr style=\"text-align: right;\">\n",
       "      <th></th>\n",
       "      <th>age</th>\n",
       "      <th>sex</th>\n",
       "      <th>cp</th>\n",
       "      <th>trestbps</th>\n",
       "      <th>chol</th>\n",
       "      <th>fbs</th>\n",
       "      <th>restecg</th>\n",
       "      <th>thalach</th>\n",
       "      <th>exang</th>\n",
       "      <th>oldpeak</th>\n",
       "      <th>slope</th>\n",
       "      <th>ca</th>\n",
       "      <th>thal</th>\n",
       "      <th>num</th>\n",
       "    </tr>\n",
       "  </thead>\n",
       "  <tbody>\n",
       "    <tr>\n",
       "      <th>0</th>\n",
       "      <td>63.0</td>\n",
       "      <td>1.0</td>\n",
       "      <td>1.0</td>\n",
       "      <td>145.0</td>\n",
       "      <td>233.0</td>\n",
       "      <td>1.0</td>\n",
       "      <td>2.0</td>\n",
       "      <td>150.0</td>\n",
       "      <td>0.0</td>\n",
       "      <td>2.3</td>\n",
       "      <td>3.0</td>\n",
       "      <td>0.0</td>\n",
       "      <td>6.0</td>\n",
       "      <td>0</td>\n",
       "    </tr>\n",
       "    <tr>\n",
       "      <th>1</th>\n",
       "      <td>67.0</td>\n",
       "      <td>1.0</td>\n",
       "      <td>4.0</td>\n",
       "      <td>160.0</td>\n",
       "      <td>286.0</td>\n",
       "      <td>0.0</td>\n",
       "      <td>2.0</td>\n",
       "      <td>108.0</td>\n",
       "      <td>1.0</td>\n",
       "      <td>1.5</td>\n",
       "      <td>2.0</td>\n",
       "      <td>3.0</td>\n",
       "      <td>3.0</td>\n",
       "      <td>1</td>\n",
       "    </tr>\n",
       "    <tr>\n",
       "      <th>2</th>\n",
       "      <td>67.0</td>\n",
       "      <td>1.0</td>\n",
       "      <td>4.0</td>\n",
       "      <td>120.0</td>\n",
       "      <td>229.0</td>\n",
       "      <td>0.0</td>\n",
       "      <td>2.0</td>\n",
       "      <td>129.0</td>\n",
       "      <td>1.0</td>\n",
       "      <td>2.6</td>\n",
       "      <td>2.0</td>\n",
       "      <td>2.0</td>\n",
       "      <td>7.0</td>\n",
       "      <td>1</td>\n",
       "    </tr>\n",
       "    <tr>\n",
       "      <th>3</th>\n",
       "      <td>37.0</td>\n",
       "      <td>1.0</td>\n",
       "      <td>3.0</td>\n",
       "      <td>130.0</td>\n",
       "      <td>250.0</td>\n",
       "      <td>0.0</td>\n",
       "      <td>0.0</td>\n",
       "      <td>187.0</td>\n",
       "      <td>0.0</td>\n",
       "      <td>3.5</td>\n",
       "      <td>3.0</td>\n",
       "      <td>0.0</td>\n",
       "      <td>3.0</td>\n",
       "      <td>0</td>\n",
       "    </tr>\n",
       "    <tr>\n",
       "      <th>4</th>\n",
       "      <td>41.0</td>\n",
       "      <td>0.0</td>\n",
       "      <td>2.0</td>\n",
       "      <td>130.0</td>\n",
       "      <td>204.0</td>\n",
       "      <td>0.0</td>\n",
       "      <td>2.0</td>\n",
       "      <td>172.0</td>\n",
       "      <td>0.0</td>\n",
       "      <td>1.4</td>\n",
       "      <td>1.0</td>\n",
       "      <td>0.0</td>\n",
       "      <td>3.0</td>\n",
       "      <td>0</td>\n",
       "    </tr>\n",
       "  </tbody>\n",
       "</table>\n",
       "</div>"
      ],
      "text/plain": [
       "    age  sex   cp  trestbps   chol  fbs  restecg  thalach  exang  oldpeak  \\\n",
       "0  63.0  1.0  1.0     145.0  233.0  1.0      2.0    150.0    0.0      2.3   \n",
       "1  67.0  1.0  4.0     160.0  286.0  0.0      2.0    108.0    1.0      1.5   \n",
       "2  67.0  1.0  4.0     120.0  229.0  0.0      2.0    129.0    1.0      2.6   \n",
       "3  37.0  1.0  3.0     130.0  250.0  0.0      0.0    187.0    0.0      3.5   \n",
       "4  41.0  0.0  2.0     130.0  204.0  0.0      2.0    172.0    0.0      1.4   \n",
       "\n",
       "   slope   ca  thal  num  \n",
       "0    3.0  0.0   6.0    0  \n",
       "1    2.0  3.0   3.0    1  \n",
       "2    2.0  2.0   7.0    1  \n",
       "3    3.0  0.0   3.0    0  \n",
       "4    1.0  0.0   3.0    0  "
      ]
     },
     "execution_count": 23,
     "metadata": {},
     "output_type": "execute_result"
    }
   ],
   "source": [
    "columns = ['age', 'sex', 'cp', 'trestbps', 'chol', 'fbs', 'restecg', 'thalach', 'exang', 'oldpeak', 'slope', 'ca', 'thal', 'num']\n",
    "df2 = pd.read_csv('../cleaned_processed.cleveland.data',header=None,names = columns)\n",
    "df2.columns\n",
    "feature = columns[:13]\n",
    "df2.head()"
   ]
  },
  {
   "cell_type": "code",
   "execution_count": 24,
   "metadata": {},
   "outputs": [],
   "source": [
    "dataset2 = df2.values"
   ]
  },
  {
   "cell_type": "code",
   "execution_count": 25,
   "metadata": {},
   "outputs": [
    {
     "data": {
      "text/plain": [
       "array([[63.,  1.,  1., ...,  0.,  6.,  0.],\n",
       "       [67.,  1.,  4., ...,  3.,  3.,  1.],\n",
       "       [67.,  1.,  4., ...,  2.,  7.,  1.],\n",
       "       ...,\n",
       "       [68.,  1.,  4., ...,  2.,  7.,  1.],\n",
       "       [57.,  1.,  4., ...,  1.,  7.,  1.],\n",
       "       [57.,  0.,  2., ...,  1.,  3.,  1.]])"
      ]
     },
     "execution_count": 25,
     "metadata": {},
     "output_type": "execute_result"
    }
   ],
   "source": [
    "dataset2 "
   ]
  },
  {
   "cell_type": "code",
   "execution_count": 26,
   "metadata": {},
   "outputs": [],
   "source": [
    "X2 = dataset2[:,0:13]\n",
    "Y2 = dataset2[:,13]"
   ]
  },
  {
   "cell_type": "code",
   "execution_count": 27,
   "metadata": {},
   "outputs": [],
   "source": [
    "min_max_scaler2 = preprocessing.MinMaxScaler()\n",
    "X_scale2 = min_max_scaler2.fit_transform(X2)"
   ]
  },
  {
   "cell_type": "code",
   "execution_count": 28,
   "metadata": {},
   "outputs": [
    {
     "data": {
      "text/plain": [
       "array([[0.70833333, 1.        , 0.        , ..., 1.        , 0.        ,\n",
       "        0.75      ],\n",
       "       [0.79166667, 1.        , 1.        , ..., 0.5       , 1.        ,\n",
       "        0.        ],\n",
       "       [0.79166667, 1.        , 1.        , ..., 0.5       , 0.66666667,\n",
       "        1.        ],\n",
       "       ...,\n",
       "       [0.8125    , 1.        , 1.        , ..., 0.5       , 0.66666667,\n",
       "        1.        ],\n",
       "       [0.58333333, 1.        , 1.        , ..., 0.5       , 0.33333333,\n",
       "        1.        ],\n",
       "       [0.58333333, 0.        , 0.33333333, ..., 0.5       , 0.33333333,\n",
       "        0.        ]])"
      ]
     },
     "execution_count": 28,
     "metadata": {},
     "output_type": "execute_result"
    }
   ],
   "source": [
    "X_scale2"
   ]
  },
  {
   "cell_type": "code",
   "execution_count": 29,
   "metadata": {},
   "outputs": [],
   "source": [
    "X_train2, X_val_and_test2, Y_train2, Y_val_and_test2 = train_test_split(X_scale2, Y2, test_size=0.2)\n"
   ]
  },
  {
   "cell_type": "code",
   "execution_count": 30,
   "metadata": {},
   "outputs": [],
   "source": [
    "X_val2, X_test2, Y_val2, Y_test2 = train_test_split(X_val_and_test2, Y_val_and_test2, test_size=0.2)"
   ]
  },
  {
   "cell_type": "code",
   "execution_count": 31,
   "metadata": {},
   "outputs": [
    {
     "name": "stdout",
     "output_type": "stream",
     "text": [
      "(237, 13) (48, 13) (12, 13) (237,) (48,) (12,)\n"
     ]
    }
   ],
   "source": [
    "print(X_train2.shape, X_val2.shape, X_test2.shape, Y_train2.shape, Y_val2.shape, Y_test2.shape)"
   ]
  },
  {
   "cell_type": "code",
   "execution_count": 32,
   "metadata": {},
   "outputs": [],
   "source": [
    "model2 = Sequential([\n",
    "    Dense(12, activation='relu', input_shape=(13,)),\n",
    "    Dense(12, activation='relu'),\n",
    "    Dense(1, activation='sigmoid'),\n",
    "])"
   ]
  },
  {
   "cell_type": "code",
   "execution_count": 33,
   "metadata": {},
   "outputs": [],
   "source": [
    "model2.compile(optimizer='sgd',\n",
    "              loss='binary_crossentropy',\n",
    "              metrics=['accuracy'])"
   ]
  },
  {
   "cell_type": "code",
   "execution_count": 34,
   "metadata": {},
   "outputs": [
    {
     "name": "stdout",
     "output_type": "stream",
     "text": [
      "Epoch 1/100\n",
      "20/20 [==============================] - 1s 12ms/step - loss: 0.7041 - accuracy: 0.5720 - val_loss: 0.7346 - val_accuracy: 0.4375\n",
      "Epoch 2/100\n",
      "20/20 [==============================] - 0s 5ms/step - loss: 0.7058 - accuracy: 0.5582 - val_loss: 0.7239 - val_accuracy: 0.4792\n",
      "Epoch 3/100\n",
      "20/20 [==============================] - 0s 5ms/step - loss: 0.7003 - accuracy: 0.5579 - val_loss: 0.7154 - val_accuracy: 0.5000\n",
      "Epoch 4/100\n",
      "20/20 [==============================] - 0s 4ms/step - loss: 0.6971 - accuracy: 0.5463 - val_loss: 0.7085 - val_accuracy: 0.5417\n",
      "Epoch 5/100\n",
      "20/20 [==============================] - 0s 4ms/step - loss: 0.6775 - accuracy: 0.6782 - val_loss: 0.7020 - val_accuracy: 0.5833\n",
      "Epoch 6/100\n",
      "20/20 [==============================] - 0s 4ms/step - loss: 0.6743 - accuracy: 0.7032 - val_loss: 0.6961 - val_accuracy: 0.6250\n",
      "Epoch 7/100\n",
      "20/20 [==============================] - 0s 4ms/step - loss: 0.6687 - accuracy: 0.7000 - val_loss: 0.6909 - val_accuracy: 0.6458\n",
      "Epoch 8/100\n",
      "20/20 [==============================] - 0s 5ms/step - loss: 0.6681 - accuracy: 0.7104 - val_loss: 0.6853 - val_accuracy: 0.6458\n",
      "Epoch 9/100\n",
      "20/20 [==============================] - 0s 4ms/step - loss: 0.6666 - accuracy: 0.7049 - val_loss: 0.6800 - val_accuracy: 0.6458\n",
      "Epoch 10/100\n",
      "20/20 [==============================] - 0s 4ms/step - loss: 0.6565 - accuracy: 0.7283 - val_loss: 0.6747 - val_accuracy: 0.6458\n",
      "Epoch 11/100\n",
      "20/20 [==============================] - 0s 5ms/step - loss: 0.6576 - accuracy: 0.6930 - val_loss: 0.6699 - val_accuracy: 0.6667\n",
      "Epoch 12/100\n",
      "20/20 [==============================] - 0s 5ms/step - loss: 0.6472 - accuracy: 0.7450 - val_loss: 0.6656 - val_accuracy: 0.6667\n",
      "Epoch 13/100\n",
      "20/20 [==============================] - 0s 5ms/step - loss: 0.6525 - accuracy: 0.7045 - val_loss: 0.6606 - val_accuracy: 0.6667\n",
      "Epoch 14/100\n",
      "20/20 [==============================] - 0s 5ms/step - loss: 0.6374 - accuracy: 0.7244 - val_loss: 0.6562 - val_accuracy: 0.6875\n",
      "Epoch 15/100\n",
      "20/20 [==============================] - 0s 5ms/step - loss: 0.6323 - accuracy: 0.7332 - val_loss: 0.6522 - val_accuracy: 0.7083\n",
      "Epoch 16/100\n",
      "20/20 [==============================] - 0s 5ms/step - loss: 0.6299 - accuracy: 0.7127 - val_loss: 0.6472 - val_accuracy: 0.7083\n",
      "Epoch 17/100\n",
      "20/20 [==============================] - 0s 5ms/step - loss: 0.6165 - accuracy: 0.7870 - val_loss: 0.6423 - val_accuracy: 0.7292\n",
      "Epoch 18/100\n",
      "20/20 [==============================] - 0s 4ms/step - loss: 0.6220 - accuracy: 0.7165 - val_loss: 0.6381 - val_accuracy: 0.7292\n",
      "Epoch 19/100\n",
      "20/20 [==============================] - 0s 5ms/step - loss: 0.6053 - accuracy: 0.7466 - val_loss: 0.6323 - val_accuracy: 0.7292\n",
      "Epoch 20/100\n",
      "20/20 [==============================] - 0s 4ms/step - loss: 0.6102 - accuracy: 0.7465 - val_loss: 0.6270 - val_accuracy: 0.7292\n",
      "Epoch 21/100\n",
      "20/20 [==============================] - 0s 4ms/step - loss: 0.6039 - accuracy: 0.7517 - val_loss: 0.6208 - val_accuracy: 0.7500\n",
      "Epoch 22/100\n",
      "20/20 [==============================] - 0s 5ms/step - loss: 0.5787 - accuracy: 0.8073 - val_loss: 0.6162 - val_accuracy: 0.7500\n",
      "Epoch 23/100\n",
      "20/20 [==============================] - 0s 5ms/step - loss: 0.5832 - accuracy: 0.7886 - val_loss: 0.6113 - val_accuracy: 0.7708\n",
      "Epoch 24/100\n",
      "20/20 [==============================] - 0s 4ms/step - loss: 0.5746 - accuracy: 0.8036 - val_loss: 0.6060 - val_accuracy: 0.7917\n",
      "Epoch 25/100\n",
      "20/20 [==============================] - 0s 4ms/step - loss: 0.5626 - accuracy: 0.7915 - val_loss: 0.6005 - val_accuracy: 0.7917\n",
      "Epoch 26/100\n",
      "20/20 [==============================] - 0s 5ms/step - loss: 0.5774 - accuracy: 0.7683 - val_loss: 0.5946 - val_accuracy: 0.7917\n",
      "Epoch 27/100\n",
      "20/20 [==============================] - 0s 4ms/step - loss: 0.5765 - accuracy: 0.7443 - val_loss: 0.5893 - val_accuracy: 0.7917\n",
      "Epoch 28/100\n",
      "20/20 [==============================] - 0s 5ms/step - loss: 0.5777 - accuracy: 0.7466 - val_loss: 0.5847 - val_accuracy: 0.7917\n",
      "Epoch 29/100\n",
      "20/20 [==============================] - 0s 5ms/step - loss: 0.5431 - accuracy: 0.7840 - val_loss: 0.5803 - val_accuracy: 0.7917\n",
      "Epoch 30/100\n",
      "20/20 [==============================] - 0s 4ms/step - loss: 0.5472 - accuracy: 0.7790 - val_loss: 0.5753 - val_accuracy: 0.7917\n",
      "Epoch 31/100\n",
      "20/20 [==============================] - 0s 4ms/step - loss: 0.5584 - accuracy: 0.7824 - val_loss: 0.5712 - val_accuracy: 0.7917\n",
      "Epoch 32/100\n",
      "20/20 [==============================] - 0s 5ms/step - loss: 0.5352 - accuracy: 0.7894 - val_loss: 0.5669 - val_accuracy: 0.7917\n",
      "Epoch 33/100\n",
      "20/20 [==============================] - 0s 4ms/step - loss: 0.5437 - accuracy: 0.7778 - val_loss: 0.5628 - val_accuracy: 0.7917\n",
      "Epoch 34/100\n",
      "20/20 [==============================] - 0s 5ms/step - loss: 0.4792 - accuracy: 0.8229 - val_loss: 0.5583 - val_accuracy: 0.7917\n",
      "Epoch 35/100\n",
      "20/20 [==============================] - 0s 5ms/step - loss: 0.5019 - accuracy: 0.8219 - val_loss: 0.5532 - val_accuracy: 0.7917\n",
      "Epoch 36/100\n",
      "20/20 [==============================] - 0s 5ms/step - loss: 0.5103 - accuracy: 0.7889 - val_loss: 0.5493 - val_accuracy: 0.8125\n",
      "Epoch 37/100\n",
      "20/20 [==============================] - 0s 4ms/step - loss: 0.5567 - accuracy: 0.7420 - val_loss: 0.5447 - val_accuracy: 0.8125\n",
      "Epoch 38/100\n",
      "20/20 [==============================] - 0s 4ms/step - loss: 0.5251 - accuracy: 0.7710 - val_loss: 0.5405 - val_accuracy: 0.8125\n",
      "Epoch 39/100\n",
      "20/20 [==============================] - 0s 4ms/step - loss: 0.5020 - accuracy: 0.7824 - val_loss: 0.5378 - val_accuracy: 0.8125\n",
      "Epoch 40/100\n",
      "20/20 [==============================] - 0s 4ms/step - loss: 0.4859 - accuracy: 0.8097 - val_loss: 0.5339 - val_accuracy: 0.8125\n",
      "Epoch 41/100\n",
      "20/20 [==============================] - 0s 4ms/step - loss: 0.5243 - accuracy: 0.7883 - val_loss: 0.5317 - val_accuracy: 0.8125\n",
      "Epoch 42/100\n",
      "20/20 [==============================] - 0s 4ms/step - loss: 0.4928 - accuracy: 0.8097 - val_loss: 0.5275 - val_accuracy: 0.8125\n",
      "Epoch 43/100\n",
      "20/20 [==============================] - 0s 4ms/step - loss: 0.4323 - accuracy: 0.8557 - val_loss: 0.5246 - val_accuracy: 0.8125\n",
      "Epoch 44/100\n",
      "20/20 [==============================] - 0s 4ms/step - loss: 0.4996 - accuracy: 0.7848 - val_loss: 0.5219 - val_accuracy: 0.8125\n",
      "Epoch 45/100\n",
      "20/20 [==============================] - 0s 4ms/step - loss: 0.4838 - accuracy: 0.7906 - val_loss: 0.5198 - val_accuracy: 0.8125\n",
      "Epoch 46/100\n",
      "20/20 [==============================] - 0s 4ms/step - loss: 0.4803 - accuracy: 0.7914 - val_loss: 0.5186 - val_accuracy: 0.8125\n",
      "Epoch 47/100\n",
      "20/20 [==============================] - 0s 4ms/step - loss: 0.4527 - accuracy: 0.8288 - val_loss: 0.5154 - val_accuracy: 0.8125\n",
      "Epoch 48/100\n",
      "20/20 [==============================] - 0s 4ms/step - loss: 0.4621 - accuracy: 0.8128 - val_loss: 0.5127 - val_accuracy: 0.8125\n",
      "Epoch 49/100\n",
      "20/20 [==============================] - 0s 4ms/step - loss: 0.4564 - accuracy: 0.8314 - val_loss: 0.5106 - val_accuracy: 0.8125\n",
      "Epoch 50/100\n",
      "20/20 [==============================] - 0s 4ms/step - loss: 0.4740 - accuracy: 0.8226 - val_loss: 0.5068 - val_accuracy: 0.8125\n",
      "Epoch 51/100\n",
      "20/20 [==============================] - 0s 4ms/step - loss: 0.4651 - accuracy: 0.8071 - val_loss: 0.5045 - val_accuracy: 0.8125\n",
      "Epoch 52/100\n",
      "20/20 [==============================] - 0s 4ms/step - loss: 0.4562 - accuracy: 0.8472 - val_loss: 0.5029 - val_accuracy: 0.8125\n",
      "Epoch 53/100\n",
      "20/20 [==============================] - 0s 4ms/step - loss: 0.3954 - accuracy: 0.8803 - val_loss: 0.5001 - val_accuracy: 0.8125\n",
      "Epoch 54/100\n",
      "20/20 [==============================] - 0s 4ms/step - loss: 0.4275 - accuracy: 0.8405 - val_loss: 0.4978 - val_accuracy: 0.8125\n",
      "Epoch 55/100\n",
      "20/20 [==============================] - 0s 4ms/step - loss: 0.4848 - accuracy: 0.7889 - val_loss: 0.4956 - val_accuracy: 0.8125\n",
      "Epoch 56/100\n",
      "20/20 [==============================] - 0s 4ms/step - loss: 0.4216 - accuracy: 0.8304 - val_loss: 0.4961 - val_accuracy: 0.8125\n",
      "Epoch 57/100\n",
      "20/20 [==============================] - 0s 4ms/step - loss: 0.4174 - accuracy: 0.8605 - val_loss: 0.4925 - val_accuracy: 0.8125\n",
      "Epoch 58/100\n",
      "20/20 [==============================] - 0s 4ms/step - loss: 0.3902 - accuracy: 0.8821 - val_loss: 0.4914 - val_accuracy: 0.8125\n"
     ]
    },
    {
     "name": "stdout",
     "output_type": "stream",
     "text": [
      "Epoch 59/100\n",
      "20/20 [==============================] - 0s 4ms/step - loss: 0.4081 - accuracy: 0.8548 - val_loss: 0.4918 - val_accuracy: 0.8125\n",
      "Epoch 60/100\n",
      "20/20 [==============================] - 0s 4ms/step - loss: 0.4125 - accuracy: 0.8594 - val_loss: 0.4900 - val_accuracy: 0.8125\n",
      "Epoch 61/100\n",
      "20/20 [==============================] - 0s 5ms/step - loss: 0.4249 - accuracy: 0.8346 - val_loss: 0.4899 - val_accuracy: 0.8125\n",
      "Epoch 62/100\n",
      "20/20 [==============================] - 0s 4ms/step - loss: 0.4120 - accuracy: 0.8552 - val_loss: 0.4895 - val_accuracy: 0.7917\n",
      "Epoch 63/100\n",
      "20/20 [==============================] - 0s 4ms/step - loss: 0.4320 - accuracy: 0.8320 - val_loss: 0.4866 - val_accuracy: 0.8125\n",
      "Epoch 64/100\n",
      "20/20 [==============================] - 0s 4ms/step - loss: 0.4028 - accuracy: 0.8662 - val_loss: 0.4850 - val_accuracy: 0.8125\n",
      "Epoch 65/100\n",
      "20/20 [==============================] - 0s 4ms/step - loss: 0.4271 - accuracy: 0.8394 - val_loss: 0.4838 - val_accuracy: 0.8125\n",
      "Epoch 66/100\n",
      "20/20 [==============================] - 0s 4ms/step - loss: 0.3819 - accuracy: 0.8423 - val_loss: 0.4839 - val_accuracy: 0.7917\n",
      "Epoch 67/100\n",
      "20/20 [==============================] - 0s 4ms/step - loss: 0.4261 - accuracy: 0.8410 - val_loss: 0.4820 - val_accuracy: 0.7917\n",
      "Epoch 68/100\n",
      "20/20 [==============================] - 0s 4ms/step - loss: 0.4306 - accuracy: 0.8363 - val_loss: 0.4817 - val_accuracy: 0.7917\n",
      "Epoch 69/100\n",
      "20/20 [==============================] - 0s 4ms/step - loss: 0.3647 - accuracy: 0.8651 - val_loss: 0.4817 - val_accuracy: 0.7917\n",
      "Epoch 70/100\n",
      "20/20 [==============================] - 0s 4ms/step - loss: 0.3819 - accuracy: 0.8327 - val_loss: 0.4819 - val_accuracy: 0.7917\n",
      "Epoch 71/100\n",
      "20/20 [==============================] - 0s 4ms/step - loss: 0.3829 - accuracy: 0.8610 - val_loss: 0.4804 - val_accuracy: 0.7917\n",
      "Epoch 72/100\n",
      "20/20 [==============================] - 0s 4ms/step - loss: 0.3689 - accuracy: 0.8576 - val_loss: 0.4797 - val_accuracy: 0.7917\n",
      "Epoch 73/100\n",
      "20/20 [==============================] - 0s 4ms/step - loss: 0.4015 - accuracy: 0.8355 - val_loss: 0.4793 - val_accuracy: 0.7917\n",
      "Epoch 74/100\n",
      "20/20 [==============================] - 0s 4ms/step - loss: 0.3782 - accuracy: 0.8363 - val_loss: 0.4794 - val_accuracy: 0.7708\n",
      "Epoch 75/100\n",
      "20/20 [==============================] - 0s 4ms/step - loss: 0.3880 - accuracy: 0.8509 - val_loss: 0.4773 - val_accuracy: 0.7708\n",
      "Epoch 76/100\n",
      "20/20 [==============================] - 0s 4ms/step - loss: 0.3971 - accuracy: 0.8446 - val_loss: 0.4772 - val_accuracy: 0.7708\n",
      "Epoch 77/100\n",
      "20/20 [==============================] - 0s 4ms/step - loss: 0.4229 - accuracy: 0.8131 - val_loss: 0.4769 - val_accuracy: 0.7708\n",
      "Epoch 78/100\n",
      "20/20 [==============================] - 0s 4ms/step - loss: 0.3583 - accuracy: 0.8698 - val_loss: 0.4771 - val_accuracy: 0.7708\n",
      "Epoch 79/100\n",
      "20/20 [==============================] - 0s 4ms/step - loss: 0.3596 - accuracy: 0.8673 - val_loss: 0.4766 - val_accuracy: 0.7708\n",
      "Epoch 80/100\n",
      "20/20 [==============================] - 0s 5ms/step - loss: 0.3519 - accuracy: 0.8555 - val_loss: 0.4763 - val_accuracy: 0.7708\n",
      "Epoch 81/100\n",
      "20/20 [==============================] - 0s 5ms/step - loss: 0.3408 - accuracy: 0.8582 - val_loss: 0.4759 - val_accuracy: 0.7708\n",
      "Epoch 82/100\n",
      "20/20 [==============================] - 0s 6ms/step - loss: 0.3490 - accuracy: 0.8727 - val_loss: 0.4773 - val_accuracy: 0.7708\n",
      "Epoch 83/100\n",
      "20/20 [==============================] - 0s 5ms/step - loss: 0.4082 - accuracy: 0.8325 - val_loss: 0.4767 - val_accuracy: 0.7708\n",
      "Epoch 84/100\n",
      "20/20 [==============================] - 0s 5ms/step - loss: 0.3676 - accuracy: 0.8570 - val_loss: 0.4768 - val_accuracy: 0.7708\n",
      "Epoch 85/100\n",
      "20/20 [==============================] - 0s 5ms/step - loss: 0.4075 - accuracy: 0.8215 - val_loss: 0.4751 - val_accuracy: 0.7708\n",
      "Epoch 86/100\n",
      "20/20 [==============================] - 0s 5ms/step - loss: 0.4392 - accuracy: 0.8147 - val_loss: 0.4753 - val_accuracy: 0.7708\n",
      "Epoch 87/100\n",
      "20/20 [==============================] - 0s 5ms/step - loss: 0.3723 - accuracy: 0.8652 - val_loss: 0.4733 - val_accuracy: 0.7708\n",
      "Epoch 88/100\n",
      "20/20 [==============================] - 0s 5ms/step - loss: 0.3889 - accuracy: 0.8441 - val_loss: 0.4740 - val_accuracy: 0.7708\n",
      "Epoch 89/100\n",
      "20/20 [==============================] - 0s 4ms/step - loss: 0.3646 - accuracy: 0.8627 - val_loss: 0.4734 - val_accuracy: 0.7708\n",
      "Epoch 90/100\n",
      "20/20 [==============================] - 0s 4ms/step - loss: 0.4065 - accuracy: 0.8293 - val_loss: 0.4739 - val_accuracy: 0.7708\n",
      "Epoch 91/100\n",
      "20/20 [==============================] - 0s 4ms/step - loss: 0.3862 - accuracy: 0.8212 - val_loss: 0.4735 - val_accuracy: 0.7708\n",
      "Epoch 92/100\n",
      "20/20 [==============================] - 0s 4ms/step - loss: 0.4281 - accuracy: 0.7980 - val_loss: 0.4736 - val_accuracy: 0.7708\n",
      "Epoch 93/100\n",
      "20/20 [==============================] - 0s 4ms/step - loss: 0.3718 - accuracy: 0.8537 - val_loss: 0.4723 - val_accuracy: 0.7708\n",
      "Epoch 94/100\n",
      "20/20 [==============================] - 0s 4ms/step - loss: 0.3879 - accuracy: 0.8252 - val_loss: 0.4754 - val_accuracy: 0.7708\n",
      "Epoch 95/100\n",
      "20/20 [==============================] - 0s 4ms/step - loss: 0.3631 - accuracy: 0.8552 - val_loss: 0.4776 - val_accuracy: 0.7708\n",
      "Epoch 96/100\n",
      "20/20 [==============================] - 0s 4ms/step - loss: 0.3754 - accuracy: 0.8531 - val_loss: 0.4737 - val_accuracy: 0.7708\n",
      "Epoch 97/100\n",
      "20/20 [==============================] - 0s 4ms/step - loss: 0.3870 - accuracy: 0.8328 - val_loss: 0.4721 - val_accuracy: 0.7708\n",
      "Epoch 98/100\n",
      "20/20 [==============================] - 0s 4ms/step - loss: 0.3966 - accuracy: 0.8315 - val_loss: 0.4740 - val_accuracy: 0.7708\n",
      "Epoch 99/100\n",
      "20/20 [==============================] - 0s 4ms/step - loss: 0.3989 - accuracy: 0.8371 - val_loss: 0.4729 - val_accuracy: 0.7708\n",
      "Epoch 100/100\n",
      "20/20 [==============================] - 0s 4ms/step - loss: 0.4310 - accuracy: 0.8104 - val_loss: 0.4722 - val_accuracy: 0.7708\n"
     ]
    }
   ],
   "source": [
    "hist2 = model2.fit(X_train2, Y_train2,\n",
    "          batch_size=12, epochs=100,\n",
    "          validation_data=(X_val2, Y_val2))"
   ]
  },
  {
   "cell_type": "code",
   "execution_count": 35,
   "metadata": {},
   "outputs": [
    {
     "data": {
      "image/png": "[encoded data removed]",
      "text/plain": [
       "<Figure size 432x288 with 1 Axes>"
      ]
     },
     "metadata": {
      "needs_background": "light"
     },
     "output_type": "display_data"
    }
   ],
   "source": [
    "plt.plot(hist2.history['loss'])\n",
    "plt.plot(hist2.history['val_loss'])\n",
    "plt.title('Model loss')\n",
    "plt.ylabel('Loss')\n",
    "plt.xlabel('Epoch')\n",
    "plt.legend(['Train', 'Val'], loc='upper right')\n",
    "plt.show()"
   ]
  },
  {
   "cell_type": "code",
   "execution_count": 45,
   "metadata": {},
   "outputs": [
    {
     "data": {
      "image/png": "[encoded data removed]",
      "text/plain": [
       "<Figure size 432x288 with 1 Axes>"
      ]
     },
     "metadata": {
      "needs_background": "light"
     },
     "output_type": "display_data"
    }
   ],
   "source": [
    "plt.plot(hist2.history['accuracy'])\n",
    "plt.plot(hist2.history['val_accuracy'])\n",
    "plt.title('Model accuracy')\n",
    "plt.ylabel('Accuracy')\n",
    "plt.xlabel('Epoch')\n",
    "plt.legend(['Train', 'Val'], loc='lower right')\n",
    "plt.show()"
   ]
  },
  {
   "cell_type": "code",
   "execution_count": 46,
   "metadata": {},
   "outputs": [
    {
     "name": "stdout",
     "output_type": "stream",
     "text": [
      "1/1 [==============================] - 0s 29ms/step - loss: 0.3800 - accuracy: 1.0000\n"
     ]
    },
    {
     "data": {
      "text/plain": [
       "1.0"
      ]
     },
     "execution_count": 46,
     "metadata": {},
     "output_type": "execute_result"
    }
   ],
   "source": [
    "model2.evaluate(X_test2, Y_test2)[1]"
   ]
  },
  {
   "cell_type": "code",
   "execution_count": 38,
   "metadata": {},
   "outputs": [],
   "source": [
    "model4 = Sequential([\n",
    "    Dense(62, activation='relu', input_shape=(13,)),\n",
    "    Dense(62, activation='relu'),\n",
    "    Dense(1, activation='sigmoid'),\n",
    "])"
   ]
  },
  {
   "cell_type": "code",
   "execution_count": 39,
   "metadata": {},
   "outputs": [],
   "source": [
    "model4.compile(optimizer='sgd',\n",
    "              loss='binary_crossentropy',\n",
    "              metrics=['accuracy'])"
   ]
  },
  {
   "cell_type": "code",
   "execution_count": 40,
   "metadata": {},
   "outputs": [
    {
     "name": "stdout",
     "output_type": "stream",
     "text": [
      "Epoch 1/100\n",
      "4/4 [==============================] - 1s 72ms/step - loss: 0.7009 - accuracy: 0.5407 - val_loss: 0.7191 - val_accuracy: 0.4583\n",
      "Epoch 2/100\n",
      "4/4 [==============================] - 0s 20ms/step - loss: 0.6971 - accuracy: 0.5531 - val_loss: 0.7167 - val_accuracy: 0.4583\n",
      "Epoch 3/100\n",
      "4/4 [==============================] - 0s 22ms/step - loss: 0.6963 - accuracy: 0.5580 - val_loss: 0.7142 - val_accuracy: 0.4792\n",
      "Epoch 4/100\n",
      "4/4 [==============================] - 0s 23ms/step - loss: 0.6962 - accuracy: 0.5564 - val_loss: 0.7119 - val_accuracy: 0.4792\n",
      "Epoch 5/100\n",
      "4/4 [==============================] - 0s 22ms/step - loss: 0.6954 - accuracy: 0.5532 - val_loss: 0.7098 - val_accuracy: 0.4792\n",
      "Epoch 6/100\n",
      "4/4 [==============================] - 0s 26ms/step - loss: 0.6966 - accuracy: 0.5339 - val_loss: 0.7077 - val_accuracy: 0.5000\n",
      "Epoch 7/100\n",
      "4/4 [==============================] - 0s 20ms/step - loss: 0.6901 - accuracy: 0.5787 - val_loss: 0.7057 - val_accuracy: 0.5000\n",
      "Epoch 8/100\n",
      "4/4 [==============================] - 0s 22ms/step - loss: 0.6933 - accuracy: 0.5516 - val_loss: 0.7038 - val_accuracy: 0.5000\n",
      "Epoch 9/100\n",
      "4/4 [==============================] - 0s 24ms/step - loss: 0.6898 - accuracy: 0.5872 - val_loss: 0.7019 - val_accuracy: 0.4792\n",
      "Epoch 10/100\n",
      "4/4 [==============================] - 0s 22ms/step - loss: 0.6910 - accuracy: 0.5817 - val_loss: 0.7001 - val_accuracy: 0.5208\n",
      "Epoch 11/100\n",
      "4/4 [==============================] - 0s 24ms/step - loss: 0.6868 - accuracy: 0.6086 - val_loss: 0.6983 - val_accuracy: 0.5417\n",
      "Epoch 12/100\n",
      "4/4 [==============================] - 0s 22ms/step - loss: 0.6885 - accuracy: 0.6075 - val_loss: 0.6966 - val_accuracy: 0.5417\n",
      "Epoch 13/100\n",
      "4/4 [==============================] - 0s 25ms/step - loss: 0.6849 - accuracy: 0.6403 - val_loss: 0.6948 - val_accuracy: 0.5625\n",
      "Epoch 14/100\n",
      "4/4 [==============================] - 0s 19ms/step - loss: 0.6821 - accuracy: 0.6507 - val_loss: 0.6931 - val_accuracy: 0.5625\n",
      "Epoch 15/100\n",
      "4/4 [==============================] - 0s 19ms/step - loss: 0.6831 - accuracy: 0.6232 - val_loss: 0.6914 - val_accuracy: 0.5833\n",
      "Epoch 16/100\n",
      "4/4 [==============================] - 0s 20ms/step - loss: 0.6790 - accuracy: 0.6612 - val_loss: 0.6898 - val_accuracy: 0.6042\n",
      "Epoch 17/100\n",
      "4/4 [==============================] - 0s 23ms/step - loss: 0.6780 - accuracy: 0.6797 - val_loss: 0.6883 - val_accuracy: 0.6042\n",
      "Epoch 18/100\n",
      "4/4 [==============================] - 0s 23ms/step - loss: 0.6768 - accuracy: 0.6859 - val_loss: 0.6867 - val_accuracy: 0.6042\n",
      "Epoch 19/100\n",
      "4/4 [==============================] - 0s 23ms/step - loss: 0.6769 - accuracy: 0.6921 - val_loss: 0.6851 - val_accuracy: 0.6042\n",
      "Epoch 20/100\n",
      "4/4 [==============================] - 0s 22ms/step - loss: 0.6762 - accuracy: 0.7024 - val_loss: 0.6837 - val_accuracy: 0.6042\n",
      "Epoch 21/100\n",
      "4/4 [==============================] - 0s 26ms/step - loss: 0.6734 - accuracy: 0.7286 - val_loss: 0.6823 - val_accuracy: 0.5833\n",
      "Epoch 22/100\n",
      "4/4 [==============================] - 0s 23ms/step - loss: 0.6729 - accuracy: 0.7231 - val_loss: 0.6810 - val_accuracy: 0.5833\n",
      "Epoch 23/100\n",
      "4/4 [==============================] - 0s 23ms/step - loss: 0.6702 - accuracy: 0.7520 - val_loss: 0.6795 - val_accuracy: 0.5833\n",
      "Epoch 24/100\n",
      "4/4 [==============================] - 0s 22ms/step - loss: 0.6712 - accuracy: 0.7283 - val_loss: 0.6781 - val_accuracy: 0.5833\n",
      "Epoch 25/100\n",
      "4/4 [==============================] - 0s 22ms/step - loss: 0.6684 - accuracy: 0.7514 - val_loss: 0.6768 - val_accuracy: 0.5833\n",
      "Epoch 26/100\n",
      "4/4 [==============================] - 0s 20ms/step - loss: 0.6681 - accuracy: 0.7246 - val_loss: 0.6754 - val_accuracy: 0.6042\n",
      "Epoch 27/100\n",
      "4/4 [==============================] - 0s 19ms/step - loss: 0.6676 - accuracy: 0.7415 - val_loss: 0.6741 - val_accuracy: 0.6250\n",
      "Epoch 28/100\n",
      "4/4 [==============================] - 0s 21ms/step - loss: 0.6656 - accuracy: 0.7595 - val_loss: 0.6727 - val_accuracy: 0.6250\n",
      "Epoch 29/100\n",
      "4/4 [==============================] - 0s 24ms/step - loss: 0.6668 - accuracy: 0.7433 - val_loss: 0.6714 - val_accuracy: 0.6458\n",
      "Epoch 30/100\n",
      "4/4 [==============================] - 0s 22ms/step - loss: 0.6632 - accuracy: 0.7638 - val_loss: 0.6701 - val_accuracy: 0.6458\n",
      "Epoch 31/100\n",
      "4/4 [==============================] - 0s 23ms/step - loss: 0.6601 - accuracy: 0.7757 - val_loss: 0.6688 - val_accuracy: 0.6667\n",
      "Epoch 32/100\n",
      "4/4 [==============================] - 0s 23ms/step - loss: 0.6599 - accuracy: 0.7870 - val_loss: 0.6674 - val_accuracy: 0.6667\n",
      "Epoch 33/100\n",
      "4/4 [==============================] - 0s 21ms/step - loss: 0.6586 - accuracy: 0.7824 - val_loss: 0.6660 - val_accuracy: 0.6875\n",
      "Epoch 34/100\n",
      "4/4 [==============================] - 0s 25ms/step - loss: 0.6572 - accuracy: 0.7943 - val_loss: 0.6647 - val_accuracy: 0.6875\n",
      "Epoch 35/100\n",
      "4/4 [==============================] - 0s 19ms/step - loss: 0.6573 - accuracy: 0.7927 - val_loss: 0.6633 - val_accuracy: 0.6875\n",
      "Epoch 36/100\n",
      "4/4 [==============================] - 0s 19ms/step - loss: 0.6540 - accuracy: 0.8051 - val_loss: 0.6620 - val_accuracy: 0.7083\n",
      "Epoch 37/100\n",
      "4/4 [==============================] - 0s 21ms/step - loss: 0.6517 - accuracy: 0.8030 - val_loss: 0.6607 - val_accuracy: 0.7292\n",
      "Epoch 38/100\n",
      "4/4 [==============================] - 0s 20ms/step - loss: 0.6496 - accuracy: 0.8095 - val_loss: 0.6594 - val_accuracy: 0.7292\n",
      "Epoch 39/100\n",
      "4/4 [==============================] - 0s 19ms/step - loss: 0.6488 - accuracy: 0.8040 - val_loss: 0.6581 - val_accuracy: 0.7292\n",
      "Epoch 40/100\n",
      "4/4 [==============================] - 0s 19ms/step - loss: 0.6476 - accuracy: 0.8251 - val_loss: 0.6567 - val_accuracy: 0.7292\n",
      "Epoch 41/100\n",
      "4/4 [==============================] - 0s 19ms/step - loss: 0.6493 - accuracy: 0.7820 - val_loss: 0.6554 - val_accuracy: 0.7292\n",
      "Epoch 42/100\n",
      "4/4 [==============================] - 0s 20ms/step - loss: 0.6446 - accuracy: 0.8203 - val_loss: 0.6541 - val_accuracy: 0.7292\n",
      "Epoch 43/100\n",
      "4/4 [==============================] - 0s 19ms/step - loss: 0.6461 - accuracy: 0.8069 - val_loss: 0.6528 - val_accuracy: 0.7292\n",
      "Epoch 44/100\n",
      "4/4 [==============================] - 0s 18ms/step - loss: 0.6412 - accuracy: 0.8284 - val_loss: 0.6515 - val_accuracy: 0.7292\n",
      "Epoch 45/100\n",
      "4/4 [==============================] - 0s 17ms/step - loss: 0.6390 - accuracy: 0.8333 - val_loss: 0.6502 - val_accuracy: 0.7292\n",
      "Epoch 46/100\n",
      "4/4 [==============================] - 0s 17ms/step - loss: 0.6421 - accuracy: 0.8198 - val_loss: 0.6489 - val_accuracy: 0.7292\n",
      "Epoch 47/100\n",
      "4/4 [==============================] - 0s 18ms/step - loss: 0.6380 - accuracy: 0.8263 - val_loss: 0.6476 - val_accuracy: 0.7292\n",
      "Epoch 48/100\n",
      "4/4 [==============================] - 0s 21ms/step - loss: 0.6388 - accuracy: 0.7876 - val_loss: 0.6463 - val_accuracy: 0.7500\n",
      "Epoch 49/100\n",
      "4/4 [==============================] - 0s 18ms/step - loss: 0.6374 - accuracy: 0.7929 - val_loss: 0.6450 - val_accuracy: 0.7500\n",
      "Epoch 50/100\n",
      "4/4 [==============================] - 0s 19ms/step - loss: 0.6316 - accuracy: 0.8322 - val_loss: 0.6438 - val_accuracy: 0.7500\n",
      "Epoch 51/100\n",
      "4/4 [==============================] - 0s 19ms/step - loss: 0.6321 - accuracy: 0.8151 - val_loss: 0.6425 - val_accuracy: 0.7500\n",
      "Epoch 52/100\n",
      "4/4 [==============================] - 0s 17ms/step - loss: 0.6336 - accuracy: 0.8101 - val_loss: 0.6412 - val_accuracy: 0.7500\n",
      "Epoch 53/100\n",
      "4/4 [==============================] - 0s 17ms/step - loss: 0.6278 - accuracy: 0.8290 - val_loss: 0.6399 - val_accuracy: 0.7500\n",
      "Epoch 54/100\n",
      "4/4 [==============================] - 0s 20ms/step - loss: 0.6274 - accuracy: 0.8112 - val_loss: 0.6385 - val_accuracy: 0.7500\n",
      "Epoch 55/100\n",
      "4/4 [==============================] - 0s 18ms/step - loss: 0.6258 - accuracy: 0.8177 - val_loss: 0.6372 - val_accuracy: 0.7500\n",
      "Epoch 56/100\n",
      "4/4 [==============================] - 0s 22ms/step - loss: 0.6218 - accuracy: 0.8225 - val_loss: 0.6359 - val_accuracy: 0.7500\n",
      "Epoch 57/100\n",
      "4/4 [==============================] - 0s 17ms/step - loss: 0.6247 - accuracy: 0.8010 - val_loss: 0.6345 - val_accuracy: 0.7708\n",
      "Epoch 58/100\n",
      "4/4 [==============================] - 0s 21ms/step - loss: 0.6246 - accuracy: 0.7919 - val_loss: 0.6332 - val_accuracy: 0.7708\n",
      "Epoch 59/100\n"
     ]
    },
    {
     "name": "stdout",
     "output_type": "stream",
     "text": [
      "4/4 [==============================] - 0s 24ms/step - loss: 0.6193 - accuracy: 0.8403 - val_loss: 0.6319 - val_accuracy: 0.7708\n",
      "Epoch 60/100\n",
      "4/4 [==============================] - 0s 18ms/step - loss: 0.6230 - accuracy: 0.8010 - val_loss: 0.6306 - val_accuracy: 0.7708\n",
      "Epoch 61/100\n",
      "4/4 [==============================] - 0s 21ms/step - loss: 0.6241 - accuracy: 0.7931 - val_loss: 0.6291 - val_accuracy: 0.7708\n",
      "Epoch 62/100\n",
      "4/4 [==============================] - 0s 17ms/step - loss: 0.6137 - accuracy: 0.8161 - val_loss: 0.6278 - val_accuracy: 0.7708\n",
      "Epoch 63/100\n",
      "4/4 [==============================] - 0s 18ms/step - loss: 0.6125 - accuracy: 0.8194 - val_loss: 0.6264 - val_accuracy: 0.7917\n",
      "Epoch 64/100\n",
      "4/4 [==============================] - 0s 21ms/step - loss: 0.6154 - accuracy: 0.8254 - val_loss: 0.6250 - val_accuracy: 0.7917\n",
      "Epoch 65/100\n",
      "4/4 [==============================] - 0s 19ms/step - loss: 0.6149 - accuracy: 0.8211 - val_loss: 0.6236 - val_accuracy: 0.7917\n",
      "Epoch 66/100\n",
      "4/4 [==============================] - 0s 20ms/step - loss: 0.6137 - accuracy: 0.8032 - val_loss: 0.6222 - val_accuracy: 0.7917\n",
      "Epoch 67/100\n",
      "4/4 [==============================] - 0s 19ms/step - loss: 0.6068 - accuracy: 0.8410 - val_loss: 0.6208 - val_accuracy: 0.7917\n",
      "Epoch 68/100\n",
      "4/4 [==============================] - 0s 18ms/step - loss: 0.6069 - accuracy: 0.8481 - val_loss: 0.6194 - val_accuracy: 0.7917\n",
      "Epoch 69/100\n",
      "4/4 [==============================] - 0s 18ms/step - loss: 0.6030 - accuracy: 0.8340 - val_loss: 0.6180 - val_accuracy: 0.7917\n",
      "Epoch 70/100\n",
      "4/4 [==============================] - 0s 19ms/step - loss: 0.6058 - accuracy: 0.8341 - val_loss: 0.6166 - val_accuracy: 0.7917\n",
      "Epoch 71/100\n",
      "4/4 [==============================] - 0s 18ms/step - loss: 0.6036 - accuracy: 0.8185 - val_loss: 0.6151 - val_accuracy: 0.7917\n",
      "Epoch 72/100\n",
      "4/4 [==============================] - 0s 18ms/step - loss: 0.5999 - accuracy: 0.8162 - val_loss: 0.6136 - val_accuracy: 0.7917\n",
      "Epoch 73/100\n",
      "4/4 [==============================] - 0s 17ms/step - loss: 0.6063 - accuracy: 0.8039 - val_loss: 0.6122 - val_accuracy: 0.7917\n",
      "Epoch 74/100\n",
      "4/4 [==============================] - 0s 19ms/step - loss: 0.6001 - accuracy: 0.8427 - val_loss: 0.6107 - val_accuracy: 0.7917\n",
      "Epoch 75/100\n",
      "4/4 [==============================] - 0s 20ms/step - loss: 0.5998 - accuracy: 0.8244 - val_loss: 0.6093 - val_accuracy: 0.7917\n",
      "Epoch 76/100\n",
      "4/4 [==============================] - 0s 19ms/step - loss: 0.5981 - accuracy: 0.8168 - val_loss: 0.6078 - val_accuracy: 0.7917\n",
      "Epoch 77/100\n",
      "4/4 [==============================] - 0s 19ms/step - loss: 0.5952 - accuracy: 0.8184 - val_loss: 0.6064 - val_accuracy: 0.7917\n",
      "Epoch 78/100\n",
      "4/4 [==============================] - 0s 18ms/step - loss: 0.5935 - accuracy: 0.8211 - val_loss: 0.6050 - val_accuracy: 0.7917\n",
      "Epoch 79/100\n",
      "4/4 [==============================] - 0s 18ms/step - loss: 0.5932 - accuracy: 0.8157 - val_loss: 0.6036 - val_accuracy: 0.7917\n",
      "Epoch 80/100\n",
      "4/4 [==============================] - 0s 20ms/step - loss: 0.5874 - accuracy: 0.8358 - val_loss: 0.6022 - val_accuracy: 0.7917\n",
      "Epoch 81/100\n",
      "4/4 [==============================] - 0s 19ms/step - loss: 0.5843 - accuracy: 0.8331 - val_loss: 0.6008 - val_accuracy: 0.7917\n",
      "Epoch 82/100\n",
      "4/4 [==============================] - 0s 18ms/step - loss: 0.5811 - accuracy: 0.8514 - val_loss: 0.5993 - val_accuracy: 0.7917\n",
      "Epoch 83/100\n",
      "4/4 [==============================] - 0s 20ms/step - loss: 0.5813 - accuracy: 0.8363 - val_loss: 0.5978 - val_accuracy: 0.7917\n",
      "Epoch 84/100\n",
      "4/4 [==============================] - 0s 19ms/step - loss: 0.5827 - accuracy: 0.8250 - val_loss: 0.5964 - val_accuracy: 0.7917\n",
      "Epoch 85/100\n",
      "4/4 [==============================] - 0s 19ms/step - loss: 0.5782 - accuracy: 0.8412 - val_loss: 0.5948 - val_accuracy: 0.7917\n",
      "Epoch 86/100\n",
      "4/4 [==============================] - 0s 20ms/step - loss: 0.5761 - accuracy: 0.8315 - val_loss: 0.5934 - val_accuracy: 0.7917\n",
      "Epoch 87/100\n",
      "4/4 [==============================] - 0s 18ms/step - loss: 0.5766 - accuracy: 0.8202 - val_loss: 0.5920 - val_accuracy: 0.7917\n",
      "Epoch 88/100\n",
      "4/4 [==============================] - 0s 20ms/step - loss: 0.5751 - accuracy: 0.8376 - val_loss: 0.5904 - val_accuracy: 0.7917\n",
      "Epoch 89/100\n",
      "4/4 [==============================] - 0s 17ms/step - loss: 0.5724 - accuracy: 0.8396 - val_loss: 0.5890 - val_accuracy: 0.7917\n",
      "Epoch 90/100\n",
      "4/4 [==============================] - 0s 20ms/step - loss: 0.5703 - accuracy: 0.8478 - val_loss: 0.5875 - val_accuracy: 0.7917\n",
      "Epoch 91/100\n",
      "4/4 [==============================] - 0s 21ms/step - loss: 0.5669 - accuracy: 0.8495 - val_loss: 0.5861 - val_accuracy: 0.7917\n",
      "Epoch 92/100\n",
      "4/4 [==============================] - 0s 20ms/step - loss: 0.5625 - accuracy: 0.8418 - val_loss: 0.5845 - val_accuracy: 0.7917\n",
      "Epoch 93/100\n",
      "4/4 [==============================] - 0s 21ms/step - loss: 0.5662 - accuracy: 0.8326 - val_loss: 0.5831 - val_accuracy: 0.7917\n",
      "Epoch 94/100\n",
      "4/4 [==============================] - 0s 19ms/step - loss: 0.5601 - accuracy: 0.8488 - val_loss: 0.5815 - val_accuracy: 0.7917\n",
      "Epoch 95/100\n",
      "4/4 [==============================] - 0s 21ms/step - loss: 0.5587 - accuracy: 0.8359 - val_loss: 0.5799 - val_accuracy: 0.7917\n",
      "Epoch 96/100\n",
      "4/4 [==============================] - 0s 18ms/step - loss: 0.5600 - accuracy: 0.8402 - val_loss: 0.5783 - val_accuracy: 0.7917\n",
      "Epoch 97/100\n",
      "4/4 [==============================] - 0s 20ms/step - loss: 0.5590 - accuracy: 0.8617 - val_loss: 0.5766 - val_accuracy: 0.7917\n",
      "Epoch 98/100\n",
      "4/4 [==============================] - 0s 20ms/step - loss: 0.5622 - accuracy: 0.8311 - val_loss: 0.5750 - val_accuracy: 0.7917\n",
      "Epoch 99/100\n",
      "4/4 [==============================] - 0s 20ms/step - loss: 0.5446 - accuracy: 0.8553 - val_loss: 0.5735 - val_accuracy: 0.7917\n",
      "Epoch 100/100\n",
      "4/4 [==============================] - 0s 17ms/step - loss: 0.5441 - accuracy: 0.8666 - val_loss: 0.5721 - val_accuracy: 0.7917\n"
     ]
    }
   ],
   "source": [
    "hist4 = model4.fit(X_train2, Y_train2,\n",
    "          batch_size=62, epochs=100,\n",
    "          validation_data=(X_val2, Y_val2))"
   ]
  },
  {
   "cell_type": "code",
   "execution_count": 41,
   "metadata": {},
   "outputs": [
    {
     "data": {
      "image/png": "[encoded data removed]",
      "text/plain": [
       "<Figure size 432x288 with 1 Axes>"
      ]
     },
     "metadata": {
      "needs_background": "light"
     },
     "output_type": "display_data"
    }
   ],
   "source": [
    "plt.plot(hist4.history['loss'])\n",
    "plt.plot(hist4.history['val_loss'])\n",
    "plt.title('Model loss')\n",
    "plt.ylabel('Loss')\n",
    "plt.xlabel('Epoch')\n",
    "plt.legend(['Train', 'Val'], loc='upper right')\n",
    "plt.show()"
   ]
  },
  {
   "cell_type": "code",
   "execution_count": 42,
   "metadata": {},
   "outputs": [
    {
     "data": {
      "image/png": "[encoded data removed]",
      "text/plain": [
       "<Figure size 432x288 with 1 Axes>"
      ]
     },
     "metadata": {
      "needs_background": "light"
     },
     "output_type": "display_data"
    }
   ],
   "source": [
    "plt.plot(hist4.history['accuracy'])\n",
    "plt.plot(hist4.history['val_accuracy'])\n",
    "plt.title('Model accuracy')\n",
    "plt.ylabel('Accuracy')\n",
    "plt.xlabel('Epoch')\n",
    "plt.legend(['Train', 'Val'], loc='lower right')\n",
    "plt.show()"
   ]
  },
  {
   "cell_type": "code",
   "execution_count": 43,
   "metadata": {},
   "outputs": [
    {
     "name": "stdout",
     "output_type": "stream",
     "text": [
      "1/1 [==============================] - 0s 26ms/step - loss: 0.5855 - accuracy: 0.9167\n"
     ]
    },
    {
     "data": {
      "text/plain": [
       "0.9166666865348816"
      ]
     },
     "execution_count": 43,
     "metadata": {},
     "output_type": "execute_result"
    }
   ],
   "source": [
    "model4.evaluate(X_test2, Y_test2)[1]"
   ]
  },
  {
   "cell_type": "code",
   "execution_count": null,
   "metadata": {},
   "outputs": [],
   "source": []
  },
  {
   "cell_type": "code",
   "execution_count": null,
   "metadata": {},
   "outputs": [],
   "source": []
  }
 ],
 "metadata": {
  "kernelspec": {
   "display_name": "Python 3",
   "language": "python",
   "name": "python3"
  },
  "language_info": {
   "codemirror_mode": {
    "name": "ipython",
    "version": 3
   },
   "file_extension": ".py",
   "mimetype": "text/x-python",
   "name": "python",
   "nbconvert_exporter": "python",
   "pygments_lexer": "ipython3",
   "version": "3.8.5"
  }
 },
 "nbformat": 4,
 "nbformat_minor": 4
}
