{
 "cells": [
  {
   "cell_type": "code",
   "execution_count": 100,
   "metadata": {},
   "outputs": [],
   "source": [
    "import numpy as np\n",
    "import pandas as pd\n",
    "from sklearn.datasets import load_iris\n",
    "from sklearn.tree import DecisionTreeClassifier\n",
    "from sklearn.model_selection import GridSearchCV\n",
    "from sklearn.model_selection import train_test_split\n",
    "from sklearn.metrics import accuracy_score\n",
    "from sklearn import preprocessing\n",
    "import sklearn\n",
    "sklearn.__version__\n",
    "%matplotlib inline\n",
    "from matplotlib import pyplot as plt\n",
    "from keras.models import Sequential\n",
    "from keras.layers import Dense\n",
    "import matplotlib.pyplot as plt\n",
    "#from sklearn.tree"
   ]
  },
  {
   "cell_type": "code",
   "execution_count": 101,
   "metadata": {},
   "outputs": [
    {
     "data": {
      "text/html": [
       "<div>\n",
       "<style scoped>\n",
       "    .dataframe tbody tr th:only-of-type {\n",
       "        vertical-align: middle;\n",
       "    }\n",
       "\n",
       "    .dataframe tbody tr th {\n",
       "        vertical-align: top;\n",
       "    }\n",
       "\n",
       "    .dataframe thead th {\n",
       "        text-align: right;\n",
       "    }\n",
       "</style>\n",
       "<table border=\"1\" class=\"dataframe\">\n",
       "  <thead>\n",
       "    <tr style=\"text-align: right;\">\n",
       "      <th></th>\n",
       "      <th>LotArea</th>\n",
       "      <th>OverallQual</th>\n",
       "      <th>OverallCond</th>\n",
       "      <th>TotalBsmtSF</th>\n",
       "      <th>FullBath</th>\n",
       "      <th>HalfBath</th>\n",
       "      <th>BedroomAbvGr</th>\n",
       "      <th>TotRmsAbvGrd</th>\n",
       "      <th>Fireplaces</th>\n",
       "      <th>GarageArea</th>\n",
       "      <th>AboveMedianPrice</th>\n",
       "    </tr>\n",
       "  </thead>\n",
       "  <tbody>\n",
       "    <tr>\n",
       "      <th>0</th>\n",
       "      <td>8450</td>\n",
       "      <td>7</td>\n",
       "      <td>5</td>\n",
       "      <td>856</td>\n",
       "      <td>2</td>\n",
       "      <td>1</td>\n",
       "      <td>3</td>\n",
       "      <td>8</td>\n",
       "      <td>0</td>\n",
       "      <td>548</td>\n",
       "      <td>1</td>\n",
       "    </tr>\n",
       "    <tr>\n",
       "      <th>1</th>\n",
       "      <td>9600</td>\n",
       "      <td>6</td>\n",
       "      <td>8</td>\n",
       "      <td>1262</td>\n",
       "      <td>2</td>\n",
       "      <td>0</td>\n",
       "      <td>3</td>\n",
       "      <td>6</td>\n",
       "      <td>1</td>\n",
       "      <td>460</td>\n",
       "      <td>1</td>\n",
       "    </tr>\n",
       "    <tr>\n",
       "      <th>2</th>\n",
       "      <td>11250</td>\n",
       "      <td>7</td>\n",
       "      <td>5</td>\n",
       "      <td>920</td>\n",
       "      <td>2</td>\n",
       "      <td>1</td>\n",
       "      <td>3</td>\n",
       "      <td>6</td>\n",
       "      <td>1</td>\n",
       "      <td>608</td>\n",
       "      <td>1</td>\n",
       "    </tr>\n",
       "    <tr>\n",
       "      <th>3</th>\n",
       "      <td>9550</td>\n",
       "      <td>7</td>\n",
       "      <td>5</td>\n",
       "      <td>756</td>\n",
       "      <td>1</td>\n",
       "      <td>0</td>\n",
       "      <td>3</td>\n",
       "      <td>7</td>\n",
       "      <td>1</td>\n",
       "      <td>642</td>\n",
       "      <td>0</td>\n",
       "    </tr>\n",
       "    <tr>\n",
       "      <th>4</th>\n",
       "      <td>14260</td>\n",
       "      <td>8</td>\n",
       "      <td>5</td>\n",
       "      <td>1145</td>\n",
       "      <td>2</td>\n",
       "      <td>1</td>\n",
       "      <td>4</td>\n",
       "      <td>9</td>\n",
       "      <td>1</td>\n",
       "      <td>836</td>\n",
       "      <td>1</td>\n",
       "    </tr>\n",
       "    <tr>\n",
       "      <th>...</th>\n",
       "      <td>...</td>\n",
       "      <td>...</td>\n",
       "      <td>...</td>\n",
       "      <td>...</td>\n",
       "      <td>...</td>\n",
       "      <td>...</td>\n",
       "      <td>...</td>\n",
       "      <td>...</td>\n",
       "      <td>...</td>\n",
       "      <td>...</td>\n",
       "      <td>...</td>\n",
       "    </tr>\n",
       "    <tr>\n",
       "      <th>1455</th>\n",
       "      <td>7917</td>\n",
       "      <td>6</td>\n",
       "      <td>5</td>\n",
       "      <td>953</td>\n",
       "      <td>2</td>\n",
       "      <td>1</td>\n",
       "      <td>3</td>\n",
       "      <td>7</td>\n",
       "      <td>1</td>\n",
       "      <td>460</td>\n",
       "      <td>1</td>\n",
       "    </tr>\n",
       "    <tr>\n",
       "      <th>1456</th>\n",
       "      <td>13175</td>\n",
       "      <td>6</td>\n",
       "      <td>6</td>\n",
       "      <td>1542</td>\n",
       "      <td>2</td>\n",
       "      <td>0</td>\n",
       "      <td>3</td>\n",
       "      <td>7</td>\n",
       "      <td>2</td>\n",
       "      <td>500</td>\n",
       "      <td>1</td>\n",
       "    </tr>\n",
       "    <tr>\n",
       "      <th>1457</th>\n",
       "      <td>9042</td>\n",
       "      <td>7</td>\n",
       "      <td>9</td>\n",
       "      <td>1152</td>\n",
       "      <td>2</td>\n",
       "      <td>0</td>\n",
       "      <td>4</td>\n",
       "      <td>9</td>\n",
       "      <td>2</td>\n",
       "      <td>252</td>\n",
       "      <td>1</td>\n",
       "    </tr>\n",
       "    <tr>\n",
       "      <th>1458</th>\n",
       "      <td>9717</td>\n",
       "      <td>5</td>\n",
       "      <td>6</td>\n",
       "      <td>1078</td>\n",
       "      <td>1</td>\n",
       "      <td>0</td>\n",
       "      <td>2</td>\n",
       "      <td>5</td>\n",
       "      <td>0</td>\n",
       "      <td>240</td>\n",
       "      <td>0</td>\n",
       "    </tr>\n",
       "    <tr>\n",
       "      <th>1459</th>\n",
       "      <td>9937</td>\n",
       "      <td>5</td>\n",
       "      <td>6</td>\n",
       "      <td>1256</td>\n",
       "      <td>1</td>\n",
       "      <td>1</td>\n",
       "      <td>3</td>\n",
       "      <td>6</td>\n",
       "      <td>0</td>\n",
       "      <td>276</td>\n",
       "      <td>0</td>\n",
       "    </tr>\n",
       "  </tbody>\n",
       "</table>\n",
       "<p>1460 rows × 11 columns</p>\n",
       "</div>"
      ],
      "text/plain": [
       "      LotArea  OverallQual  OverallCond  TotalBsmtSF  FullBath  HalfBath  \\\n",
       "0        8450            7            5          856         2         1   \n",
       "1        9600            6            8         1262         2         0   \n",
       "2       11250            7            5          920         2         1   \n",
       "3        9550            7            5          756         1         0   \n",
       "4       14260            8            5         1145         2         1   \n",
       "...       ...          ...          ...          ...       ...       ...   \n",
       "1455     7917            6            5          953         2         1   \n",
       "1456    13175            6            6         1542         2         0   \n",
       "1457     9042            7            9         1152         2         0   \n",
       "1458     9717            5            6         1078         1         0   \n",
       "1459     9937            5            6         1256         1         1   \n",
       "\n",
       "      BedroomAbvGr  TotRmsAbvGrd  Fireplaces  GarageArea  AboveMedianPrice  \n",
       "0                3             8           0         548                 1  \n",
       "1                3             6           1         460                 1  \n",
       "2                3             6           1         608                 1  \n",
       "3                3             7           1         642                 0  \n",
       "4                4             9           1         836                 1  \n",
       "...            ...           ...         ...         ...               ...  \n",
       "1455             3             7           1         460                 1  \n",
       "1456             3             7           2         500                 1  \n",
       "1457             4             9           2         252                 1  \n",
       "1458             2             5           0         240                 0  \n",
       "1459             3             6           0         276                 0  \n",
       "\n",
       "[1460 rows x 11 columns]"
      ]
     },
     "execution_count": 101,
     "metadata": {},
     "output_type": "execute_result"
    }
   ],
   "source": [
    "#columns = ['age', 'sex', 'cp', 'trestbps', 'chol', 'fbs', 'restecg', 'thalach', 'exang', 'oldpeak', 'slope', 'ca', 'thal', 'num']\n",
    "#df = pd.read_csv('../cleaned_processed.cleveland.data',header=None,names = columns)\n",
    "df = pd.read_csv('../housepricedata.csv')\n",
    "df"
   ]
  },
  {
   "cell_type": "code",
   "execution_count": 102,
   "metadata": {},
   "outputs": [],
   "source": [
    "dataset = df.values"
   ]
  },
  {
   "cell_type": "code",
   "execution_count": 103,
   "metadata": {},
   "outputs": [
    {
     "data": {
      "text/plain": [
       "array([[ 8450,     7,     5, ...,     0,   548,     1],\n",
       "       [ 9600,     6,     8, ...,     1,   460,     1],\n",
       "       [11250,     7,     5, ...,     1,   608,     1],\n",
       "       ...,\n",
       "       [ 9042,     7,     9, ...,     2,   252,     1],\n",
       "       [ 9717,     5,     6, ...,     0,   240,     0],\n",
       "       [ 9937,     5,     6, ...,     0,   276,     0]])"
      ]
     },
     "execution_count": 103,
     "metadata": {},
     "output_type": "execute_result"
    }
   ],
   "source": [
    "dataset "
   ]
  },
  {
   "cell_type": "code",
   "execution_count": 104,
   "metadata": {},
   "outputs": [],
   "source": [
    "X = dataset[:,0:10]\n",
    "Y = dataset[:,10]"
   ]
  },
  {
   "cell_type": "code",
   "execution_count": 105,
   "metadata": {},
   "outputs": [],
   "source": [
    "min_max_scaler = preprocessing.MinMaxScaler()\n",
    "X_scale = min_max_scaler.fit_transform(X)"
   ]
  },
  {
   "cell_type": "code",
   "execution_count": 106,
   "metadata": {},
   "outputs": [
    {
     "data": {
      "text/plain": [
       "array([[0.0334198 , 0.66666667, 0.5       , ..., 0.5       , 0.        ,\n",
       "        0.3864598 ],\n",
       "       [0.03879502, 0.55555556, 0.875     , ..., 0.33333333, 0.33333333,\n",
       "        0.32440056],\n",
       "       [0.04650728, 0.66666667, 0.5       , ..., 0.33333333, 0.33333333,\n",
       "        0.42877292],\n",
       "       ...,\n",
       "       [0.03618687, 0.66666667, 1.        , ..., 0.58333333, 0.66666667,\n",
       "        0.17771509],\n",
       "       [0.03934189, 0.44444444, 0.625     , ..., 0.25      , 0.        ,\n",
       "        0.16925247],\n",
       "       [0.04037019, 0.44444444, 0.625     , ..., 0.33333333, 0.        ,\n",
       "        0.19464034]])"
      ]
     },
     "execution_count": 106,
     "metadata": {},
     "output_type": "execute_result"
    }
   ],
   "source": [
    "X_scale"
   ]
  },
  {
   "cell_type": "code",
   "execution_count": 107,
   "metadata": {},
   "outputs": [],
   "source": [
    "X_train, X_val_and_test, Y_train, Y_val_and_test = train_test_split(X_scale, Y, test_size=0.2)\n"
   ]
  },
  {
   "cell_type": "code",
   "execution_count": 108,
   "metadata": {},
   "outputs": [],
   "source": [
    "X_val, X_test, Y_val, Y_test = train_test_split(X_val_and_test, Y_val_and_test, test_size=0.2)"
   ]
  },
  {
   "cell_type": "code",
   "execution_count": 109,
   "metadata": {},
   "outputs": [
    {
     "name": "stdout",
     "output_type": "stream",
     "text": [
      "(1168, 10) (233, 10) (59, 10) (1168,) (233,) (59,)\n"
     ]
    }
   ],
   "source": [
    "print(X_train.shape, X_val.shape, X_test.shape, Y_train.shape, Y_val.shape, Y_test.shape)\n"
   ]
  },
  {
   "cell_type": "code",
   "execution_count": 110,
   "metadata": {},
   "outputs": [],
   "source": [
    "model = Sequential([\n",
    "    Dense(12, activation='relu', input_shape=(10,)),\n",
    "    Dense(12, activation='relu'),\n",
    "    Dense(1, activation='sigmoid'),\n",
    "])"
   ]
  },
  {
   "cell_type": "code",
   "execution_count": 111,
   "metadata": {},
   "outputs": [],
   "source": [
    "model.compile(optimizer='sgd',\n",
    "              loss='binary_crossentropy',\n",
    "              metrics=['accuracy'])"
   ]
  },
  {
   "cell_type": "code",
   "execution_count": 112,
   "metadata": {},
   "outputs": [
    {
     "name": "stdout",
     "output_type": "stream",
     "text": [
      "Epoch 1/100\n",
      "98/98 [==============================] - 1s 6ms/step - loss: 0.6983 - accuracy: 0.4435 - val_loss: 0.6784 - val_accuracy: 0.5622\n",
      "Epoch 2/100\n",
      "98/98 [==============================] - 0s 2ms/step - loss: 0.6760 - accuracy: 0.5453 - val_loss: 0.6631 - val_accuracy: 0.5579\n",
      "Epoch 3/100\n",
      "98/98 [==============================] - 0s 2ms/step - loss: 0.6610 - accuracy: 0.6101 - val_loss: 0.6505 - val_accuracy: 0.6953\n",
      "Epoch 4/100\n",
      "98/98 [==============================] - 0s 2ms/step - loss: 0.6468 - accuracy: 0.6886 - val_loss: 0.6365 - val_accuracy: 0.7682\n",
      "Epoch 5/100\n",
      "98/98 [==============================] - 0s 2ms/step - loss: 0.6339 - accuracy: 0.7554 - val_loss: 0.6198 - val_accuracy: 0.7725\n",
      "Epoch 6/100\n",
      "98/98 [==============================] - 0s 2ms/step - loss: 0.6160 - accuracy: 0.7886 - val_loss: 0.6027 - val_accuracy: 0.8069\n",
      "Epoch 7/100\n",
      "98/98 [==============================] - 0s 2ms/step - loss: 0.5985 - accuracy: 0.8144 - val_loss: 0.5807 - val_accuracy: 0.7983\n",
      "Epoch 8/100\n",
      "98/98 [==============================] - 0s 2ms/step - loss: 0.5716 - accuracy: 0.8370 - val_loss: 0.5572 - val_accuracy: 0.7983\n",
      "Epoch 9/100\n",
      "98/98 [==============================] - 0s 2ms/step - loss: 0.5527 - accuracy: 0.8307 - val_loss: 0.5352 - val_accuracy: 0.8412\n",
      "Epoch 10/100\n",
      "98/98 [==============================] - 0s 2ms/step - loss: 0.5317 - accuracy: 0.8571 - val_loss: 0.5076 - val_accuracy: 0.8326\n",
      "Epoch 11/100\n",
      "98/98 [==============================] - 0s 2ms/step - loss: 0.5022 - accuracy: 0.8562 - val_loss: 0.4780 - val_accuracy: 0.8283\n",
      "Epoch 12/100\n",
      "98/98 [==============================] - 0s 2ms/step - loss: 0.4682 - accuracy: 0.8693 - val_loss: 0.4503 - val_accuracy: 0.8369\n",
      "Epoch 13/100\n",
      "98/98 [==============================] - 0s 2ms/step - loss: 0.4410 - accuracy: 0.8694 - val_loss: 0.4236 - val_accuracy: 0.8412\n",
      "Epoch 14/100\n",
      "98/98 [==============================] - 0s 2ms/step - loss: 0.4082 - accuracy: 0.8850 - val_loss: 0.4031 - val_accuracy: 0.8498\n",
      "Epoch 15/100\n",
      "98/98 [==============================] - 0s 2ms/step - loss: 0.3844 - accuracy: 0.8774 - val_loss: 0.3850 - val_accuracy: 0.8455\n",
      "Epoch 16/100\n",
      "98/98 [==============================] - 0s 2ms/step - loss: 0.3610 - accuracy: 0.8857 - val_loss: 0.3700 - val_accuracy: 0.8498\n",
      "Epoch 17/100\n",
      "98/98 [==============================] - 0s 3ms/step - loss: 0.3615 - accuracy: 0.8809 - val_loss: 0.3615 - val_accuracy: 0.8584\n",
      "Epoch 18/100\n",
      "98/98 [==============================] - 0s 2ms/step - loss: 0.3408 - accuracy: 0.8884 - val_loss: 0.3467 - val_accuracy: 0.8498\n",
      "Epoch 19/100\n",
      "98/98 [==============================] - 0s 3ms/step - loss: 0.3415 - accuracy: 0.8699 - val_loss: 0.3378 - val_accuracy: 0.8584\n",
      "Epoch 20/100\n",
      "98/98 [==============================] - 0s 3ms/step - loss: 0.3407 - accuracy: 0.8826 - val_loss: 0.3307 - val_accuracy: 0.8541\n",
      "Epoch 21/100\n",
      "98/98 [==============================] - 0s 3ms/step - loss: 0.3166 - accuracy: 0.8760 - val_loss: 0.3247 - val_accuracy: 0.8498\n",
      "Epoch 22/100\n",
      "98/98 [==============================] - 0s 3ms/step - loss: 0.3021 - accuracy: 0.8984 - val_loss: 0.3278 - val_accuracy: 0.8712\n",
      "Epoch 23/100\n",
      "98/98 [==============================] - 0s 3ms/step - loss: 0.3092 - accuracy: 0.8904 - val_loss: 0.3150 - val_accuracy: 0.8455\n",
      "Epoch 24/100\n",
      "98/98 [==============================] - 0s 2ms/step - loss: 0.3239 - accuracy: 0.8737 - val_loss: 0.3151 - val_accuracy: 0.8541\n",
      "Epoch 25/100\n",
      "98/98 [==============================] - 0s 2ms/step - loss: 0.2909 - accuracy: 0.8976 - val_loss: 0.3100 - val_accuracy: 0.8498\n",
      "Epoch 26/100\n",
      "98/98 [==============================] - 0s 3ms/step - loss: 0.2962 - accuracy: 0.8854 - val_loss: 0.3065 - val_accuracy: 0.8498\n",
      "Epoch 27/100\n",
      "98/98 [==============================] - 0s 2ms/step - loss: 0.3130 - accuracy: 0.8684 - val_loss: 0.3032 - val_accuracy: 0.8627\n",
      "Epoch 28/100\n",
      "98/98 [==============================] - 0s 2ms/step - loss: 0.2912 - accuracy: 0.8889 - val_loss: 0.3016 - val_accuracy: 0.8627\n",
      "Epoch 29/100\n",
      "98/98 [==============================] - 0s 2ms/step - loss: 0.2719 - accuracy: 0.8948 - val_loss: 0.2994 - val_accuracy: 0.8584\n",
      "Epoch 30/100\n",
      "98/98 [==============================] - 0s 2ms/step - loss: 0.2659 - accuracy: 0.8971 - val_loss: 0.2978 - val_accuracy: 0.8584\n",
      "Epoch 31/100\n",
      "98/98 [==============================] - 0s 2ms/step - loss: 0.2737 - accuracy: 0.8944 - val_loss: 0.2987 - val_accuracy: 0.8584\n",
      "Epoch 32/100\n",
      "98/98 [==============================] - 0s 2ms/step - loss: 0.2721 - accuracy: 0.8937 - val_loss: 0.3031 - val_accuracy: 0.8584\n",
      "Epoch 33/100\n",
      "98/98 [==============================] - 0s 2ms/step - loss: 0.2682 - accuracy: 0.8857 - val_loss: 0.2944 - val_accuracy: 0.8670\n",
      "Epoch 34/100\n",
      "98/98 [==============================] - 0s 2ms/step - loss: 0.2853 - accuracy: 0.8914 - val_loss: 0.2921 - val_accuracy: 0.8670\n",
      "Epoch 35/100\n",
      "98/98 [==============================] - 0s 2ms/step - loss: 0.2727 - accuracy: 0.8746 - val_loss: 0.2931 - val_accuracy: 0.8670\n",
      "Epoch 36/100\n",
      "98/98 [==============================] - 0s 2ms/step - loss: 0.2607 - accuracy: 0.9041 - val_loss: 0.2910 - val_accuracy: 0.8755\n",
      "Epoch 37/100\n",
      "98/98 [==============================] - 0s 2ms/step - loss: 0.2513 - accuracy: 0.8978 - val_loss: 0.2903 - val_accuracy: 0.8755\n",
      "Epoch 38/100\n",
      "98/98 [==============================] - 0s 2ms/step - loss: 0.2664 - accuracy: 0.8942 - val_loss: 0.2882 - val_accuracy: 0.8627\n",
      "Epoch 39/100\n",
      "98/98 [==============================] - 0s 2ms/step - loss: 0.2468 - accuracy: 0.9088 - val_loss: 0.2877 - val_accuracy: 0.8755\n",
      "Epoch 40/100\n",
      "98/98 [==============================] - 0s 2ms/step - loss: 0.2650 - accuracy: 0.9005 - val_loss: 0.2856 - val_accuracy: 0.8712\n",
      "Epoch 41/100\n",
      "98/98 [==============================] - 0s 2ms/step - loss: 0.2680 - accuracy: 0.8959 - val_loss: 0.2896 - val_accuracy: 0.8670\n",
      "Epoch 42/100\n",
      "98/98 [==============================] - 0s 2ms/step - loss: 0.2495 - accuracy: 0.9021 - val_loss: 0.2848 - val_accuracy: 0.8670\n",
      "Epoch 43/100\n",
      "98/98 [==============================] - 0s 2ms/step - loss: 0.2525 - accuracy: 0.9052 - val_loss: 0.2918 - val_accuracy: 0.8584\n",
      "Epoch 44/100\n",
      "98/98 [==============================] - 0s 2ms/step - loss: 0.2641 - accuracy: 0.8954 - val_loss: 0.2833 - val_accuracy: 0.8755\n",
      "Epoch 45/100\n",
      "98/98 [==============================] - 0s 2ms/step - loss: 0.3189 - accuracy: 0.8833 - val_loss: 0.2889 - val_accuracy: 0.8584\n",
      "Epoch 46/100\n",
      "98/98 [==============================] - 0s 2ms/step - loss: 0.2559 - accuracy: 0.8968 - val_loss: 0.2958 - val_accuracy: 0.8498\n",
      "Epoch 47/100\n",
      "98/98 [==============================] - 0s 3ms/step - loss: 0.2734 - accuracy: 0.8965 - val_loss: 0.2889 - val_accuracy: 0.8627\n",
      "Epoch 48/100\n",
      "98/98 [==============================] - 0s 2ms/step - loss: 0.2252 - accuracy: 0.9117 - val_loss: 0.2978 - val_accuracy: 0.8498\n",
      "Epoch 49/100\n",
      "98/98 [==============================] - 0s 2ms/step - loss: 0.2284 - accuracy: 0.9076 - val_loss: 0.2842 - val_accuracy: 0.8712\n",
      "Epoch 50/100\n",
      "98/98 [==============================] - 0s 3ms/step - loss: 0.2578 - accuracy: 0.8974 - val_loss: 0.2812 - val_accuracy: 0.8755\n",
      "Epoch 51/100\n",
      "98/98 [==============================] - 0s 2ms/step - loss: 0.2700 - accuracy: 0.8963 - val_loss: 0.2859 - val_accuracy: 0.8670\n",
      "Epoch 52/100\n",
      "98/98 [==============================] - 0s 3ms/step - loss: 0.2696 - accuracy: 0.9009 - val_loss: 0.2840 - val_accuracy: 0.8712\n",
      "Epoch 53/100\n",
      "98/98 [==============================] - 0s 2ms/step - loss: 0.2308 - accuracy: 0.9042 - val_loss: 0.2785 - val_accuracy: 0.8798\n",
      "Epoch 54/100\n",
      "98/98 [==============================] - 0s 2ms/step - loss: 0.2445 - accuracy: 0.9024 - val_loss: 0.2804 - val_accuracy: 0.8755\n",
      "Epoch 55/100\n",
      "98/98 [==============================] - 0s 4ms/step - loss: 0.2494 - accuracy: 0.8918 - val_loss: 0.2777 - val_accuracy: 0.8798\n",
      "Epoch 56/100\n",
      "98/98 [==============================] - 0s 4ms/step - loss: 0.2390 - accuracy: 0.8972 - val_loss: 0.2768 - val_accuracy: 0.8798\n",
      "Epoch 57/100\n",
      "98/98 [==============================] - 0s 2ms/step - loss: 0.2504 - accuracy: 0.9106 - val_loss: 0.2777 - val_accuracy: 0.8798\n",
      "Epoch 58/100\n",
      "98/98 [==============================] - 0s 2ms/step - loss: 0.2502 - accuracy: 0.8936 - val_loss: 0.2825 - val_accuracy: 0.8712\n"
     ]
    },
    {
     "name": "stdout",
     "output_type": "stream",
     "text": [
      "Epoch 59/100\n",
      "98/98 [==============================] - 0s 3ms/step - loss: 0.2451 - accuracy: 0.9061 - val_loss: 0.2771 - val_accuracy: 0.8798\n",
      "Epoch 60/100\n",
      "98/98 [==============================] - 0s 3ms/step - loss: 0.2374 - accuracy: 0.9021 - val_loss: 0.2850 - val_accuracy: 0.8670\n",
      "Epoch 61/100\n",
      "98/98 [==============================] - 0s 2ms/step - loss: 0.2694 - accuracy: 0.8902 - val_loss: 0.2767 - val_accuracy: 0.8755\n",
      "Epoch 62/100\n",
      "98/98 [==============================] - 0s 2ms/step - loss: 0.2348 - accuracy: 0.8975 - val_loss: 0.2927 - val_accuracy: 0.8841\n",
      "Epoch 63/100\n",
      "98/98 [==============================] - 0s 2ms/step - loss: 0.2547 - accuracy: 0.9023 - val_loss: 0.2755 - val_accuracy: 0.8755\n",
      "Epoch 64/100\n",
      "98/98 [==============================] - 0s 2ms/step - loss: 0.2583 - accuracy: 0.8953 - val_loss: 0.2794 - val_accuracy: 0.8798\n",
      "Epoch 65/100\n",
      "98/98 [==============================] - 0s 2ms/step - loss: 0.2477 - accuracy: 0.8956 - val_loss: 0.2829 - val_accuracy: 0.8670\n",
      "Epoch 66/100\n",
      "98/98 [==============================] - 0s 2ms/step - loss: 0.2506 - accuracy: 0.8984 - val_loss: 0.2759 - val_accuracy: 0.8798\n",
      "Epoch 67/100\n",
      "98/98 [==============================] - 0s 2ms/step - loss: 0.2513 - accuracy: 0.8983 - val_loss: 0.2754 - val_accuracy: 0.8798\n",
      "Epoch 68/100\n",
      "98/98 [==============================] - 0s 2ms/step - loss: 0.2516 - accuracy: 0.9010 - val_loss: 0.2772 - val_accuracy: 0.8798\n",
      "Epoch 69/100\n",
      "98/98 [==============================] - 0s 2ms/step - loss: 0.2723 - accuracy: 0.9019 - val_loss: 0.2735 - val_accuracy: 0.8798\n",
      "Epoch 70/100\n",
      "98/98 [==============================] - 0s 2ms/step - loss: 0.2445 - accuracy: 0.9014 - val_loss: 0.2725 - val_accuracy: 0.8798\n",
      "Epoch 71/100\n",
      "98/98 [==============================] - 0s 2ms/step - loss: 0.2771 - accuracy: 0.8791 - val_loss: 0.2800 - val_accuracy: 0.8841\n",
      "Epoch 72/100\n",
      "98/98 [==============================] - 0s 2ms/step - loss: 0.2417 - accuracy: 0.8969 - val_loss: 0.2718 - val_accuracy: 0.8755\n",
      "Epoch 73/100\n",
      "98/98 [==============================] - 0s 2ms/step - loss: 0.2430 - accuracy: 0.9039 - val_loss: 0.2731 - val_accuracy: 0.8798\n",
      "Epoch 74/100\n",
      "98/98 [==============================] - 0s 2ms/step - loss: 0.2550 - accuracy: 0.9015 - val_loss: 0.2713 - val_accuracy: 0.8755\n",
      "Epoch 75/100\n",
      "98/98 [==============================] - 0s 2ms/step - loss: 0.2020 - accuracy: 0.9208 - val_loss: 0.2710 - val_accuracy: 0.8798\n",
      "Epoch 76/100\n",
      "98/98 [==============================] - 0s 2ms/step - loss: 0.2407 - accuracy: 0.9094 - val_loss: 0.2709 - val_accuracy: 0.8755\n",
      "Epoch 77/100\n",
      "98/98 [==============================] - 0s 2ms/step - loss: 0.2436 - accuracy: 0.8936 - val_loss: 0.2710 - val_accuracy: 0.8841\n",
      "Epoch 78/100\n",
      "98/98 [==============================] - 0s 2ms/step - loss: 0.2631 - accuracy: 0.8923 - val_loss: 0.2782 - val_accuracy: 0.8670\n",
      "Epoch 79/100\n",
      "98/98 [==============================] - 0s 2ms/step - loss: 0.2586 - accuracy: 0.9029 - val_loss: 0.2708 - val_accuracy: 0.8798\n",
      "Epoch 80/100\n",
      "98/98 [==============================] - 0s 2ms/step - loss: 0.2486 - accuracy: 0.9054 - val_loss: 0.2750 - val_accuracy: 0.8798\n",
      "Epoch 81/100\n",
      "98/98 [==============================] - 0s 2ms/step - loss: 0.2608 - accuracy: 0.8970 - val_loss: 0.2746 - val_accuracy: 0.8798\n",
      "Epoch 82/100\n",
      "98/98 [==============================] - 0s 2ms/step - loss: 0.2436 - accuracy: 0.8993 - val_loss: 0.2711 - val_accuracy: 0.8712\n",
      "Epoch 83/100\n",
      "98/98 [==============================] - 0s 2ms/step - loss: 0.2387 - accuracy: 0.9168 - val_loss: 0.2759 - val_accuracy: 0.8798\n",
      "Epoch 84/100\n",
      "98/98 [==============================] - 0s 2ms/step - loss: 0.2726 - accuracy: 0.9055 - val_loss: 0.2720 - val_accuracy: 0.8884\n",
      "Epoch 85/100\n",
      "98/98 [==============================] - 0s 2ms/step - loss: 0.2539 - accuracy: 0.8894 - val_loss: 0.2688 - val_accuracy: 0.8798\n",
      "Epoch 86/100\n",
      "98/98 [==============================] - 0s 3ms/step - loss: 0.2185 - accuracy: 0.9128 - val_loss: 0.2686 - val_accuracy: 0.8755\n",
      "Epoch 87/100\n",
      "98/98 [==============================] - 0s 2ms/step - loss: 0.2434 - accuracy: 0.9080 - val_loss: 0.2715 - val_accuracy: 0.8884\n",
      "Epoch 88/100\n",
      "98/98 [==============================] - 0s 2ms/step - loss: 0.2443 - accuracy: 0.8991 - val_loss: 0.2709 - val_accuracy: 0.8884\n",
      "Epoch 89/100\n",
      "98/98 [==============================] - 0s 2ms/step - loss: 0.2610 - accuracy: 0.8989 - val_loss: 0.2684 - val_accuracy: 0.8798\n",
      "Epoch 90/100\n",
      "98/98 [==============================] - 0s 2ms/step - loss: 0.2511 - accuracy: 0.8938 - val_loss: 0.2743 - val_accuracy: 0.8755\n",
      "Epoch 91/100\n",
      "98/98 [==============================] - 0s 2ms/step - loss: 0.2345 - accuracy: 0.8979 - val_loss: 0.2696 - val_accuracy: 0.8755\n",
      "Epoch 92/100\n",
      "98/98 [==============================] - 0s 2ms/step - loss: 0.2513 - accuracy: 0.9132 - val_loss: 0.2683 - val_accuracy: 0.8798\n",
      "Epoch 93/100\n",
      "98/98 [==============================] - 0s 2ms/step - loss: 0.2292 - accuracy: 0.9065 - val_loss: 0.2672 - val_accuracy: 0.8841\n",
      "Epoch 94/100\n",
      "98/98 [==============================] - 0s 2ms/step - loss: 0.2311 - accuracy: 0.9035 - val_loss: 0.2673 - val_accuracy: 0.8755\n",
      "Epoch 95/100\n",
      "98/98 [==============================] - 0s 2ms/step - loss: 0.2482 - accuracy: 0.8947 - val_loss: 0.2738 - val_accuracy: 0.8755\n",
      "Epoch 96/100\n",
      "98/98 [==============================] - 0s 2ms/step - loss: 0.2228 - accuracy: 0.9073 - val_loss: 0.2664 - val_accuracy: 0.8798\n",
      "Epoch 97/100\n",
      "98/98 [==============================] - 0s 2ms/step - loss: 0.2328 - accuracy: 0.9018 - val_loss: 0.2680 - val_accuracy: 0.8798\n",
      "Epoch 98/100\n",
      "98/98 [==============================] - 0s 2ms/step - loss: 0.2542 - accuracy: 0.9021 - val_loss: 0.2696 - val_accuracy: 0.8712\n",
      "Epoch 99/100\n",
      "98/98 [==============================] - 0s 2ms/step - loss: 0.2508 - accuracy: 0.8953 - val_loss: 0.2710 - val_accuracy: 0.8841\n",
      "Epoch 100/100\n",
      "98/98 [==============================] - 0s 2ms/step - loss: 0.2401 - accuracy: 0.9020 - val_loss: 0.2704 - val_accuracy: 0.8755\n"
     ]
    }
   ],
   "source": [
    "hist = model.fit(X_train, Y_train,\n",
    "          batch_size=12, epochs=100,\n",
    "          validation_data=(X_val, Y_val))"
   ]
  },
  {
   "cell_type": "code",
   "execution_count": 113,
   "metadata": {},
   "outputs": [
    {
     "data": {
      "image/png": "[encoded data removed]",
      "text/plain": [
       "<Figure size 432x288 with 1 Axes>"
      ]
     },
     "metadata": {
      "needs_background": "light"
     },
     "output_type": "display_data"
    }
   ],
   "source": [
    "plt.plot(hist.history['loss'])\n",
    "plt.plot(hist.history['val_loss'])\n",
    "plt.title('Model loss')\n",
    "plt.ylabel('Loss')\n",
    "plt.xlabel('Epoch')\n",
    "plt.legend(['Train', 'Val'], loc='upper right')\n",
    "plt.show()"
   ]
  },
  {
   "cell_type": "code",
   "execution_count": 114,
   "metadata": {},
   "outputs": [
    {
     "data": {
      "image/png": "[encoded data removed]",
      "text/plain": [
       "<Figure size 432x288 with 1 Axes>"
      ]
     },
     "metadata": {
      "needs_background": "light"
     },
     "output_type": "display_data"
    }
   ],
   "source": [
    "plt.plot(hist.history['accuracy'])\n",
    "plt.plot(hist.history['val_accuracy'])\n",
    "plt.title('Model accuracy')\n",
    "plt.ylabel('Accuracy')\n",
    "plt.xlabel('Epoch')\n",
    "plt.legend(['Train', 'Val'], loc='lower right')\n",
    "plt.show()"
   ]
  },
  {
   "cell_type": "code",
   "execution_count": 115,
   "metadata": {},
   "outputs": [
    {
     "name": "stdout",
     "output_type": "stream",
     "text": [
      "2/2 [==============================] - 0s 3ms/step - loss: 0.2474 - accuracy: 0.8814\n"
     ]
    },
    {
     "data": {
      "text/plain": [
       "0.8813559412956238"
      ]
     },
     "execution_count": 115,
     "metadata": {},
     "output_type": "execute_result"
    }
   ],
   "source": [
    "model.evaluate(X_test, Y_test)[1]"
   ]
  },
  {
   "cell_type": "code",
   "execution_count": 116,
   "metadata": {},
   "outputs": [],
   "source": [
    "model3 = Sequential([\n",
    "    Dense(62, activation='relu', input_shape=(10,)),\n",
    "    Dense(62, activation='relu'),\n",
    "    Dense(1, activation='sigmoid'),\n",
    "])"
   ]
  },
  {
   "cell_type": "code",
   "execution_count": 117,
   "metadata": {},
   "outputs": [],
   "source": [
    "model3.compile(optimizer='sgd',\n",
    "              loss='binary_crossentropy',\n",
    "              metrics=['accuracy'])"
   ]
  },
  {
   "cell_type": "code",
   "execution_count": 118,
   "metadata": {},
   "outputs": [
    {
     "name": "stdout",
     "output_type": "stream",
     "text": [
      "Epoch 1/100\n",
      "19/19 [==============================] - 1s 16ms/step - loss: 0.6952 - accuracy: 0.4995 - val_loss: 0.6916 - val_accuracy: 0.5021\n",
      "Epoch 2/100\n",
      "19/19 [==============================] - 0s 5ms/step - loss: 0.6892 - accuracy: 0.5710 - val_loss: 0.6847 - val_accuracy: 0.7296\n",
      "Epoch 3/100\n",
      "19/19 [==============================] - 0s 5ms/step - loss: 0.6820 - accuracy: 0.7454 - val_loss: 0.6781 - val_accuracy: 0.7167\n",
      "Epoch 4/100\n",
      "19/19 [==============================] - 0s 6ms/step - loss: 0.6763 - accuracy: 0.7142 - val_loss: 0.6719 - val_accuracy: 0.6867\n",
      "Epoch 5/100\n",
      "19/19 [==============================] - 0s 5ms/step - loss: 0.6706 - accuracy: 0.6784 - val_loss: 0.6662 - val_accuracy: 0.6910\n",
      "Epoch 6/100\n",
      "19/19 [==============================] - 0s 5ms/step - loss: 0.6670 - accuracy: 0.6818 - val_loss: 0.6610 - val_accuracy: 0.6996\n",
      "Epoch 7/100\n",
      "19/19 [==============================] - 0s 5ms/step - loss: 0.6614 - accuracy: 0.7032 - val_loss: 0.6563 - val_accuracy: 0.7210\n",
      "Epoch 8/100\n",
      "19/19 [==============================] - 0s 5ms/step - loss: 0.6567 - accuracy: 0.7143 - val_loss: 0.6520 - val_accuracy: 0.7296\n",
      "Epoch 9/100\n",
      "19/19 [==============================] - 0s 5ms/step - loss: 0.6543 - accuracy: 0.7232 - val_loss: 0.6478 - val_accuracy: 0.7425\n",
      "Epoch 10/100\n",
      "19/19 [==============================] - 0s 5ms/step - loss: 0.6482 - accuracy: 0.7338 - val_loss: 0.6440 - val_accuracy: 0.7554\n",
      "Epoch 11/100\n",
      "19/19 [==============================] - 0s 5ms/step - loss: 0.6450 - accuracy: 0.7564 - val_loss: 0.6403 - val_accuracy: 0.7554\n",
      "Epoch 12/100\n",
      "19/19 [==============================] - 0s 5ms/step - loss: 0.6422 - accuracy: 0.7528 - val_loss: 0.6367 - val_accuracy: 0.7597\n",
      "Epoch 13/100\n",
      "19/19 [==============================] - 0s 7ms/step - loss: 0.6424 - accuracy: 0.7538 - val_loss: 0.6332 - val_accuracy: 0.7597\n",
      "Epoch 14/100\n",
      "19/19 [==============================] - 0s 5ms/step - loss: 0.6317 - accuracy: 0.7837 - val_loss: 0.6296 - val_accuracy: 0.7597\n",
      "Epoch 15/100\n",
      "19/19 [==============================] - 0s 4ms/step - loss: 0.6295 - accuracy: 0.7918 - val_loss: 0.6261 - val_accuracy: 0.7725\n",
      "Epoch 16/100\n",
      "19/19 [==============================] - 0s 5ms/step - loss: 0.6273 - accuracy: 0.7987 - val_loss: 0.6225 - val_accuracy: 0.7811\n",
      "Epoch 17/100\n",
      "19/19 [==============================] - 0s 5ms/step - loss: 0.6229 - accuracy: 0.7961 - val_loss: 0.6188 - val_accuracy: 0.7854\n",
      "Epoch 18/100\n",
      "19/19 [==============================] - 0s 5ms/step - loss: 0.6269 - accuracy: 0.7822 - val_loss: 0.6150 - val_accuracy: 0.7854\n",
      "Epoch 19/100\n",
      "19/19 [==============================] - 0s 4ms/step - loss: 0.6178 - accuracy: 0.8144 - val_loss: 0.6112 - val_accuracy: 0.7940\n",
      "Epoch 20/100\n",
      "19/19 [==============================] - 0s 5ms/step - loss: 0.6141 - accuracy: 0.8106 - val_loss: 0.6073 - val_accuracy: 0.7940\n",
      "Epoch 21/100\n",
      "19/19 [==============================] - 0s 5ms/step - loss: 0.6086 - accuracy: 0.8152 - val_loss: 0.6034 - val_accuracy: 0.7940\n",
      "Epoch 22/100\n",
      "19/19 [==============================] - 0s 6ms/step - loss: 0.6048 - accuracy: 0.8214 - val_loss: 0.5993 - val_accuracy: 0.7983\n",
      "Epoch 23/100\n",
      "19/19 [==============================] - 0s 6ms/step - loss: 0.5985 - accuracy: 0.8254 - val_loss: 0.5952 - val_accuracy: 0.7983\n",
      "Epoch 24/100\n",
      "19/19 [==============================] - 0s 7ms/step - loss: 0.5942 - accuracy: 0.8391 - val_loss: 0.5909 - val_accuracy: 0.7983\n",
      "Epoch 25/100\n",
      "19/19 [==============================] - 0s 6ms/step - loss: 0.5943 - accuracy: 0.8216 - val_loss: 0.5866 - val_accuracy: 0.8026\n",
      "Epoch 26/100\n",
      "19/19 [==============================] - 0s 5ms/step - loss: 0.5862 - accuracy: 0.8410 - val_loss: 0.5821 - val_accuracy: 0.7983\n",
      "Epoch 27/100\n",
      "19/19 [==============================] - 0s 7ms/step - loss: 0.5814 - accuracy: 0.8545 - val_loss: 0.5777 - val_accuracy: 0.8069\n",
      "Epoch 28/100\n",
      "19/19 [==============================] - 0s 6ms/step - loss: 0.5809 - accuracy: 0.8339 - val_loss: 0.5731 - val_accuracy: 0.8069\n",
      "Epoch 29/100\n",
      "19/19 [==============================] - 0s 5ms/step - loss: 0.5677 - accuracy: 0.8491 - val_loss: 0.5686 - val_accuracy: 0.8112\n",
      "Epoch 30/100\n",
      "19/19 [==============================] - 0s 5ms/step - loss: 0.5689 - accuracy: 0.8611 - val_loss: 0.5637 - val_accuracy: 0.8112\n",
      "Epoch 31/100\n",
      "19/19 [==============================] - 0s 5ms/step - loss: 0.5653 - accuracy: 0.8435 - val_loss: 0.5589 - val_accuracy: 0.8069\n",
      "Epoch 32/100\n",
      "19/19 [==============================] - 0s 5ms/step - loss: 0.5561 - accuracy: 0.8534 - val_loss: 0.5543 - val_accuracy: 0.8069\n",
      "Epoch 33/100\n",
      "19/19 [==============================] - 0s 5ms/step - loss: 0.5502 - accuracy: 0.8577 - val_loss: 0.5495 - val_accuracy: 0.8069\n",
      "Epoch 34/100\n",
      "19/19 [==============================] - 0s 5ms/step - loss: 0.5528 - accuracy: 0.8368 - val_loss: 0.5447 - val_accuracy: 0.8026\n",
      "Epoch 35/100\n",
      "19/19 [==============================] - 0s 6ms/step - loss: 0.5398 - accuracy: 0.8542 - val_loss: 0.5398 - val_accuracy: 0.8026\n",
      "Epoch 36/100\n",
      "19/19 [==============================] - 0s 6ms/step - loss: 0.5364 - accuracy: 0.8683 - val_loss: 0.5347 - val_accuracy: 0.8026\n",
      "Epoch 37/100\n",
      "19/19 [==============================] - 0s 5ms/step - loss: 0.5321 - accuracy: 0.8485 - val_loss: 0.5295 - val_accuracy: 0.8026\n",
      "Epoch 38/100\n",
      "19/19 [==============================] - 0s 5ms/step - loss: 0.5277 - accuracy: 0.8589 - val_loss: 0.5244 - val_accuracy: 0.8069\n",
      "Epoch 39/100\n",
      "19/19 [==============================] - 0s 5ms/step - loss: 0.5212 - accuracy: 0.8455 - val_loss: 0.5196 - val_accuracy: 0.8069\n",
      "Epoch 40/100\n",
      "19/19 [==============================] - 0s 5ms/step - loss: 0.5208 - accuracy: 0.8586 - val_loss: 0.5146 - val_accuracy: 0.8112\n",
      "Epoch 41/100\n",
      "19/19 [==============================] - 0s 5ms/step - loss: 0.5187 - accuracy: 0.8434 - val_loss: 0.5095 - val_accuracy: 0.8112\n",
      "Epoch 42/100\n",
      "19/19 [==============================] - 0s 5ms/step - loss: 0.5074 - accuracy: 0.8532 - val_loss: 0.5043 - val_accuracy: 0.8112\n",
      "Epoch 43/100\n",
      "19/19 [==============================] - 0s 5ms/step - loss: 0.5087 - accuracy: 0.8432 - val_loss: 0.4990 - val_accuracy: 0.8112\n",
      "Epoch 44/100\n",
      "19/19 [==============================] - 0s 6ms/step - loss: 0.4954 - accuracy: 0.8550 - val_loss: 0.4942 - val_accuracy: 0.8112\n",
      "Epoch 45/100\n",
      "19/19 [==============================] - 0s 5ms/step - loss: 0.4871 - accuracy: 0.8605 - val_loss: 0.4893 - val_accuracy: 0.8112\n",
      "Epoch 46/100\n",
      "19/19 [==============================] - 0s 5ms/step - loss: 0.4760 - accuracy: 0.8687 - val_loss: 0.4849 - val_accuracy: 0.8112\n",
      "Epoch 47/100\n",
      "19/19 [==============================] - 0s 5ms/step - loss: 0.4747 - accuracy: 0.8699 - val_loss: 0.4799 - val_accuracy: 0.8197\n",
      "Epoch 48/100\n",
      "19/19 [==============================] - 0s 5ms/step - loss: 0.4855 - accuracy: 0.8491 - val_loss: 0.4747 - val_accuracy: 0.8155\n",
      "Epoch 49/100\n",
      "19/19 [==============================] - 0s 5ms/step - loss: 0.4701 - accuracy: 0.8581 - val_loss: 0.4698 - val_accuracy: 0.8240\n",
      "Epoch 50/100\n",
      "19/19 [==============================] - 0s 5ms/step - loss: 0.4569 - accuracy: 0.8680 - val_loss: 0.4656 - val_accuracy: 0.8197\n",
      "Epoch 51/100\n",
      "19/19 [==============================] - 0s 5ms/step - loss: 0.4534 - accuracy: 0.8685 - val_loss: 0.4611 - val_accuracy: 0.8197\n",
      "Epoch 52/100\n",
      "19/19 [==============================] - 0s 5ms/step - loss: 0.4644 - accuracy: 0.8505 - val_loss: 0.4567 - val_accuracy: 0.8197\n",
      "Epoch 53/100\n",
      "19/19 [==============================] - 0s 6ms/step - loss: 0.4485 - accuracy: 0.8765 - val_loss: 0.4523 - val_accuracy: 0.8197\n",
      "Epoch 54/100\n",
      "19/19 [==============================] - 0s 5ms/step - loss: 0.4455 - accuracy: 0.8536 - val_loss: 0.4476 - val_accuracy: 0.8240\n",
      "Epoch 55/100\n",
      "19/19 [==============================] - 0s 5ms/step - loss: 0.4282 - accuracy: 0.8733 - val_loss: 0.4431 - val_accuracy: 0.8240\n",
      "Epoch 56/100\n",
      "19/19 [==============================] - 0s 5ms/step - loss: 0.4345 - accuracy: 0.8693 - val_loss: 0.4388 - val_accuracy: 0.8240\n",
      "Epoch 57/100\n",
      "19/19 [==============================] - 0s 5ms/step - loss: 0.4262 - accuracy: 0.8626 - val_loss: 0.4352 - val_accuracy: 0.8326\n",
      "Epoch 58/100\n",
      "19/19 [==============================] - 0s 5ms/step - loss: 0.4332 - accuracy: 0.8630 - val_loss: 0.4311 - val_accuracy: 0.8326\n"
     ]
    },
    {
     "name": "stdout",
     "output_type": "stream",
     "text": [
      "Epoch 59/100\n",
      "19/19 [==============================] - 0s 4ms/step - loss: 0.4185 - accuracy: 0.8628 - val_loss: 0.4271 - val_accuracy: 0.8326\n",
      "Epoch 60/100\n",
      "19/19 [==============================] - 0s 5ms/step - loss: 0.4287 - accuracy: 0.8525 - val_loss: 0.4229 - val_accuracy: 0.8326\n",
      "Epoch 61/100\n",
      "19/19 [==============================] - 0s 5ms/step - loss: 0.4136 - accuracy: 0.8718 - val_loss: 0.4191 - val_accuracy: 0.8326\n",
      "Epoch 62/100\n",
      "19/19 [==============================] - 0s 5ms/step - loss: 0.4136 - accuracy: 0.8614 - val_loss: 0.4154 - val_accuracy: 0.8326\n",
      "Epoch 63/100\n",
      "19/19 [==============================] - 0s 4ms/step - loss: 0.4193 - accuracy: 0.8518 - val_loss: 0.4115 - val_accuracy: 0.8326\n",
      "Epoch 64/100\n",
      "19/19 [==============================] - 0s 5ms/step - loss: 0.3957 - accuracy: 0.8701 - val_loss: 0.4082 - val_accuracy: 0.8369\n",
      "Epoch 65/100\n",
      "19/19 [==============================] - 0s 5ms/step - loss: 0.3902 - accuracy: 0.8695 - val_loss: 0.4050 - val_accuracy: 0.8455\n",
      "Epoch 66/100\n",
      "19/19 [==============================] - 0s 5ms/step - loss: 0.3922 - accuracy: 0.8706 - val_loss: 0.4010 - val_accuracy: 0.8412\n",
      "Epoch 67/100\n",
      "19/19 [==============================] - 0s 5ms/step - loss: 0.3930 - accuracy: 0.8754 - val_loss: 0.3975 - val_accuracy: 0.8412\n",
      "Epoch 68/100\n",
      "19/19 [==============================] - 0s 5ms/step - loss: 0.3924 - accuracy: 0.8711 - val_loss: 0.3946 - val_accuracy: 0.8498\n",
      "Epoch 69/100\n",
      "19/19 [==============================] - 0s 5ms/step - loss: 0.3875 - accuracy: 0.8669 - val_loss: 0.3913 - val_accuracy: 0.8498\n",
      "Epoch 70/100\n",
      "19/19 [==============================] - 0s 5ms/step - loss: 0.3724 - accuracy: 0.8792 - val_loss: 0.3883 - val_accuracy: 0.8498\n",
      "Epoch 71/100\n",
      "19/19 [==============================] - 0s 5ms/step - loss: 0.3623 - accuracy: 0.8805 - val_loss: 0.3858 - val_accuracy: 0.8498\n",
      "Epoch 72/100\n",
      "19/19 [==============================] - 0s 5ms/step - loss: 0.3706 - accuracy: 0.8678 - val_loss: 0.3827 - val_accuracy: 0.8498\n",
      "Epoch 73/100\n",
      "19/19 [==============================] - 0s 5ms/step - loss: 0.3735 - accuracy: 0.8647 - val_loss: 0.3797 - val_accuracy: 0.8541\n",
      "Epoch 74/100\n",
      "19/19 [==============================] - 0s 5ms/step - loss: 0.3636 - accuracy: 0.8827 - val_loss: 0.3777 - val_accuracy: 0.8498\n",
      "Epoch 75/100\n",
      "19/19 [==============================] - 0s 5ms/step - loss: 0.3491 - accuracy: 0.8831 - val_loss: 0.3745 - val_accuracy: 0.8541\n",
      "Epoch 76/100\n",
      "19/19 [==============================] - 0s 5ms/step - loss: 0.3655 - accuracy: 0.8632 - val_loss: 0.3720 - val_accuracy: 0.8541\n",
      "Epoch 77/100\n",
      "19/19 [==============================] - 0s 4ms/step - loss: 0.3461 - accuracy: 0.8794 - val_loss: 0.3697 - val_accuracy: 0.8541\n",
      "Epoch 78/100\n",
      "19/19 [==============================] - 0s 5ms/step - loss: 0.3450 - accuracy: 0.8841 - val_loss: 0.3677 - val_accuracy: 0.8541\n",
      "Epoch 79/100\n",
      "19/19 [==============================] - 0s 5ms/step - loss: 0.3630 - accuracy: 0.8672 - val_loss: 0.3652 - val_accuracy: 0.8541\n",
      "Epoch 80/100\n",
      "19/19 [==============================] - 0s 5ms/step - loss: 0.3469 - accuracy: 0.8827 - val_loss: 0.3631 - val_accuracy: 0.8541\n",
      "Epoch 81/100\n",
      "19/19 [==============================] - 0s 5ms/step - loss: 0.3607 - accuracy: 0.8712 - val_loss: 0.3615 - val_accuracy: 0.8541\n",
      "Epoch 82/100\n",
      "19/19 [==============================] - 0s 5ms/step - loss: 0.3436 - accuracy: 0.8735 - val_loss: 0.3592 - val_accuracy: 0.8541\n",
      "Epoch 83/100\n",
      "19/19 [==============================] - 0s 5ms/step - loss: 0.3477 - accuracy: 0.8698 - val_loss: 0.3573 - val_accuracy: 0.8541\n",
      "Epoch 84/100\n",
      "19/19 [==============================] - 0s 5ms/step - loss: 0.3456 - accuracy: 0.8739 - val_loss: 0.3554 - val_accuracy: 0.8541\n",
      "Epoch 85/100\n",
      "19/19 [==============================] - 0s 5ms/step - loss: 0.3371 - accuracy: 0.8729 - val_loss: 0.3536 - val_accuracy: 0.8541\n",
      "Epoch 86/100\n",
      "19/19 [==============================] - 0s 5ms/step - loss: 0.3348 - accuracy: 0.8750 - val_loss: 0.3523 - val_accuracy: 0.8541\n",
      "Epoch 87/100\n",
      "19/19 [==============================] - 0s 5ms/step - loss: 0.3404 - accuracy: 0.8719 - val_loss: 0.3507 - val_accuracy: 0.8541\n",
      "Epoch 88/100\n",
      "19/19 [==============================] - 0s 5ms/step - loss: 0.3128 - accuracy: 0.8862 - val_loss: 0.3489 - val_accuracy: 0.8541\n",
      "Epoch 89/100\n",
      "19/19 [==============================] - 0s 6ms/step - loss: 0.3542 - accuracy: 0.8532 - val_loss: 0.3473 - val_accuracy: 0.8541\n",
      "Epoch 90/100\n",
      "19/19 [==============================] - 0s 5ms/step - loss: 0.3153 - accuracy: 0.8928 - val_loss: 0.3459 - val_accuracy: 0.8541\n",
      "Epoch 91/100\n",
      "19/19 [==============================] - 0s 5ms/step - loss: 0.3314 - accuracy: 0.8728 - val_loss: 0.3447 - val_accuracy: 0.8541\n",
      "Epoch 92/100\n",
      "19/19 [==============================] - 0s 5ms/step - loss: 0.3154 - accuracy: 0.8894 - val_loss: 0.3430 - val_accuracy: 0.8541\n",
      "Epoch 93/100\n",
      "19/19 [==============================] - 0s 5ms/step - loss: 0.3120 - accuracy: 0.8889 - val_loss: 0.3415 - val_accuracy: 0.8541\n",
      "Epoch 94/100\n",
      "19/19 [==============================] - 0s 5ms/step - loss: 0.3259 - accuracy: 0.8678 - val_loss: 0.3404 - val_accuracy: 0.8541\n",
      "Epoch 95/100\n",
      "19/19 [==============================] - 0s 5ms/step - loss: 0.3106 - accuracy: 0.8844 - val_loss: 0.3392 - val_accuracy: 0.8541\n",
      "Epoch 96/100\n",
      "19/19 [==============================] - 0s 5ms/step - loss: 0.3304 - accuracy: 0.8730 - val_loss: 0.3381 - val_accuracy: 0.8541\n",
      "Epoch 97/100\n",
      "19/19 [==============================] - 0s 5ms/step - loss: 0.3207 - accuracy: 0.8794 - val_loss: 0.3373 - val_accuracy: 0.8541\n",
      "Epoch 98/100\n",
      "19/19 [==============================] - 0s 5ms/step - loss: 0.3133 - accuracy: 0.8854 - val_loss: 0.3357 - val_accuracy: 0.8541\n",
      "Epoch 99/100\n",
      "19/19 [==============================] - 0s 5ms/step - loss: 0.3189 - accuracy: 0.8738 - val_loss: 0.3349 - val_accuracy: 0.8541\n",
      "Epoch 100/100\n",
      "19/19 [==============================] - 0s 5ms/step - loss: 0.3066 - accuracy: 0.8844 - val_loss: 0.3337 - val_accuracy: 0.8541\n"
     ]
    }
   ],
   "source": [
    "hist3 = model3.fit(X_train, Y_train,\n",
    "          batch_size=62, epochs=100,\n",
    "          validation_data=(X_val, Y_val))"
   ]
  },
  {
   "cell_type": "code",
   "execution_count": 122,
   "metadata": {},
   "outputs": [
    {
     "data": {
      "image/png": "[encoded data removed]",
      "text/plain": [
       "<Figure size 432x288 with 1 Axes>"
      ]
     },
     "metadata": {
      "needs_background": "light"
     },
     "output_type": "display_data"
    }
   ],
   "source": [
    "plt.plot(hist3.history['loss'])\n",
    "plt.plot(hist3.history['val_loss'])\n",
    "plt.title('Model loss')\n",
    "plt.ylabel('Loss')\n",
    "plt.xlabel('Epoch')\n",
    "plt.legend(['Train', 'Val'], loc='upper right')\n",
    "plt.show()"
   ]
  },
  {
   "cell_type": "code",
   "execution_count": 123,
   "metadata": {},
   "outputs": [
    {
     "data": {
      "image/png": "[encoded data removed]",
      "text/plain": [
       "<Figure size 432x288 with 1 Axes>"
      ]
     },
     "metadata": {
      "needs_background": "light"
     },
     "output_type": "display_data"
    }
   ],
   "source": [
    "plt.plot(hist3.history['accuracy'])\n",
    "plt.plot(hist3.history['val_accuracy'])\n",
    "plt.title('Model accuracy')\n",
    "plt.ylabel('Accuracy')\n",
    "plt.xlabel('Epoch')\n",
    "plt.legend(['Train', 'Val'], loc='lower right')\n",
    "plt.show()"
   ]
  },
  {
   "cell_type": "code",
   "execution_count": 124,
   "metadata": {},
   "outputs": [
    {
     "name": "stdout",
     "output_type": "stream",
     "text": [
      "2/2 [==============================] - 0s 4ms/step - loss: 0.3160 - accuracy: 0.8814\n"
     ]
    },
    {
     "data": {
      "text/plain": [
       "0.8813559412956238"
      ]
     },
     "execution_count": 124,
     "metadata": {},
     "output_type": "execute_result"
    }
   ],
   "source": [
    "model3.evaluate(X_test, Y_test)[1]"
   ]
  },
  {
   "cell_type": "code",
   "execution_count": 21,
   "metadata": {},
   "outputs": [
    {
     "data": {
      "text/html": [
       "<div>\n",
       "<style scoped>\n",
       "    .dataframe tbody tr th:only-of-type {\n",
       "        vertical-align: middle;\n",
       "    }\n",
       "\n",
       "    .dataframe tbody tr th {\n",
       "        vertical-align: top;\n",
       "    }\n",
       "\n",
       "    .dataframe thead th {\n",
       "        text-align: right;\n",
       "    }\n",
       "</style>\n",
       "<table border=\"1\" class=\"dataframe\">\n",
       "  <thead>\n",
       "    <tr style=\"text-align: right;\">\n",
       "      <th></th>\n",
       "      <th>age</th>\n",
       "      <th>sex</th>\n",
       "      <th>cp</th>\n",
       "      <th>trestbps</th>\n",
       "      <th>chol</th>\n",
       "      <th>fbs</th>\n",
       "      <th>restecg</th>\n",
       "      <th>thalach</th>\n",
       "      <th>exang</th>\n",
       "      <th>oldpeak</th>\n",
       "      <th>slope</th>\n",
       "      <th>ca</th>\n",
       "      <th>thal</th>\n",
       "      <th>num</th>\n",
       "    </tr>\n",
       "  </thead>\n",
       "  <tbody>\n",
       "    <tr>\n",
       "      <th>0</th>\n",
       "      <td>63.0</td>\n",
       "      <td>1.0</td>\n",
       "      <td>1.0</td>\n",
       "      <td>145.0</td>\n",
       "      <td>233.0</td>\n",
       "      <td>1.0</td>\n",
       "      <td>2.0</td>\n",
       "      <td>150.0</td>\n",
       "      <td>0.0</td>\n",
       "      <td>2.3</td>\n",
       "      <td>3.0</td>\n",
       "      <td>0.0</td>\n",
       "      <td>6.0</td>\n",
       "      <td>0</td>\n",
       "    </tr>\n",
       "    <tr>\n",
       "      <th>1</th>\n",
       "      <td>67.0</td>\n",
       "      <td>1.0</td>\n",
       "      <td>4.0</td>\n",
       "      <td>160.0</td>\n",
       "      <td>286.0</td>\n",
       "      <td>0.0</td>\n",
       "      <td>2.0</td>\n",
       "      <td>108.0</td>\n",
       "      <td>1.0</td>\n",
       "      <td>1.5</td>\n",
       "      <td>2.0</td>\n",
       "      <td>3.0</td>\n",
       "      <td>3.0</td>\n",
       "      <td>1</td>\n",
       "    </tr>\n",
       "    <tr>\n",
       "      <th>2</th>\n",
       "      <td>67.0</td>\n",
       "      <td>1.0</td>\n",
       "      <td>4.0</td>\n",
       "      <td>120.0</td>\n",
       "      <td>229.0</td>\n",
       "      <td>0.0</td>\n",
       "      <td>2.0</td>\n",
       "      <td>129.0</td>\n",
       "      <td>1.0</td>\n",
       "      <td>2.6</td>\n",
       "      <td>2.0</td>\n",
       "      <td>2.0</td>\n",
       "      <td>7.0</td>\n",
       "      <td>1</td>\n",
       "    </tr>\n",
       "    <tr>\n",
       "      <th>3</th>\n",
       "      <td>37.0</td>\n",
       "      <td>1.0</td>\n",
       "      <td>3.0</td>\n",
       "      <td>130.0</td>\n",
       "      <td>250.0</td>\n",
       "      <td>0.0</td>\n",
       "      <td>0.0</td>\n",
       "      <td>187.0</td>\n",
       "      <td>0.0</td>\n",
       "      <td>3.5</td>\n",
       "      <td>3.0</td>\n",
       "      <td>0.0</td>\n",
       "      <td>3.0</td>\n",
       "      <td>0</td>\n",
       "    </tr>\n",
       "    <tr>\n",
       "      <th>4</th>\n",
       "      <td>41.0</td>\n",
       "      <td>0.0</td>\n",
       "      <td>2.0</td>\n",
       "      <td>130.0</td>\n",
       "      <td>204.0</td>\n",
       "      <td>0.0</td>\n",
       "      <td>2.0</td>\n",
       "      <td>172.0</td>\n",
       "      <td>0.0</td>\n",
       "      <td>1.4</td>\n",
       "      <td>1.0</td>\n",
       "      <td>0.0</td>\n",
       "      <td>3.0</td>\n",
       "      <td>0</td>\n",
       "    </tr>\n",
       "  </tbody>\n",
       "</table>\n",
       "</div>"
      ],
      "text/plain": [
       "    age  sex   cp  trestbps   chol  fbs  restecg  thalach  exang  oldpeak  \\\n",
       "0  63.0  1.0  1.0     145.0  233.0  1.0      2.0    150.0    0.0      2.3   \n",
       "1  67.0  1.0  4.0     160.0  286.0  0.0      2.0    108.0    1.0      1.5   \n",
       "2  67.0  1.0  4.0     120.0  229.0  0.0      2.0    129.0    1.0      2.6   \n",
       "3  37.0  1.0  3.0     130.0  250.0  0.0      0.0    187.0    0.0      3.5   \n",
       "4  41.0  0.0  2.0     130.0  204.0  0.0      2.0    172.0    0.0      1.4   \n",
       "\n",
       "   slope   ca  thal  num  \n",
       "0    3.0  0.0   6.0    0  \n",
       "1    2.0  3.0   3.0    1  \n",
       "2    2.0  2.0   7.0    1  \n",
       "3    3.0  0.0   3.0    0  \n",
       "4    1.0  0.0   3.0    0  "
      ]
     },
     "execution_count": 21,
     "metadata": {},
     "output_type": "execute_result"
    }
   ],
   "source": [
    "columns = ['age', 'sex', 'cp', 'trestbps', 'chol', 'fbs', 'restecg', 'thalach', 'exang', 'oldpeak', 'slope', 'ca', 'thal', 'num']\n",
    "df2 = pd.read_csv('../cleaned_processed.cleveland.data',header=None,names = columns)\n",
    "df2.columns\n",
    "feature = columns[:13]\n",
    "df2.head()"
   ]
  },
  {
   "cell_type": "code",
   "execution_count": 68,
   "metadata": {},
   "outputs": [],
   "source": [
    "dataset2 = df2.values"
   ]
  },
  {
   "cell_type": "code",
   "execution_count": 69,
   "metadata": {},
   "outputs": [
    {
     "data": {
      "text/plain": [
       "array([[63.,  1.,  1., ...,  0.,  6.,  0.],\n",
       "       [67.,  1.,  4., ...,  3.,  3.,  1.],\n",
       "       [67.,  1.,  4., ...,  2.,  7.,  1.],\n",
       "       ...,\n",
       "       [68.,  1.,  4., ...,  2.,  7.,  1.],\n",
       "       [57.,  1.,  4., ...,  1.,  7.,  1.],\n",
       "       [57.,  0.,  2., ...,  1.,  3.,  1.]])"
      ]
     },
     "execution_count": 69,
     "metadata": {},
     "output_type": "execute_result"
    }
   ],
   "source": [
    "dataset2 "
   ]
  },
  {
   "cell_type": "code",
   "execution_count": 70,
   "metadata": {},
   "outputs": [],
   "source": [
    "X2 = dataset2[:,0:13]\n",
    "Y2 = dataset2[:,13]"
   ]
  },
  {
   "cell_type": "code",
   "execution_count": 71,
   "metadata": {},
   "outputs": [],
   "source": [
    "min_max_scaler2 = preprocessing.MinMaxScaler()\n",
    "X_scale2 = min_max_scaler2.fit_transform(X2)"
   ]
  },
  {
   "cell_type": "code",
   "execution_count": 72,
   "metadata": {},
   "outputs": [
    {
     "data": {
      "text/plain": [
       "array([[0.70833333, 1.        , 0.        , ..., 1.        , 0.        ,\n",
       "        0.75      ],\n",
       "       [0.79166667, 1.        , 1.        , ..., 0.5       , 1.        ,\n",
       "        0.        ],\n",
       "       [0.79166667, 1.        , 1.        , ..., 0.5       , 0.66666667,\n",
       "        1.        ],\n",
       "       ...,\n",
       "       [0.8125    , 1.        , 1.        , ..., 0.5       , 0.66666667,\n",
       "        1.        ],\n",
       "       [0.58333333, 1.        , 1.        , ..., 0.5       , 0.33333333,\n",
       "        1.        ],\n",
       "       [0.58333333, 0.        , 0.33333333, ..., 0.5       , 0.33333333,\n",
       "        0.        ]])"
      ]
     },
     "execution_count": 72,
     "metadata": {},
     "output_type": "execute_result"
    }
   ],
   "source": [
    "X_scale2"
   ]
  },
  {
   "cell_type": "code",
   "execution_count": 73,
   "metadata": {},
   "outputs": [],
   "source": [
    "X_train2, X_val_and_test2, Y_train2, Y_val_and_test2 = train_test_split(X_scale2, Y2, test_size=0.2)\n"
   ]
  },
  {
   "cell_type": "code",
   "execution_count": 74,
   "metadata": {},
   "outputs": [],
   "source": [
    "X_val2, X_test2, Y_val2, Y_test2 = train_test_split(X_val_and_test2, Y_val_and_test2, test_size=0.2)"
   ]
  },
  {
   "cell_type": "code",
   "execution_count": 75,
   "metadata": {},
   "outputs": [
    {
     "name": "stdout",
     "output_type": "stream",
     "text": [
      "(237, 13) (48, 13) (12, 13) (237,) (48,) (12,)\n"
     ]
    }
   ],
   "source": [
    "print(X_train2.shape, X_val2.shape, X_test2.shape, Y_train2.shape, Y_val2.shape, Y_test2.shape)"
   ]
  },
  {
   "cell_type": "code",
   "execution_count": 84,
   "metadata": {},
   "outputs": [],
   "source": [
    "model2 = Sequential([\n",
    "    Dense(12, activation='relu', input_shape=(13,)),\n",
    "    Dense(12, activation='relu'),\n",
    "    Dense(1, activation='sigmoid'),\n",
    "])"
   ]
  },
  {
   "cell_type": "code",
   "execution_count": 85,
   "metadata": {},
   "outputs": [],
   "source": [
    "model2.compile(optimizer='sgd',\n",
    "              loss='binary_crossentropy',\n",
    "              metrics=['accuracy'])"
   ]
  },
  {
   "cell_type": "code",
   "execution_count": 86,
   "metadata": {},
   "outputs": [
    {
     "name": "stdout",
     "output_type": "stream",
     "text": [
      "Epoch 1/100\n",
      "20/20 [==============================] - 1s 14ms/step - loss: 0.6904 - accuracy: 0.5553 - val_loss: 0.6766 - val_accuracy: 0.6042\n",
      "Epoch 2/100\n",
      "20/20 [==============================] - 0s 5ms/step - loss: 0.6856 - accuracy: 0.5853 - val_loss: 0.6708 - val_accuracy: 0.6250\n",
      "Epoch 3/100\n",
      "20/20 [==============================] - 0s 5ms/step - loss: 0.6835 - accuracy: 0.5642 - val_loss: 0.6657 - val_accuracy: 0.6458\n",
      "Epoch 4/100\n",
      "20/20 [==============================] - 0s 6ms/step - loss: 0.6667 - accuracy: 0.6801 - val_loss: 0.6611 - val_accuracy: 0.6458\n",
      "Epoch 5/100\n",
      "20/20 [==============================] - 0s 5ms/step - loss: 0.6716 - accuracy: 0.6387 - val_loss: 0.6572 - val_accuracy: 0.6667\n",
      "Epoch 6/100\n",
      "20/20 [==============================] - 0s 4ms/step - loss: 0.6690 - accuracy: 0.6169 - val_loss: 0.6536 - val_accuracy: 0.7292\n",
      "Epoch 7/100\n",
      "20/20 [==============================] - 0s 5ms/step - loss: 0.6575 - accuracy: 0.6985 - val_loss: 0.6502 - val_accuracy: 0.7292\n",
      "Epoch 8/100\n",
      "20/20 [==============================] - 0s 5ms/step - loss: 0.6622 - accuracy: 0.6755 - val_loss: 0.6464 - val_accuracy: 0.7292\n",
      "Epoch 9/100\n",
      "20/20 [==============================] - 0s 5ms/step - loss: 0.6515 - accuracy: 0.6507 - val_loss: 0.6427 - val_accuracy: 0.7292\n",
      "Epoch 10/100\n",
      "20/20 [==============================] - 0s 5ms/step - loss: 0.6590 - accuracy: 0.6447 - val_loss: 0.6388 - val_accuracy: 0.7292\n",
      "Epoch 11/100\n",
      "20/20 [==============================] - 0s 5ms/step - loss: 0.6389 - accuracy: 0.7397 - val_loss: 0.6346 - val_accuracy: 0.7292\n",
      "Epoch 12/100\n",
      "20/20 [==============================] - 0s 5ms/step - loss: 0.6494 - accuracy: 0.7027 - val_loss: 0.6303 - val_accuracy: 0.7292\n",
      "Epoch 13/100\n",
      "20/20 [==============================] - 0s 6ms/step - loss: 0.6419 - accuracy: 0.7192 - val_loss: 0.6256 - val_accuracy: 0.7292\n",
      "Epoch 14/100\n",
      "20/20 [==============================] - 0s 5ms/step - loss: 0.6432 - accuracy: 0.7133 - val_loss: 0.6209 - val_accuracy: 0.7292\n",
      "Epoch 15/100\n",
      "20/20 [==============================] - 0s 5ms/step - loss: 0.6292 - accuracy: 0.7419 - val_loss: 0.6160 - val_accuracy: 0.7292\n",
      "Epoch 16/100\n",
      "20/20 [==============================] - 0s 5ms/step - loss: 0.6268 - accuracy: 0.7286 - val_loss: 0.6105 - val_accuracy: 0.7500\n",
      "Epoch 17/100\n",
      "20/20 [==============================] - 0s 4ms/step - loss: 0.6168 - accuracy: 0.7424 - val_loss: 0.6048 - val_accuracy: 0.7708\n",
      "Epoch 18/100\n",
      "20/20 [==============================] - 0s 6ms/step - loss: 0.6101 - accuracy: 0.7673 - val_loss: 0.5986 - val_accuracy: 0.7708\n",
      "Epoch 19/100\n",
      "20/20 [==============================] - 0s 4ms/step - loss: 0.6049 - accuracy: 0.7626 - val_loss: 0.5919 - val_accuracy: 0.7708\n",
      "Epoch 20/100\n",
      "20/20 [==============================] - 0s 5ms/step - loss: 0.5880 - accuracy: 0.8159 - val_loss: 0.5843 - val_accuracy: 0.7917\n",
      "Epoch 21/100\n",
      "20/20 [==============================] - 0s 8ms/step - loss: 0.5881 - accuracy: 0.8033 - val_loss: 0.5762 - val_accuracy: 0.7917\n",
      "Epoch 22/100\n",
      "20/20 [==============================] - 0s 5ms/step - loss: 0.5939 - accuracy: 0.7467 - val_loss: 0.5680 - val_accuracy: 0.7917\n",
      "Epoch 23/100\n",
      "20/20 [==============================] - 0s 8ms/step - loss: 0.5829 - accuracy: 0.7548 - val_loss: 0.5603 - val_accuracy: 0.7917\n",
      "Epoch 24/100\n",
      "20/20 [==============================] - 0s 6ms/step - loss: 0.5733 - accuracy: 0.7598 - val_loss: 0.5528 - val_accuracy: 0.7917\n",
      "Epoch 25/100\n",
      "20/20 [==============================] - 0s 5ms/step - loss: 0.5552 - accuracy: 0.7973 - val_loss: 0.5450 - val_accuracy: 0.7917\n",
      "Epoch 26/100\n",
      "20/20 [==============================] - 0s 4ms/step - loss: 0.5621 - accuracy: 0.8042 - val_loss: 0.5366 - val_accuracy: 0.8125\n",
      "Epoch 27/100\n",
      "20/20 [==============================] - 0s 8ms/step - loss: 0.5423 - accuracy: 0.7888 - val_loss: 0.5284 - val_accuracy: 0.8125\n",
      "Epoch 28/100\n",
      "20/20 [==============================] - 0s 7ms/step - loss: 0.5494 - accuracy: 0.7854 - val_loss: 0.5198 - val_accuracy: 0.8125\n",
      "Epoch 29/100\n",
      "20/20 [==============================] - 0s 6ms/step - loss: 0.5381 - accuracy: 0.7994 - val_loss: 0.5124 - val_accuracy: 0.8125\n",
      "Epoch 30/100\n",
      "20/20 [==============================] - 0s 6ms/step - loss: 0.5516 - accuracy: 0.7586 - val_loss: 0.5051 - val_accuracy: 0.8125\n",
      "Epoch 31/100\n",
      "20/20 [==============================] - 0s 6ms/step - loss: 0.5266 - accuracy: 0.7818 - val_loss: 0.4974 - val_accuracy: 0.8125\n",
      "Epoch 32/100\n",
      "20/20 [==============================] - 0s 5ms/step - loss: 0.5414 - accuracy: 0.7627 - val_loss: 0.4897 - val_accuracy: 0.8125\n",
      "Epoch 33/100\n",
      "20/20 [==============================] - 0s 5ms/step - loss: 0.5043 - accuracy: 0.8265 - val_loss: 0.4813 - val_accuracy: 0.8333\n",
      "Epoch 34/100\n",
      "20/20 [==============================] - 0s 5ms/step - loss: 0.4888 - accuracy: 0.8127 - val_loss: 0.4739 - val_accuracy: 0.8333\n",
      "Epoch 35/100\n",
      "20/20 [==============================] - 0s 5ms/step - loss: 0.4878 - accuracy: 0.8042 - val_loss: 0.4686 - val_accuracy: 0.7917\n",
      "Epoch 36/100\n",
      "20/20 [==============================] - 0s 4ms/step - loss: 0.5000 - accuracy: 0.7907 - val_loss: 0.4614 - val_accuracy: 0.8125\n",
      "Epoch 37/100\n",
      "20/20 [==============================] - 0s 4ms/step - loss: 0.4855 - accuracy: 0.8070 - val_loss: 0.4565 - val_accuracy: 0.8125\n",
      "Epoch 38/100\n",
      "20/20 [==============================] - 0s 4ms/step - loss: 0.4886 - accuracy: 0.8274 - val_loss: 0.4496 - val_accuracy: 0.8125\n",
      "Epoch 39/100\n",
      "20/20 [==============================] - 0s 5ms/step - loss: 0.4824 - accuracy: 0.8030 - val_loss: 0.4428 - val_accuracy: 0.8125\n",
      "Epoch 40/100\n",
      "20/20 [==============================] - 0s 4ms/step - loss: 0.4944 - accuracy: 0.7919 - val_loss: 0.4365 - val_accuracy: 0.8125\n",
      "Epoch 41/100\n",
      "20/20 [==============================] - 0s 4ms/step - loss: 0.4713 - accuracy: 0.8092 - val_loss: 0.4296 - val_accuracy: 0.8125\n",
      "Epoch 42/100\n",
      "20/20 [==============================] - 0s 4ms/step - loss: 0.4628 - accuracy: 0.7930 - val_loss: 0.4224 - val_accuracy: 0.8333\n",
      "Epoch 43/100\n",
      "20/20 [==============================] - 0s 4ms/step - loss: 0.4767 - accuracy: 0.7901 - val_loss: 0.4199 - val_accuracy: 0.8333\n",
      "Epoch 44/100\n",
      "20/20 [==============================] - 0s 4ms/step - loss: 0.4523 - accuracy: 0.8178 - val_loss: 0.4142 - val_accuracy: 0.8333\n",
      "Epoch 45/100\n",
      "20/20 [==============================] - 0s 4ms/step - loss: 0.4659 - accuracy: 0.7981 - val_loss: 0.4110 - val_accuracy: 0.8333\n",
      "Epoch 46/100\n",
      "20/20 [==============================] - 0s 4ms/step - loss: 0.4577 - accuracy: 0.8089 - val_loss: 0.4068 - val_accuracy: 0.8333\n",
      "Epoch 47/100\n",
      "20/20 [==============================] - 0s 4ms/step - loss: 0.4570 - accuracy: 0.8129 - val_loss: 0.4010 - val_accuracy: 0.8333\n",
      "Epoch 48/100\n",
      "20/20 [==============================] - 0s 4ms/step - loss: 0.4505 - accuracy: 0.8008 - val_loss: 0.3970 - val_accuracy: 0.8333\n",
      "Epoch 49/100\n",
      "20/20 [==============================] - 0s 4ms/step - loss: 0.4239 - accuracy: 0.8325 - val_loss: 0.3958 - val_accuracy: 0.8333\n",
      "Epoch 50/100\n",
      "20/20 [==============================] - 0s 4ms/step - loss: 0.4678 - accuracy: 0.8054 - val_loss: 0.3891 - val_accuracy: 0.8542\n",
      "Epoch 51/100\n",
      "20/20 [==============================] - 0s 4ms/step - loss: 0.3982 - accuracy: 0.8418 - val_loss: 0.3834 - val_accuracy: 0.8542\n",
      "Epoch 52/100\n",
      "20/20 [==============================] - 0s 4ms/step - loss: 0.4182 - accuracy: 0.8162 - val_loss: 0.3796 - val_accuracy: 0.8542\n",
      "Epoch 53/100\n",
      "20/20 [==============================] - 0s 4ms/step - loss: 0.4260 - accuracy: 0.8100 - val_loss: 0.3771 - val_accuracy: 0.8542\n",
      "Epoch 54/100\n",
      "20/20 [==============================] - 0s 4ms/step - loss: 0.4001 - accuracy: 0.8370 - val_loss: 0.3728 - val_accuracy: 0.8542\n",
      "Epoch 55/100\n",
      "20/20 [==============================] - 0s 4ms/step - loss: 0.4170 - accuracy: 0.8245 - val_loss: 0.3734 - val_accuracy: 0.8333\n",
      "Epoch 56/100\n",
      "20/20 [==============================] - 0s 4ms/step - loss: 0.4344 - accuracy: 0.8187 - val_loss: 0.3717 - val_accuracy: 0.8333\n",
      "Epoch 57/100\n",
      "20/20 [==============================] - 0s 5ms/step - loss: 0.3996 - accuracy: 0.8560 - val_loss: 0.3686 - val_accuracy: 0.8125\n",
      "Epoch 58/100\n",
      "20/20 [==============================] - 0s 5ms/step - loss: 0.4132 - accuracy: 0.8361 - val_loss: 0.3644 - val_accuracy: 0.8125\n"
     ]
    },
    {
     "name": "stdout",
     "output_type": "stream",
     "text": [
      "Epoch 59/100\n",
      "20/20 [==============================] - 0s 5ms/step - loss: 0.4629 - accuracy: 0.8031 - val_loss: 0.3609 - val_accuracy: 0.8125\n",
      "Epoch 60/100\n",
      "20/20 [==============================] - 0s 5ms/step - loss: 0.4110 - accuracy: 0.8072 - val_loss: 0.3631 - val_accuracy: 0.8333\n",
      "Epoch 61/100\n",
      "20/20 [==============================] - 0s 4ms/step - loss: 0.4368 - accuracy: 0.7858 - val_loss: 0.3570 - val_accuracy: 0.8333\n",
      "Epoch 62/100\n",
      "20/20 [==============================] - 0s 4ms/step - loss: 0.3783 - accuracy: 0.8511 - val_loss: 0.3557 - val_accuracy: 0.8333\n",
      "Epoch 63/100\n",
      "20/20 [==============================] - 0s 4ms/step - loss: 0.3990 - accuracy: 0.8323 - val_loss: 0.3519 - val_accuracy: 0.8333\n",
      "Epoch 64/100\n",
      "20/20 [==============================] - 0s 5ms/step - loss: 0.4205 - accuracy: 0.8043 - val_loss: 0.3519 - val_accuracy: 0.8333\n",
      "Epoch 65/100\n",
      "20/20 [==============================] - 0s 5ms/step - loss: 0.4418 - accuracy: 0.7956 - val_loss: 0.3542 - val_accuracy: 0.8333\n",
      "Epoch 66/100\n",
      "20/20 [==============================] - 0s 5ms/step - loss: 0.3805 - accuracy: 0.8449 - val_loss: 0.3468 - val_accuracy: 0.8333\n",
      "Epoch 67/100\n",
      "20/20 [==============================] - 0s 4ms/step - loss: 0.3684 - accuracy: 0.8601 - val_loss: 0.3449 - val_accuracy: 0.8333\n",
      "Epoch 68/100\n",
      "20/20 [==============================] - 0s 5ms/step - loss: 0.3324 - accuracy: 0.8822 - val_loss: 0.3419 - val_accuracy: 0.8333\n",
      "Epoch 69/100\n",
      "20/20 [==============================] - 0s 5ms/step - loss: 0.4121 - accuracy: 0.8033 - val_loss: 0.3416 - val_accuracy: 0.8333\n",
      "Epoch 70/100\n",
      "20/20 [==============================] - 0s 5ms/step - loss: 0.4028 - accuracy: 0.8265 - val_loss: 0.3395 - val_accuracy: 0.8333\n",
      "Epoch 71/100\n",
      "20/20 [==============================] - 0s 5ms/step - loss: 0.3901 - accuracy: 0.8512 - val_loss: 0.3348 - val_accuracy: 0.8333\n",
      "Epoch 72/100\n",
      "20/20 [==============================] - 0s 6ms/step - loss: 0.3385 - accuracy: 0.8669 - val_loss: 0.3389 - val_accuracy: 0.8333\n",
      "Epoch 73/100\n",
      "20/20 [==============================] - 0s 4ms/step - loss: 0.4321 - accuracy: 0.8150 - val_loss: 0.3359 - val_accuracy: 0.8333\n",
      "Epoch 74/100\n",
      "20/20 [==============================] - 0s 5ms/step - loss: 0.3913 - accuracy: 0.8513 - val_loss: 0.3326 - val_accuracy: 0.8333\n",
      "Epoch 75/100\n",
      "20/20 [==============================] - 0s 4ms/step - loss: 0.4478 - accuracy: 0.8144 - val_loss: 0.3304 - val_accuracy: 0.8333\n",
      "Epoch 76/100\n",
      "20/20 [==============================] - 0s 5ms/step - loss: 0.3882 - accuracy: 0.8224 - val_loss: 0.3278 - val_accuracy: 0.8333\n",
      "Epoch 77/100\n",
      "20/20 [==============================] - 0s 5ms/step - loss: 0.3589 - accuracy: 0.8565 - val_loss: 0.3207 - val_accuracy: 0.8125\n",
      "Epoch 78/100\n",
      "20/20 [==============================] - 0s 4ms/step - loss: 0.3919 - accuracy: 0.8204 - val_loss: 0.3180 - val_accuracy: 0.8125\n",
      "Epoch 79/100\n",
      "20/20 [==============================] - 0s 5ms/step - loss: 0.4198 - accuracy: 0.8336 - val_loss: 0.3223 - val_accuracy: 0.8125\n",
      "Epoch 80/100\n",
      "20/20 [==============================] - 0s 5ms/step - loss: 0.3482 - accuracy: 0.8707 - val_loss: 0.3226 - val_accuracy: 0.8333\n",
      "Epoch 81/100\n",
      "20/20 [==============================] - 0s 5ms/step - loss: 0.4243 - accuracy: 0.8065 - val_loss: 0.3253 - val_accuracy: 0.8333\n",
      "Epoch 82/100\n",
      "20/20 [==============================] - 0s 5ms/step - loss: 0.3607 - accuracy: 0.8691 - val_loss: 0.3234 - val_accuracy: 0.8333\n",
      "Epoch 83/100\n",
      "20/20 [==============================] - 0s 5ms/step - loss: 0.3476 - accuracy: 0.8413 - val_loss: 0.3244 - val_accuracy: 0.8333\n",
      "Epoch 84/100\n",
      "20/20 [==============================] - 0s 4ms/step - loss: 0.3551 - accuracy: 0.8528 - val_loss: 0.3212 - val_accuracy: 0.8542\n",
      "Epoch 85/100\n",
      "20/20 [==============================] - 0s 5ms/step - loss: 0.4289 - accuracy: 0.8186 - val_loss: 0.3218 - val_accuracy: 0.8542\n",
      "Epoch 86/100\n",
      "20/20 [==============================] - 0s 4ms/step - loss: 0.3579 - accuracy: 0.8528 - val_loss: 0.3127 - val_accuracy: 0.8333\n",
      "Epoch 87/100\n",
      "20/20 [==============================] - 0s 4ms/step - loss: 0.4183 - accuracy: 0.8072 - val_loss: 0.3205 - val_accuracy: 0.8542\n",
      "Epoch 88/100\n",
      "20/20 [==============================] - 0s 5ms/step - loss: 0.4220 - accuracy: 0.8319 - val_loss: 0.3192 - val_accuracy: 0.8542\n",
      "Epoch 89/100\n",
      "20/20 [==============================] - 0s 4ms/step - loss: 0.4059 - accuracy: 0.8223 - val_loss: 0.3174 - val_accuracy: 0.8542\n",
      "Epoch 90/100\n",
      "20/20 [==============================] - 0s 4ms/step - loss: 0.4043 - accuracy: 0.8190 - val_loss: 0.3123 - val_accuracy: 0.8333\n",
      "Epoch 91/100\n",
      "20/20 [==============================] - 0s 4ms/step - loss: 0.3825 - accuracy: 0.8542 - val_loss: 0.3142 - val_accuracy: 0.8542\n",
      "Epoch 92/100\n",
      "20/20 [==============================] - 0s 4ms/step - loss: 0.3810 - accuracy: 0.8412 - val_loss: 0.3130 - val_accuracy: 0.8542\n",
      "Epoch 93/100\n",
      "20/20 [==============================] - 0s 4ms/step - loss: 0.3778 - accuracy: 0.8451 - val_loss: 0.3071 - val_accuracy: 0.8333\n",
      "Epoch 94/100\n",
      "20/20 [==============================] - 0s 4ms/step - loss: 0.4349 - accuracy: 0.8077 - val_loss: 0.3127 - val_accuracy: 0.8542\n",
      "Epoch 95/100\n",
      "20/20 [==============================] - 0s 4ms/step - loss: 0.3579 - accuracy: 0.8837 - val_loss: 0.3059 - val_accuracy: 0.8333\n",
      "Epoch 96/100\n",
      "20/20 [==============================] - 0s 4ms/step - loss: 0.3725 - accuracy: 0.8633 - val_loss: 0.3071 - val_accuracy: 0.8333\n",
      "Epoch 97/100\n",
      "20/20 [==============================] - 0s 6ms/step - loss: 0.4729 - accuracy: 0.7917 - val_loss: 0.3071 - val_accuracy: 0.8333\n",
      "Epoch 98/100\n",
      "20/20 [==============================] - 0s 4ms/step - loss: 0.3716 - accuracy: 0.8475 - val_loss: 0.3081 - val_accuracy: 0.8333\n",
      "Epoch 99/100\n",
      "20/20 [==============================] - 0s 4ms/step - loss: 0.3557 - accuracy: 0.8686 - val_loss: 0.3100 - val_accuracy: 0.8542\n",
      "Epoch 100/100\n",
      "20/20 [==============================] - 0s 4ms/step - loss: 0.3357 - accuracy: 0.8808 - val_loss: 0.3094 - val_accuracy: 0.8542\n"
     ]
    }
   ],
   "source": [
    "hist2 = model2.fit(X_train2, Y_train2,\n",
    "          batch_size=12, epochs=100,\n",
    "          validation_data=(X_val2, Y_val2))"
   ]
  },
  {
   "cell_type": "code",
   "execution_count": 88,
   "metadata": {},
   "outputs": [
    {
     "data": {
      "image/png": "[encoded data removed]",
      "text/plain": [
       "<Figure size 432x288 with 1 Axes>"
      ]
     },
     "metadata": {
      "needs_background": "light"
     },
     "output_type": "display_data"
    }
   ],
   "source": [
    "plt.plot(hist2.history['loss'])\n",
    "plt.plot(hist2.history['val_loss'])\n",
    "plt.title('Model loss')\n",
    "plt.ylabel('Loss')\n",
    "plt.xlabel('Epoch')\n",
    "plt.legend(['Train', 'Val'], loc='upper right')\n",
    "plt.show()"
   ]
  },
  {
   "cell_type": "code",
   "execution_count": 89,
   "metadata": {},
   "outputs": [
    {
     "data": {
      "image/png": "[encoded data removed]",
      "text/plain": [
       "<Figure size 432x288 with 1 Axes>"
      ]
     },
     "metadata": {
      "needs_background": "light"
     },
     "output_type": "display_data"
    }
   ],
   "source": [
    "plt.plot(hist2.history['accuracy'])\n",
    "plt.plot(hist2.history['val_accuracy'])\n",
    "plt.title('Model accuracy')\n",
    "plt.ylabel('Accuracy')\n",
    "plt.xlabel('Epoch')\n",
    "plt.legend(['Train', 'Val'], loc='lower right')\n",
    "plt.show()"
   ]
  },
  {
   "cell_type": "code",
   "execution_count": 91,
   "metadata": {},
   "outputs": [
    {
     "name": "stdout",
     "output_type": "stream",
     "text": [
      "1/1 [==============================] - 0s 141ms/step - loss: 0.5022 - accuracy: 0.7500\n"
     ]
    },
    {
     "data": {
      "text/plain": [
       "0.75"
      ]
     },
     "execution_count": 91,
     "metadata": {},
     "output_type": "execute_result"
    }
   ],
   "source": [
    "model2.evaluate(X_test2, Y_test2)[1]"
   ]
  },
  {
   "cell_type": "code",
   "execution_count": 94,
   "metadata": {},
   "outputs": [],
   "source": [
    "model4 = Sequential([\n",
    "    Dense(62, activation='relu', input_shape=(13,)),\n",
    "    Dense(62, activation='relu'),\n",
    "    Dense(1, activation='sigmoid'),\n",
    "])"
   ]
  },
  {
   "cell_type": "code",
   "execution_count": 95,
   "metadata": {},
   "outputs": [],
   "source": [
    "model4.compile(optimizer='sgd',\n",
    "              loss='binary_crossentropy',\n",
    "              metrics=['accuracy'])"
   ]
  },
  {
   "cell_type": "code",
   "execution_count": 96,
   "metadata": {},
   "outputs": [
    {
     "name": "stdout",
     "output_type": "stream",
     "text": [
      "Epoch 1/100\n",
      "4/4 [==============================] - 1s 93ms/step - loss: 0.7280 - accuracy: 0.4537 - val_loss: 0.7253 - val_accuracy: 0.4792\n",
      "Epoch 2/100\n",
      "4/4 [==============================] - 0s 19ms/step - loss: 0.7280 - accuracy: 0.4460 - val_loss: 0.7226 - val_accuracy: 0.4792\n",
      "Epoch 3/100\n",
      "4/4 [==============================] - 0s 31ms/step - loss: 0.7198 - accuracy: 0.4509 - val_loss: 0.7199 - val_accuracy: 0.4792\n",
      "Epoch 4/100\n",
      "4/4 [==============================] - 0s 22ms/step - loss: 0.7124 - accuracy: 0.4903 - val_loss: 0.7174 - val_accuracy: 0.4792\n",
      "Epoch 5/100\n",
      "4/4 [==============================] - 0s 24ms/step - loss: 0.7159 - accuracy: 0.4763 - val_loss: 0.7150 - val_accuracy: 0.4792\n",
      "Epoch 6/100\n",
      "4/4 [==============================] - 0s 24ms/step - loss: 0.7110 - accuracy: 0.4768 - val_loss: 0.7126 - val_accuracy: 0.4583\n",
      "Epoch 7/100\n",
      "4/4 [==============================] - 0s 22ms/step - loss: 0.7086 - accuracy: 0.4860 - val_loss: 0.7103 - val_accuracy: 0.4583\n",
      "Epoch 8/100\n",
      "4/4 [==============================] - 0s 23ms/step - loss: 0.7028 - accuracy: 0.5054 - val_loss: 0.7081 - val_accuracy: 0.4583\n",
      "Epoch 9/100\n",
      "4/4 [==============================] - 0s 25ms/step - loss: 0.7033 - accuracy: 0.5076 - val_loss: 0.7059 - val_accuracy: 0.4375\n",
      "Epoch 10/100\n",
      "4/4 [==============================] - 0s 20ms/step - loss: 0.7036 - accuracy: 0.5014 - val_loss: 0.7039 - val_accuracy: 0.4583\n",
      "Epoch 11/100\n",
      "4/4 [==============================] - 0s 19ms/step - loss: 0.6993 - accuracy: 0.5241 - val_loss: 0.7019 - val_accuracy: 0.4792\n",
      "Epoch 12/100\n",
      "4/4 [==============================] - 0s 19ms/step - loss: 0.7033 - accuracy: 0.4854 - val_loss: 0.6999 - val_accuracy: 0.5000\n",
      "Epoch 13/100\n",
      "4/4 [==============================] - 0s 22ms/step - loss: 0.7000 - accuracy: 0.5018 - val_loss: 0.6980 - val_accuracy: 0.5000\n",
      "Epoch 14/100\n",
      "4/4 [==============================] - 0s 24ms/step - loss: 0.6948 - accuracy: 0.5551 - val_loss: 0.6961 - val_accuracy: 0.5000\n",
      "Epoch 15/100\n",
      "4/4 [==============================] - 0s 24ms/step - loss: 0.6923 - accuracy: 0.5524 - val_loss: 0.6942 - val_accuracy: 0.5000\n",
      "Epoch 16/100\n",
      "4/4 [==============================] - 0s 32ms/step - loss: 0.6944 - accuracy: 0.5170 - val_loss: 0.6924 - val_accuracy: 0.5417\n",
      "Epoch 17/100\n",
      "4/4 [==============================] - 0s 39ms/step - loss: 0.6928 - accuracy: 0.5047 - val_loss: 0.6906 - val_accuracy: 0.5625\n",
      "Epoch 18/100\n",
      "4/4 [==============================] - 0s 32ms/step - loss: 0.6872 - accuracy: 0.5678 - val_loss: 0.6888 - val_accuracy: 0.5625\n",
      "Epoch 19/100\n",
      "4/4 [==============================] - 0s 34ms/step - loss: 0.6859 - accuracy: 0.5742 - val_loss: 0.6871 - val_accuracy: 0.5625\n",
      "Epoch 20/100\n",
      "4/4 [==============================] - 0s 27ms/step - loss: 0.6828 - accuracy: 0.5747 - val_loss: 0.6854 - val_accuracy: 0.5833\n",
      "Epoch 21/100\n",
      "4/4 [==============================] - 0s 27ms/step - loss: 0.6826 - accuracy: 0.6027 - val_loss: 0.6838 - val_accuracy: 0.6042\n",
      "Epoch 22/100\n",
      "4/4 [==============================] - 0s 25ms/step - loss: 0.6829 - accuracy: 0.6142 - val_loss: 0.6822 - val_accuracy: 0.6250\n",
      "Epoch 23/100\n",
      "4/4 [==============================] - 0s 22ms/step - loss: 0.6841 - accuracy: 0.6025 - val_loss: 0.6807 - val_accuracy: 0.6250\n",
      "Epoch 24/100\n",
      "4/4 [==============================] - 0s 27ms/step - loss: 0.6786 - accuracy: 0.6431 - val_loss: 0.6792 - val_accuracy: 0.6250\n",
      "Epoch 25/100\n",
      "4/4 [==============================] - 0s 46ms/step - loss: 0.6771 - accuracy: 0.6677 - val_loss: 0.6777 - val_accuracy: 0.6250\n",
      "Epoch 26/100\n",
      "4/4 [==============================] - 0s 21ms/step - loss: 0.6717 - accuracy: 0.7232 - val_loss: 0.6762 - val_accuracy: 0.6458\n",
      "Epoch 27/100\n",
      "4/4 [==============================] - 0s 19ms/step - loss: 0.6741 - accuracy: 0.7008 - val_loss: 0.6747 - val_accuracy: 0.6667\n",
      "Epoch 28/100\n",
      "4/4 [==============================] - 0s 31ms/step - loss: 0.6741 - accuracy: 0.6894 - val_loss: 0.6732 - val_accuracy: 0.6875\n",
      "Epoch 29/100\n",
      "4/4 [==============================] - 0s 30ms/step - loss: 0.6700 - accuracy: 0.7183 - val_loss: 0.6717 - val_accuracy: 0.7083\n",
      "Epoch 30/100\n",
      "4/4 [==============================] - 0s 30ms/step - loss: 0.6700 - accuracy: 0.7285 - val_loss: 0.6703 - val_accuracy: 0.7083\n",
      "Epoch 31/100\n",
      "4/4 [==============================] - 0s 28ms/step - loss: 0.6696 - accuracy: 0.7222 - val_loss: 0.6688 - val_accuracy: 0.7083\n",
      "Epoch 32/100\n",
      "4/4 [==============================] - 0s 26ms/step - loss: 0.6673 - accuracy: 0.7389 - val_loss: 0.6674 - val_accuracy: 0.7292\n",
      "Epoch 33/100\n",
      "4/4 [==============================] - 0s 29ms/step - loss: 0.6631 - accuracy: 0.7560 - val_loss: 0.6660 - val_accuracy: 0.7292\n",
      "Epoch 34/100\n",
      "4/4 [==============================] - 0s 28ms/step - loss: 0.6635 - accuracy: 0.7431 - val_loss: 0.6646 - val_accuracy: 0.7292\n",
      "Epoch 35/100\n",
      "4/4 [==============================] - 0s 29ms/step - loss: 0.6642 - accuracy: 0.7440 - val_loss: 0.6632 - val_accuracy: 0.7500\n",
      "Epoch 36/100\n",
      "4/4 [==============================] - 0s 33ms/step - loss: 0.6604 - accuracy: 0.7672 - val_loss: 0.6618 - val_accuracy: 0.7500\n",
      "Epoch 37/100\n",
      "4/4 [==============================] - 0s 27ms/step - loss: 0.6610 - accuracy: 0.7658 - val_loss: 0.6604 - val_accuracy: 0.7500\n",
      "Epoch 38/100\n",
      "4/4 [==============================] - 0s 25ms/step - loss: 0.6649 - accuracy: 0.7427 - val_loss: 0.6591 - val_accuracy: 0.7708\n",
      "Epoch 39/100\n",
      "4/4 [==============================] - 0s 22ms/step - loss: 0.6558 - accuracy: 0.7987 - val_loss: 0.6577 - val_accuracy: 0.7708\n",
      "Epoch 40/100\n",
      "4/4 [==============================] - 0s 23ms/step - loss: 0.6611 - accuracy: 0.7492 - val_loss: 0.6563 - val_accuracy: 0.7708\n",
      "Epoch 41/100\n",
      "4/4 [==============================] - 0s 20ms/step - loss: 0.6551 - accuracy: 0.7853 - val_loss: 0.6550 - val_accuracy: 0.7708\n",
      "Epoch 42/100\n",
      "4/4 [==============================] - 0s 20ms/step - loss: 0.6557 - accuracy: 0.7724 - val_loss: 0.6536 - val_accuracy: 0.7708\n",
      "Epoch 43/100\n",
      "4/4 [==============================] - 0s 19ms/step - loss: 0.6559 - accuracy: 0.7503 - val_loss: 0.6522 - val_accuracy: 0.7708\n",
      "Epoch 44/100\n",
      "4/4 [==============================] - 0s 20ms/step - loss: 0.6493 - accuracy: 0.7934 - val_loss: 0.6509 - val_accuracy: 0.7708\n",
      "Epoch 45/100\n",
      "4/4 [==============================] - 0s 19ms/step - loss: 0.6493 - accuracy: 0.7920 - val_loss: 0.6495 - val_accuracy: 0.7708\n",
      "Epoch 46/100\n",
      "4/4 [==============================] - 0s 23ms/step - loss: 0.6546 - accuracy: 0.7635 - val_loss: 0.6482 - val_accuracy: 0.7708\n",
      "Epoch 47/100\n",
      "4/4 [==============================] - 0s 28ms/step - loss: 0.6515 - accuracy: 0.7658 - val_loss: 0.6468 - val_accuracy: 0.7500\n",
      "Epoch 48/100\n",
      "4/4 [==============================] - 0s 22ms/step - loss: 0.6461 - accuracy: 0.7991 - val_loss: 0.6455 - val_accuracy: 0.7500\n",
      "Epoch 49/100\n",
      "4/4 [==============================] - 0s 23ms/step - loss: 0.6484 - accuracy: 0.7852 - val_loss: 0.6441 - val_accuracy: 0.7500\n",
      "Epoch 50/100\n",
      "4/4 [==============================] - 0s 24ms/step - loss: 0.6409 - accuracy: 0.8261 - val_loss: 0.6426 - val_accuracy: 0.7500\n",
      "Epoch 51/100\n",
      "4/4 [==============================] - 0s 26ms/step - loss: 0.6442 - accuracy: 0.7921 - val_loss: 0.6412 - val_accuracy: 0.7500\n",
      "Epoch 52/100\n",
      "4/4 [==============================] - 0s 24ms/step - loss: 0.6424 - accuracy: 0.8003 - val_loss: 0.6398 - val_accuracy: 0.7500\n",
      "Epoch 53/100\n",
      "4/4 [==============================] - 0s 22ms/step - loss: 0.6414 - accuracy: 0.7916 - val_loss: 0.6384 - val_accuracy: 0.7500\n",
      "Epoch 54/100\n",
      "4/4 [==============================] - 0s 29ms/step - loss: 0.6386 - accuracy: 0.8072 - val_loss: 0.6370 - val_accuracy: 0.7500\n",
      "Epoch 55/100\n",
      "4/4 [==============================] - 0s 33ms/step - loss: 0.6375 - accuracy: 0.8078 - val_loss: 0.6356 - val_accuracy: 0.7500\n",
      "Epoch 56/100\n",
      "4/4 [==============================] - 0s 25ms/step - loss: 0.6353 - accuracy: 0.7969 - val_loss: 0.6342 - val_accuracy: 0.7500\n",
      "Epoch 57/100\n",
      "4/4 [==============================] - 0s 22ms/step - loss: 0.6352 - accuracy: 0.8006 - val_loss: 0.6328 - val_accuracy: 0.7500\n",
      "Epoch 58/100\n",
      "4/4 [==============================] - 0s 22ms/step - loss: 0.6358 - accuracy: 0.7774 - val_loss: 0.6314 - val_accuracy: 0.7500\n",
      "Epoch 59/100\n"
     ]
    },
    {
     "name": "stdout",
     "output_type": "stream",
     "text": [
      "4/4 [==============================] - 0s 22ms/step - loss: 0.6318 - accuracy: 0.8006 - val_loss: 0.6300 - val_accuracy: 0.7500\n",
      "Epoch 60/100\n",
      "4/4 [==============================] - 0s 24ms/step - loss: 0.6304 - accuracy: 0.7872 - val_loss: 0.6286 - val_accuracy: 0.7500\n",
      "Epoch 61/100\n",
      "4/4 [==============================] - 0s 19ms/step - loss: 0.6291 - accuracy: 0.8017 - val_loss: 0.6271 - val_accuracy: 0.7500\n",
      "Epoch 62/100\n",
      "4/4 [==============================] - 0s 18ms/step - loss: 0.6273 - accuracy: 0.7946 - val_loss: 0.6256 - val_accuracy: 0.7500\n",
      "Epoch 63/100\n",
      "4/4 [==============================] - 0s 25ms/step - loss: 0.6263 - accuracy: 0.8017 - val_loss: 0.6242 - val_accuracy: 0.7500\n",
      "Epoch 64/100\n",
      "4/4 [==============================] - 0s 28ms/step - loss: 0.6238 - accuracy: 0.7905 - val_loss: 0.6228 - val_accuracy: 0.7292\n",
      "Epoch 65/100\n",
      "4/4 [==============================] - 0s 32ms/step - loss: 0.6203 - accuracy: 0.8137 - val_loss: 0.6214 - val_accuracy: 0.7292\n",
      "Epoch 66/100\n",
      "4/4 [==============================] - 0s 29ms/step - loss: 0.6206 - accuracy: 0.7998 - val_loss: 0.6199 - val_accuracy: 0.7292\n",
      "Epoch 67/100\n",
      "4/4 [==============================] - 0s 25ms/step - loss: 0.6245 - accuracy: 0.7830 - val_loss: 0.6185 - val_accuracy: 0.7500\n",
      "Epoch 68/100\n",
      "4/4 [==============================] - 0s 27ms/step - loss: 0.6233 - accuracy: 0.8073 - val_loss: 0.6170 - val_accuracy: 0.7708\n",
      "Epoch 69/100\n",
      "4/4 [==============================] - 0s 31ms/step - loss: 0.6240 - accuracy: 0.8019 - val_loss: 0.6156 - val_accuracy: 0.7708\n",
      "Epoch 70/100\n",
      "4/4 [==============================] - 0s 36ms/step - loss: 0.6123 - accuracy: 0.8315 - val_loss: 0.6142 - val_accuracy: 0.7708\n",
      "Epoch 71/100\n",
      "4/4 [==============================] - 0s 32ms/step - loss: 0.6107 - accuracy: 0.8138 - val_loss: 0.6126 - val_accuracy: 0.7708\n",
      "Epoch 72/100\n",
      "4/4 [==============================] - 0s 31ms/step - loss: 0.6130 - accuracy: 0.8148 - val_loss: 0.6112 - val_accuracy: 0.7708\n",
      "Epoch 73/100\n",
      "4/4 [==============================] - 0s 27ms/step - loss: 0.6127 - accuracy: 0.8191 - val_loss: 0.6097 - val_accuracy: 0.7708\n",
      "Epoch 74/100\n",
      "4/4 [==============================] - 0s 22ms/step - loss: 0.6052 - accuracy: 0.8256 - val_loss: 0.6082 - val_accuracy: 0.7917\n",
      "Epoch 75/100\n",
      "4/4 [==============================] - 0s 22ms/step - loss: 0.6066 - accuracy: 0.8068 - val_loss: 0.6067 - val_accuracy: 0.7917\n",
      "Epoch 76/100\n",
      "4/4 [==============================] - 0s 24ms/step - loss: 0.6150 - accuracy: 0.7820 - val_loss: 0.6051 - val_accuracy: 0.7708\n",
      "Epoch 77/100\n",
      "4/4 [==============================] - 0s 27ms/step - loss: 0.6107 - accuracy: 0.8031 - val_loss: 0.6035 - val_accuracy: 0.7708\n",
      "Epoch 78/100\n",
      "4/4 [==============================] - 0s 31ms/step - loss: 0.6067 - accuracy: 0.8122 - val_loss: 0.6020 - val_accuracy: 0.7708\n",
      "Epoch 79/100\n",
      "4/4 [==============================] - 0s 29ms/step - loss: 0.6060 - accuracy: 0.7999 - val_loss: 0.6004 - val_accuracy: 0.7708\n",
      "Epoch 80/100\n",
      "4/4 [==============================] - 0s 24ms/step - loss: 0.6026 - accuracy: 0.8105 - val_loss: 0.5988 - val_accuracy: 0.7708\n",
      "Epoch 81/100\n",
      "4/4 [==============================] - 0s 27ms/step - loss: 0.6084 - accuracy: 0.7874 - val_loss: 0.5972 - val_accuracy: 0.7708\n",
      "Epoch 82/100\n",
      "4/4 [==============================] - 0s 25ms/step - loss: 0.5978 - accuracy: 0.8197 - val_loss: 0.5954 - val_accuracy: 0.7708\n",
      "Epoch 83/100\n",
      "4/4 [==============================] - 0s 27ms/step - loss: 0.6026 - accuracy: 0.7943 - val_loss: 0.5937 - val_accuracy: 0.7708\n",
      "Epoch 84/100\n",
      "4/4 [==============================] - 0s 24ms/step - loss: 0.5986 - accuracy: 0.8137 - val_loss: 0.5920 - val_accuracy: 0.7708\n",
      "Epoch 85/100\n",
      "4/4 [==============================] - 0s 26ms/step - loss: 0.5954 - accuracy: 0.8186 - val_loss: 0.5903 - val_accuracy: 0.7708\n",
      "Epoch 86/100\n",
      "4/4 [==============================] - 0s 24ms/step - loss: 0.5924 - accuracy: 0.8121 - val_loss: 0.5886 - val_accuracy: 0.7708\n",
      "Epoch 87/100\n",
      "4/4 [==============================] - 0s 19ms/step - loss: 0.5937 - accuracy: 0.8015 - val_loss: 0.5869 - val_accuracy: 0.7708\n",
      "Epoch 88/100\n",
      "4/4 [==============================] - 0s 21ms/step - loss: 0.5912 - accuracy: 0.8197 - val_loss: 0.5852 - val_accuracy: 0.7708\n",
      "Epoch 89/100\n",
      "4/4 [==============================] - 0s 21ms/step - loss: 0.5903 - accuracy: 0.8085 - val_loss: 0.5835 - val_accuracy: 0.7708\n",
      "Epoch 90/100\n",
      "4/4 [==============================] - 0s 24ms/step - loss: 0.5919 - accuracy: 0.7929 - val_loss: 0.5817 - val_accuracy: 0.7708\n",
      "Epoch 91/100\n",
      "4/4 [==============================] - 0s 21ms/step - loss: 0.5886 - accuracy: 0.8138 - val_loss: 0.5800 - val_accuracy: 0.7708\n",
      "Epoch 92/100\n",
      "4/4 [==============================] - 0s 17ms/step - loss: 0.5826 - accuracy: 0.8208 - val_loss: 0.5782 - val_accuracy: 0.7708\n",
      "Epoch 93/100\n",
      "4/4 [==============================] - 0s 21ms/step - loss: 0.5892 - accuracy: 0.7977 - val_loss: 0.5764 - val_accuracy: 0.7708\n",
      "Epoch 94/100\n",
      "4/4 [==============================] - 0s 28ms/step - loss: 0.5791 - accuracy: 0.8181 - val_loss: 0.5747 - val_accuracy: 0.7708\n",
      "Epoch 95/100\n",
      "4/4 [==============================] - 0s 32ms/step - loss: 0.5783 - accuracy: 0.8274 - val_loss: 0.5731 - val_accuracy: 0.7708\n",
      "Epoch 96/100\n",
      "4/4 [==============================] - 0s 33ms/step - loss: 0.5764 - accuracy: 0.8257 - val_loss: 0.5713 - val_accuracy: 0.7708\n",
      "Epoch 97/100\n",
      "4/4 [==============================] - 0s 29ms/step - loss: 0.5838 - accuracy: 0.8101 - val_loss: 0.5695 - val_accuracy: 0.7708\n",
      "Epoch 98/100\n",
      "4/4 [==============================] - 0s 27ms/step - loss: 0.5847 - accuracy: 0.7967 - val_loss: 0.5678 - val_accuracy: 0.7708\n",
      "Epoch 99/100\n",
      "4/4 [==============================] - 0s 29ms/step - loss: 0.5699 - accuracy: 0.8187 - val_loss: 0.5660 - val_accuracy: 0.7708\n",
      "Epoch 100/100\n",
      "4/4 [==============================] - 0s 25ms/step - loss: 0.5751 - accuracy: 0.8058 - val_loss: 0.5644 - val_accuracy: 0.7708\n"
     ]
    }
   ],
   "source": [
    "hist4 = model4.fit(X_train2, Y_train2,\n",
    "          batch_size=62, epochs=100,\n",
    "          validation_data=(X_val2, Y_val2))"
   ]
  },
  {
   "cell_type": "code",
   "execution_count": 97,
   "metadata": {},
   "outputs": [
    {
     "data": {
      "image/png": "[encoded data removed]",
      "text/plain": [
       "<Figure size 432x288 with 1 Axes>"
      ]
     },
     "metadata": {
      "needs_background": "light"
     },
     "output_type": "display_data"
    }
   ],
   "source": [
    "plt.plot(hist4.history['loss'])\n",
    "plt.plot(hist4.history['val_loss'])\n",
    "plt.title('Model loss')\n",
    "plt.ylabel('Loss')\n",
    "plt.xlabel('Epoch')\n",
    "plt.legend(['Train', 'Val'], loc='upper right')\n",
    "plt.show()"
   ]
  },
  {
   "cell_type": "code",
   "execution_count": 98,
   "metadata": {},
   "outputs": [
    {
     "data": {
      "image/png": "[encoded data removed]",
      "text/plain": [
       "<Figure size 432x288 with 1 Axes>"
      ]
     },
     "metadata": {
      "needs_background": "light"
     },
     "output_type": "display_data"
    }
   ],
   "source": [
    "plt.plot(hist4.history['accuracy'])\n",
    "plt.plot(hist4.history['val_accuracy'])\n",
    "plt.title('Model accuracy')\n",
    "plt.ylabel('Accuracy')\n",
    "plt.xlabel('Epoch')\n",
    "plt.legend(['Train', 'Val'], loc='lower right')\n",
    "plt.show()"
   ]
  },
  {
   "cell_type": "code",
   "execution_count": 99,
   "metadata": {},
   "outputs": [
    {
     "name": "stdout",
     "output_type": "stream",
     "text": [
      "1/1 [==============================] - 0s 29ms/step - loss: 0.5917 - accuracy: 0.8333\n"
     ]
    },
    {
     "data": {
      "text/plain": [
       "0.8333333134651184"
      ]
     },
     "execution_count": 99,
     "metadata": {},
     "output_type": "execute_result"
    }
   ],
   "source": [
    "model4.evaluate(X_test2, Y_test2)[1]"
   ]
  },
  {
   "cell_type": "code",
   "execution_count": null,
   "metadata": {},
   "outputs": [],
   "source": []
  }
 ],
 "metadata": {
  "kernelspec": {
   "display_name": "Python 3",
   "language": "python",
   "name": "python3"
  },
  "language_info": {
   "codemirror_mode": {
    "name": "ipython",
    "version": 3
   },
   "file_extension": ".py",
   "mimetype": "text/x-python",
   "name": "python",
   "nbconvert_exporter": "python",
   "pygments_lexer": "ipython3",
   "version": "3.8.5"
  }
 },
 "nbformat": 4,
 "nbformat_minor": 4
}
