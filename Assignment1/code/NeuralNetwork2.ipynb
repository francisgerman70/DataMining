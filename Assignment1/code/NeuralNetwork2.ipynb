{
 "cells": [
  {
   "cell_type": "code",
   "execution_count": 1,
   "metadata": {},
   "outputs": [],
   "source": [
    "import numpy as np\n",
    "import pandas as pd\n",
    "from sklearn.datasets import load_iris\n",
    "from sklearn.tree import DecisionTreeClassifier\n",
    "from sklearn.model_selection import GridSearchCV\n",
    "from sklearn.model_selection import train_test_split\n",
    "from sklearn.metrics import accuracy_score\n",
    "from sklearn import preprocessing\n",
    "import sklearn\n",
    "sklearn.__version__\n",
    "%matplotlib inline\n",
    "from matplotlib import pyplot as plt\n",
    "from keras.models import Sequential\n",
    "from keras.layers import Dense\n",
    "import matplotlib.pyplot as plt"
   ]
  },
  {
   "cell_type": "code",
   "execution_count": 2,
   "metadata": {},
   "outputs": [
    {
     "data": {
      "text/html": [
       "<div>\n",
       "<style scoped>\n",
       "    .dataframe tbody tr th:only-of-type {\n",
       "        vertical-align: middle;\n",
       "    }\n",
       "\n",
       "    .dataframe tbody tr th {\n",
       "        vertical-align: top;\n",
       "    }\n",
       "\n",
       "    .dataframe thead th {\n",
       "        text-align: right;\n",
       "    }\n",
       "</style>\n",
       "<table border=\"1\" class=\"dataframe\">\n",
       "  <thead>\n",
       "    <tr style=\"text-align: right;\">\n",
       "      <th></th>\n",
       "      <th>age</th>\n",
       "      <th>sex</th>\n",
       "      <th>cp</th>\n",
       "      <th>trestbps</th>\n",
       "      <th>chol</th>\n",
       "      <th>fbs</th>\n",
       "      <th>restecg</th>\n",
       "      <th>thalach</th>\n",
       "      <th>exang</th>\n",
       "      <th>oldpeak</th>\n",
       "      <th>slope</th>\n",
       "      <th>ca</th>\n",
       "      <th>thal</th>\n",
       "      <th>num</th>\n",
       "    </tr>\n",
       "  </thead>\n",
       "  <tbody>\n",
       "    <tr>\n",
       "      <th>0</th>\n",
       "      <td>63.0</td>\n",
       "      <td>1.0</td>\n",
       "      <td>1.0</td>\n",
       "      <td>145.0</td>\n",
       "      <td>233.0</td>\n",
       "      <td>1.0</td>\n",
       "      <td>2.0</td>\n",
       "      <td>150.0</td>\n",
       "      <td>0.0</td>\n",
       "      <td>2.3</td>\n",
       "      <td>3.0</td>\n",
       "      <td>0.0</td>\n",
       "      <td>6.0</td>\n",
       "      <td>0</td>\n",
       "    </tr>\n",
       "    <tr>\n",
       "      <th>1</th>\n",
       "      <td>67.0</td>\n",
       "      <td>1.0</td>\n",
       "      <td>4.0</td>\n",
       "      <td>160.0</td>\n",
       "      <td>286.0</td>\n",
       "      <td>0.0</td>\n",
       "      <td>2.0</td>\n",
       "      <td>108.0</td>\n",
       "      <td>1.0</td>\n",
       "      <td>1.5</td>\n",
       "      <td>2.0</td>\n",
       "      <td>3.0</td>\n",
       "      <td>3.0</td>\n",
       "      <td>1</td>\n",
       "    </tr>\n",
       "    <tr>\n",
       "      <th>2</th>\n",
       "      <td>67.0</td>\n",
       "      <td>1.0</td>\n",
       "      <td>4.0</td>\n",
       "      <td>120.0</td>\n",
       "      <td>229.0</td>\n",
       "      <td>0.0</td>\n",
       "      <td>2.0</td>\n",
       "      <td>129.0</td>\n",
       "      <td>1.0</td>\n",
       "      <td>2.6</td>\n",
       "      <td>2.0</td>\n",
       "      <td>2.0</td>\n",
       "      <td>7.0</td>\n",
       "      <td>1</td>\n",
       "    </tr>\n",
       "    <tr>\n",
       "      <th>3</th>\n",
       "      <td>37.0</td>\n",
       "      <td>1.0</td>\n",
       "      <td>3.0</td>\n",
       "      <td>130.0</td>\n",
       "      <td>250.0</td>\n",
       "      <td>0.0</td>\n",
       "      <td>0.0</td>\n",
       "      <td>187.0</td>\n",
       "      <td>0.0</td>\n",
       "      <td>3.5</td>\n",
       "      <td>3.0</td>\n",
       "      <td>0.0</td>\n",
       "      <td>3.0</td>\n",
       "      <td>0</td>\n",
       "    </tr>\n",
       "    <tr>\n",
       "      <th>4</th>\n",
       "      <td>41.0</td>\n",
       "      <td>0.0</td>\n",
       "      <td>2.0</td>\n",
       "      <td>130.0</td>\n",
       "      <td>204.0</td>\n",
       "      <td>0.0</td>\n",
       "      <td>2.0</td>\n",
       "      <td>172.0</td>\n",
       "      <td>0.0</td>\n",
       "      <td>1.4</td>\n",
       "      <td>1.0</td>\n",
       "      <td>0.0</td>\n",
       "      <td>3.0</td>\n",
       "      <td>0</td>\n",
       "    </tr>\n",
       "  </tbody>\n",
       "</table>\n",
       "</div>"
      ],
      "text/plain": [
       "    age  sex   cp  trestbps   chol  fbs  restecg  thalach  exang  oldpeak  \\\n",
       "0  63.0  1.0  1.0     145.0  233.0  1.0      2.0    150.0    0.0      2.3   \n",
       "1  67.0  1.0  4.0     160.0  286.0  0.0      2.0    108.0    1.0      1.5   \n",
       "2  67.0  1.0  4.0     120.0  229.0  0.0      2.0    129.0    1.0      2.6   \n",
       "3  37.0  1.0  3.0     130.0  250.0  0.0      0.0    187.0    0.0      3.5   \n",
       "4  41.0  0.0  2.0     130.0  204.0  0.0      2.0    172.0    0.0      1.4   \n",
       "\n",
       "   slope   ca  thal  num  \n",
       "0    3.0  0.0   6.0    0  \n",
       "1    2.0  3.0   3.0    1  \n",
       "2    2.0  2.0   7.0    1  \n",
       "3    3.0  0.0   3.0    0  \n",
       "4    1.0  0.0   3.0    0  "
      ]
     },
     "execution_count": 2,
     "metadata": {},
     "output_type": "execute_result"
    }
   ],
   "source": [
    "columns = ['age', 'sex', 'cp', 'trestbps', 'chol', 'fbs', 'restecg', 'thalach', 'exang', 'oldpeak', 'slope', 'ca', 'thal', 'num']\n",
    "df2 = pd.read_csv('../cleaned_processed.cleveland.data',header=None,names = columns)\n",
    "df2.columns\n",
    "feature = columns[:13]\n",
    "df2.head()"
   ]
  },
  {
   "cell_type": "code",
   "execution_count": 3,
   "metadata": {},
   "outputs": [],
   "source": [
    "dataset2 = df2.values"
   ]
  },
  {
   "cell_type": "code",
   "execution_count": 4,
   "metadata": {},
   "outputs": [],
   "source": [
    "X2 = dataset2[:,0:13]\n",
    "Y2 = dataset2[:,13]"
   ]
  },
  {
   "cell_type": "code",
   "execution_count": 5,
   "metadata": {},
   "outputs": [],
   "source": [
    "min_max_scaler2 = preprocessing.MinMaxScaler()\n",
    "X_scale2 = min_max_scaler2.fit_transform(X2)"
   ]
  },
  {
   "cell_type": "code",
   "execution_count": 6,
   "metadata": {},
   "outputs": [],
   "source": [
    "X_train2, X_val_and_test2, Y_train2, Y_val_and_test2 = train_test_split(X_scale2, Y2, test_size=0.2)\n"
   ]
  },
  {
   "cell_type": "code",
   "execution_count": 7,
   "metadata": {},
   "outputs": [],
   "source": [
    "X_val2, X_test2, Y_val2, Y_test2 = train_test_split(X_val_and_test2, Y_val_and_test2, test_size=0.2)"
   ]
  },
  {
   "cell_type": "code",
   "execution_count": 8,
   "metadata": {},
   "outputs": [],
   "source": [
    "model2 = Sequential([\n",
    "    Dense(12, activation='relu', input_shape=(13,)),\n",
    "    Dense(12, activation='relu'),\n",
    "    Dense(1, activation='sigmoid'),\n",
    "])"
   ]
  },
  {
   "cell_type": "code",
   "execution_count": 9,
   "metadata": {},
   "outputs": [],
   "source": [
    "model2.compile(optimizer='adam',\n",
    "              loss='binary_crossentropy',\n",
    "              metrics=['accuracy'])"
   ]
  },
  {
   "cell_type": "code",
   "execution_count": 10,
   "metadata": {},
   "outputs": [
    {
     "name": "stdout",
     "output_type": "stream",
     "text": [
      "Epoch 1/100\n",
      "20/20 [==============================] - 2s 52ms/step - loss: 0.6976 - accuracy: 0.4546 - val_loss: 0.6942 - val_accuracy: 0.5625\n",
      "Epoch 2/100\n",
      "20/20 [==============================] - 0s 5ms/step - loss: 0.6963 - accuracy: 0.4396 - val_loss: 0.6835 - val_accuracy: 0.5625\n",
      "Epoch 3/100\n",
      "20/20 [==============================] - 0s 5ms/step - loss: 0.6747 - accuracy: 0.5467 - val_loss: 0.6710 - val_accuracy: 0.5833\n",
      "Epoch 4/100\n",
      "20/20 [==============================] - 0s 6ms/step - loss: 0.6556 - accuracy: 0.5873 - val_loss: 0.6582 - val_accuracy: 0.6042\n",
      "Epoch 5/100\n",
      "20/20 [==============================] - 0s 4ms/step - loss: 0.6317 - accuracy: 0.7009 - val_loss: 0.6440 - val_accuracy: 0.6250\n",
      "Epoch 6/100\n",
      "20/20 [==============================] - 0s 6ms/step - loss: 0.6191 - accuracy: 0.7645 - val_loss: 0.6310 - val_accuracy: 0.6458\n",
      "Epoch 7/100\n",
      "20/20 [==============================] - 0s 4ms/step - loss: 0.5846 - accuracy: 0.8049 - val_loss: 0.6201 - val_accuracy: 0.6458\n",
      "Epoch 8/100\n",
      "20/20 [==============================] - 0s 7ms/step - loss: 0.5908 - accuracy: 0.7651 - val_loss: 0.6042 - val_accuracy: 0.7083\n",
      "Epoch 9/100\n",
      "20/20 [==============================] - 0s 5ms/step - loss: 0.5568 - accuracy: 0.8176 - val_loss: 0.5846 - val_accuracy: 0.7083\n",
      "Epoch 10/100\n",
      "20/20 [==============================] - 0s 7ms/step - loss: 0.5457 - accuracy: 0.8059 - val_loss: 0.5669 - val_accuracy: 0.7292\n",
      "Epoch 11/100\n",
      "20/20 [==============================] - 0s 7ms/step - loss: 0.4863 - accuracy: 0.8597 - val_loss: 0.5490 - val_accuracy: 0.7500\n",
      "Epoch 12/100\n",
      "20/20 [==============================] - 0s 6ms/step - loss: 0.4657 - accuracy: 0.8221 - val_loss: 0.5384 - val_accuracy: 0.7500\n",
      "Epoch 13/100\n",
      "20/20 [==============================] - 0s 5ms/step - loss: 0.4593 - accuracy: 0.8432 - val_loss: 0.5314 - val_accuracy: 0.7500\n",
      "Epoch 14/100\n",
      "20/20 [==============================] - 0s 8ms/step - loss: 0.4180 - accuracy: 0.8458 - val_loss: 0.5247 - val_accuracy: 0.7500\n",
      "Epoch 15/100\n",
      "20/20 [==============================] - 0s 5ms/step - loss: 0.4329 - accuracy: 0.8093 - val_loss: 0.5251 - val_accuracy: 0.6875\n",
      "Epoch 16/100\n",
      "20/20 [==============================] - 0s 4ms/step - loss: 0.4389 - accuracy: 0.8091 - val_loss: 0.5251 - val_accuracy: 0.6667\n",
      "Epoch 17/100\n",
      "20/20 [==============================] - 0s 4ms/step - loss: 0.3822 - accuracy: 0.8536 - val_loss: 0.5229 - val_accuracy: 0.6875\n",
      "Epoch 18/100\n",
      "20/20 [==============================] - 0s 7ms/step - loss: 0.3813 - accuracy: 0.8516 - val_loss: 0.5255 - val_accuracy: 0.6667\n",
      "Epoch 19/100\n",
      "20/20 [==============================] - 0s 4ms/step - loss: 0.3815 - accuracy: 0.8533 - val_loss: 0.5232 - val_accuracy: 0.6875\n",
      "Epoch 20/100\n",
      "20/20 [==============================] - 0s 4ms/step - loss: 0.3717 - accuracy: 0.8350 - val_loss: 0.5263 - val_accuracy: 0.6875\n",
      "Epoch 21/100\n",
      "20/20 [==============================] - 0s 4ms/step - loss: 0.4184 - accuracy: 0.8282 - val_loss: 0.5265 - val_accuracy: 0.6875\n",
      "Epoch 22/100\n",
      "20/20 [==============================] - 0s 3ms/step - loss: 0.3843 - accuracy: 0.8238 - val_loss: 0.5247 - val_accuracy: 0.6875\n",
      "Epoch 23/100\n",
      "20/20 [==============================] - 0s 4ms/step - loss: 0.3662 - accuracy: 0.8504 - val_loss: 0.5273 - val_accuracy: 0.7083\n",
      "Epoch 24/100\n",
      "20/20 [==============================] - 0s 4ms/step - loss: 0.3649 - accuracy: 0.8461 - val_loss: 0.5264 - val_accuracy: 0.7083\n",
      "Epoch 25/100\n",
      "20/20 [==============================] - 0s 4ms/step - loss: 0.3653 - accuracy: 0.8381 - val_loss: 0.5253 - val_accuracy: 0.7292\n",
      "Epoch 26/100\n",
      "20/20 [==============================] - 0s 4ms/step - loss: 0.3119 - accuracy: 0.8880 - val_loss: 0.5249 - val_accuracy: 0.7292\n",
      "Epoch 27/100\n",
      "20/20 [==============================] - 0s 3ms/step - loss: 0.3576 - accuracy: 0.8602 - val_loss: 0.5356 - val_accuracy: 0.7083\n",
      "Epoch 28/100\n",
      "20/20 [==============================] - 0s 6ms/step - loss: 0.3583 - accuracy: 0.8536 - val_loss: 0.5264 - val_accuracy: 0.7292\n",
      "Epoch 29/100\n",
      "20/20 [==============================] - 0s 4ms/step - loss: 0.2969 - accuracy: 0.8923 - val_loss: 0.5204 - val_accuracy: 0.7708\n",
      "Epoch 30/100\n",
      "20/20 [==============================] - 0s 4ms/step - loss: 0.3167 - accuracy: 0.8761 - val_loss: 0.5209 - val_accuracy: 0.7708\n",
      "Epoch 31/100\n",
      "20/20 [==============================] - 0s 3ms/step - loss: 0.3382 - accuracy: 0.8532 - val_loss: 0.5320 - val_accuracy: 0.7292\n",
      "Epoch 32/100\n",
      "20/20 [==============================] - 0s 4ms/step - loss: 0.3142 - accuracy: 0.8656 - val_loss: 0.5250 - val_accuracy: 0.7292\n",
      "Epoch 33/100\n",
      "20/20 [==============================] - 0s 7ms/step - loss: 0.3161 - accuracy: 0.8651 - val_loss: 0.5251 - val_accuracy: 0.7292\n",
      "Epoch 34/100\n",
      "20/20 [==============================] - 0s 8ms/step - loss: 0.3555 - accuracy: 0.8583 - val_loss: 0.5291 - val_accuracy: 0.7292\n",
      "Epoch 35/100\n",
      "20/20 [==============================] - 0s 6ms/step - loss: 0.3183 - accuracy: 0.8778 - val_loss: 0.5214 - val_accuracy: 0.7500\n",
      "Epoch 36/100\n",
      "20/20 [==============================] - 0s 7ms/step - loss: 0.3400 - accuracy: 0.8521 - val_loss: 0.5233 - val_accuracy: 0.7292\n",
      "Epoch 37/100\n",
      "20/20 [==============================] - 0s 4ms/step - loss: 0.3280 - accuracy: 0.8532 - val_loss: 0.5207 - val_accuracy: 0.7708\n",
      "Epoch 38/100\n",
      "20/20 [==============================] - 0s 5ms/step - loss: 0.3171 - accuracy: 0.8588 - val_loss: 0.5227 - val_accuracy: 0.7500\n",
      "Epoch 39/100\n",
      "20/20 [==============================] - 0s 4ms/step - loss: 0.3220 - accuracy: 0.8705 - val_loss: 0.5216 - val_accuracy: 0.7708\n",
      "Epoch 40/100\n",
      "20/20 [==============================] - 0s 4ms/step - loss: 0.3338 - accuracy: 0.8611 - val_loss: 0.5225 - val_accuracy: 0.7500\n",
      "Epoch 41/100\n",
      "20/20 [==============================] - 0s 4ms/step - loss: 0.3235 - accuracy: 0.8547 - val_loss: 0.5217 - val_accuracy: 0.7500\n",
      "Epoch 42/100\n",
      "20/20 [==============================] - 0s 4ms/step - loss: 0.3702 - accuracy: 0.8384 - val_loss: 0.5241 - val_accuracy: 0.7292\n",
      "Epoch 43/100\n",
      "20/20 [==============================] - 0s 4ms/step - loss: 0.3786 - accuracy: 0.8441 - val_loss: 0.5136 - val_accuracy: 0.7708\n",
      "Epoch 44/100\n",
      "20/20 [==============================] - 0s 4ms/step - loss: 0.2901 - accuracy: 0.8975 - val_loss: 0.5308 - val_accuracy: 0.7500\n",
      "Epoch 45/100\n",
      "20/20 [==============================] - 0s 4ms/step - loss: 0.3077 - accuracy: 0.8799 - val_loss: 0.5270 - val_accuracy: 0.7500\n",
      "Epoch 46/100\n",
      "20/20 [==============================] - 0s 4ms/step - loss: 0.3108 - accuracy: 0.8539 - val_loss: 0.5212 - val_accuracy: 0.7708\n",
      "Epoch 47/100\n",
      "20/20 [==============================] - 0s 5ms/step - loss: 0.3060 - accuracy: 0.8667 - val_loss: 0.5189 - val_accuracy: 0.7708\n",
      "Epoch 48/100\n",
      "20/20 [==============================] - 0s 4ms/step - loss: 0.3297 - accuracy: 0.8720 - val_loss: 0.5191 - val_accuracy: 0.7708\n",
      "Epoch 49/100\n",
      "20/20 [==============================] - 0s 4ms/step - loss: 0.3037 - accuracy: 0.8874 - val_loss: 0.5203 - val_accuracy: 0.7708\n",
      "Epoch 50/100\n",
      "20/20 [==============================] - 0s 4ms/step - loss: 0.3461 - accuracy: 0.8450 - val_loss: 0.5210 - val_accuracy: 0.7917\n",
      "Epoch 51/100\n",
      "20/20 [==============================] - 0s 4ms/step - loss: 0.3337 - accuracy: 0.8631 - val_loss: 0.5214 - val_accuracy: 0.7708\n",
      "Epoch 52/100\n",
      "20/20 [==============================] - 0s 4ms/step - loss: 0.2998 - accuracy: 0.8842 - val_loss: 0.5181 - val_accuracy: 0.7708\n",
      "Epoch 53/100\n",
      "20/20 [==============================] - 0s 4ms/step - loss: 0.2987 - accuracy: 0.8739 - val_loss: 0.5217 - val_accuracy: 0.7708\n",
      "Epoch 54/100\n",
      "20/20 [==============================] - 0s 5ms/step - loss: 0.2923 - accuracy: 0.8867 - val_loss: 0.5320 - val_accuracy: 0.7500\n",
      "Epoch 55/100\n",
      "20/20 [==============================] - 0s 4ms/step - loss: 0.2983 - accuracy: 0.8766 - val_loss: 0.5154 - val_accuracy: 0.7708\n",
      "Epoch 56/100\n",
      "20/20 [==============================] - 0s 4ms/step - loss: 0.2886 - accuracy: 0.8885 - val_loss: 0.5243 - val_accuracy: 0.7708\n",
      "Epoch 57/100\n",
      "20/20 [==============================] - 0s 4ms/step - loss: 0.3146 - accuracy: 0.8502 - val_loss: 0.5183 - val_accuracy: 0.7708\n",
      "Epoch 58/100\n",
      "20/20 [==============================] - 0s 4ms/step - loss: 0.2931 - accuracy: 0.8870 - val_loss: 0.5191 - val_accuracy: 0.7917\n"
     ]
    },
    {
     "name": "stdout",
     "output_type": "stream",
     "text": [
      "Epoch 59/100\n",
      "20/20 [==============================] - 0s 4ms/step - loss: 0.3163 - accuracy: 0.8487 - val_loss: 0.5225 - val_accuracy: 0.7708\n",
      "Epoch 60/100\n",
      "20/20 [==============================] - 0s 4ms/step - loss: 0.2877 - accuracy: 0.8906 - val_loss: 0.5179 - val_accuracy: 0.7917\n",
      "Epoch 61/100\n",
      "20/20 [==============================] - 0s 4ms/step - loss: 0.2966 - accuracy: 0.8898 - val_loss: 0.5141 - val_accuracy: 0.7917\n",
      "Epoch 62/100\n",
      "20/20 [==============================] - 0s 4ms/step - loss: 0.2979 - accuracy: 0.8661 - val_loss: 0.5195 - val_accuracy: 0.7708\n",
      "Epoch 63/100\n",
      "20/20 [==============================] - 0s 3ms/step - loss: 0.3127 - accuracy: 0.8662 - val_loss: 0.5192 - val_accuracy: 0.7708\n",
      "Epoch 64/100\n",
      "20/20 [==============================] - 0s 3ms/step - loss: 0.3145 - accuracy: 0.8639 - val_loss: 0.5210 - val_accuracy: 0.7708\n",
      "Epoch 65/100\n",
      "20/20 [==============================] - 0s 3ms/step - loss: 0.2900 - accuracy: 0.8863 - val_loss: 0.5221 - val_accuracy: 0.7708\n",
      "Epoch 66/100\n",
      "20/20 [==============================] - 0s 3ms/step - loss: 0.3131 - accuracy: 0.8698 - val_loss: 0.5142 - val_accuracy: 0.7917\n",
      "Epoch 67/100\n",
      "20/20 [==============================] - 0s 4ms/step - loss: 0.3332 - accuracy: 0.8425 - val_loss: 0.5246 - val_accuracy: 0.7708\n",
      "Epoch 68/100\n",
      "20/20 [==============================] - 0s 4ms/step - loss: 0.3298 - accuracy: 0.8466 - val_loss: 0.5196 - val_accuracy: 0.7708\n",
      "Epoch 69/100\n",
      "20/20 [==============================] - 0s 4ms/step - loss: 0.3485 - accuracy: 0.8494 - val_loss: 0.5158 - val_accuracy: 0.7708\n",
      "Epoch 70/100\n",
      "20/20 [==============================] - 0s 4ms/step - loss: 0.2567 - accuracy: 0.8997 - val_loss: 0.5189 - val_accuracy: 0.7708\n",
      "Epoch 71/100\n",
      "20/20 [==============================] - 0s 7ms/step - loss: 0.3191 - accuracy: 0.8343 - val_loss: 0.5194 - val_accuracy: 0.7708\n",
      "Epoch 72/100\n",
      "20/20 [==============================] - 0s 4ms/step - loss: 0.3509 - accuracy: 0.8470 - val_loss: 0.5181 - val_accuracy: 0.7708\n",
      "Epoch 73/100\n",
      "20/20 [==============================] - 0s 4ms/step - loss: 0.2441 - accuracy: 0.9064 - val_loss: 0.5174 - val_accuracy: 0.7708\n",
      "Epoch 74/100\n",
      "20/20 [==============================] - 0s 4ms/step - loss: 0.2776 - accuracy: 0.8799 - val_loss: 0.5156 - val_accuracy: 0.7917\n",
      "Epoch 75/100\n",
      "20/20 [==============================] - 0s 5ms/step - loss: 0.3351 - accuracy: 0.8701 - val_loss: 0.5131 - val_accuracy: 0.7917\n",
      "Epoch 76/100\n",
      "20/20 [==============================] - 0s 4ms/step - loss: 0.3051 - accuracy: 0.8669 - val_loss: 0.5245 - val_accuracy: 0.7708\n",
      "Epoch 77/100\n",
      "20/20 [==============================] - 0s 3ms/step - loss: 0.3053 - accuracy: 0.8692 - val_loss: 0.5185 - val_accuracy: 0.7708\n",
      "Epoch 78/100\n",
      "20/20 [==============================] - 0s 4ms/step - loss: 0.2793 - accuracy: 0.8827 - val_loss: 0.5160 - val_accuracy: 0.7708\n",
      "Epoch 79/100\n",
      "20/20 [==============================] - 0s 3ms/step - loss: 0.2540 - accuracy: 0.9052 - val_loss: 0.5155 - val_accuracy: 0.7917\n",
      "Epoch 80/100\n",
      "20/20 [==============================] - 0s 4ms/step - loss: 0.2640 - accuracy: 0.9094 - val_loss: 0.5176 - val_accuracy: 0.7917\n",
      "Epoch 81/100\n",
      "20/20 [==============================] - 0s 4ms/step - loss: 0.2791 - accuracy: 0.8790 - val_loss: 0.5203 - val_accuracy: 0.7708\n",
      "Epoch 82/100\n",
      "20/20 [==============================] - 0s 4ms/step - loss: 0.2626 - accuracy: 0.8860 - val_loss: 0.5172 - val_accuracy: 0.7708\n",
      "Epoch 83/100\n",
      "20/20 [==============================] - 0s 4ms/step - loss: 0.2914 - accuracy: 0.8827 - val_loss: 0.5096 - val_accuracy: 0.7917\n",
      "Epoch 84/100\n",
      "20/20 [==============================] - 0s 4ms/step - loss: 0.2596 - accuracy: 0.8797 - val_loss: 0.5209 - val_accuracy: 0.7708\n",
      "Epoch 85/100\n",
      "20/20 [==============================] - 0s 4ms/step - loss: 0.2951 - accuracy: 0.8805 - val_loss: 0.5056 - val_accuracy: 0.7708\n",
      "Epoch 86/100\n",
      "20/20 [==============================] - 0s 4ms/step - loss: 0.2932 - accuracy: 0.8792 - val_loss: 0.5162 - val_accuracy: 0.7708\n",
      "Epoch 87/100\n",
      "20/20 [==============================] - 0s 3ms/step - loss: 0.2763 - accuracy: 0.8967 - val_loss: 0.5112 - val_accuracy: 0.7917\n",
      "Epoch 88/100\n",
      "20/20 [==============================] - 0s 3ms/step - loss: 0.3304 - accuracy: 0.8290 - val_loss: 0.5108 - val_accuracy: 0.7917\n",
      "Epoch 89/100\n",
      "20/20 [==============================] - 0s 4ms/step - loss: 0.2836 - accuracy: 0.8807 - val_loss: 0.5201 - val_accuracy: 0.7708\n",
      "Epoch 90/100\n",
      "20/20 [==============================] - 0s 3ms/step - loss: 0.3070 - accuracy: 0.8675 - val_loss: 0.5147 - val_accuracy: 0.7917\n",
      "Epoch 91/100\n",
      "20/20 [==============================] - 0s 3ms/step - loss: 0.3013 - accuracy: 0.8761 - val_loss: 0.5146 - val_accuracy: 0.7500\n",
      "Epoch 92/100\n",
      "20/20 [==============================] - 0s 4ms/step - loss: 0.2637 - accuracy: 0.8824 - val_loss: 0.5174 - val_accuracy: 0.7708\n",
      "Epoch 93/100\n",
      "20/20 [==============================] - 0s 3ms/step - loss: 0.2485 - accuracy: 0.9153 - val_loss: 0.5153 - val_accuracy: 0.7708\n",
      "Epoch 94/100\n",
      "20/20 [==============================] - 0s 5ms/step - loss: 0.2974 - accuracy: 0.8904 - val_loss: 0.5121 - val_accuracy: 0.7708\n",
      "Epoch 95/100\n",
      "20/20 [==============================] - 0s 4ms/step - loss: 0.2711 - accuracy: 0.8790 - val_loss: 0.5104 - val_accuracy: 0.7708\n",
      "Epoch 96/100\n",
      "20/20 [==============================] - 0s 4ms/step - loss: 0.3211 - accuracy: 0.8779 - val_loss: 0.5095 - val_accuracy: 0.7708\n",
      "Epoch 97/100\n",
      "20/20 [==============================] - 0s 4ms/step - loss: 0.2752 - accuracy: 0.8956 - val_loss: 0.5092 - val_accuracy: 0.7708\n",
      "Epoch 98/100\n",
      "20/20 [==============================] - 0s 4ms/step - loss: 0.2864 - accuracy: 0.8819 - val_loss: 0.5159 - val_accuracy: 0.7500\n",
      "Epoch 99/100\n",
      "20/20 [==============================] - 0s 4ms/step - loss: 0.2651 - accuracy: 0.8963 - val_loss: 0.5105 - val_accuracy: 0.7500\n",
      "Epoch 100/100\n",
      "20/20 [==============================] - 0s 4ms/step - loss: 0.2768 - accuracy: 0.8773 - val_loss: 0.5074 - val_accuracy: 0.7708\n"
     ]
    }
   ],
   "source": [
    "hist2 = model2.fit(X_train2, Y_train2,\n",
    "          batch_size=12, epochs=100,\n",
    "          validation_data=(X_val2, Y_val2))"
   ]
  },
  {
   "cell_type": "code",
   "execution_count": 11,
   "metadata": {},
   "outputs": [
    {
     "data": {
      "image/png": "[encoded data removed]",
      "text/plain": [
       "<Figure size 432x288 with 1 Axes>"
      ]
     },
     "metadata": {
      "needs_background": "light"
     },
     "output_type": "display_data"
    }
   ],
   "source": [
    "plt.plot(hist2.history['loss'])\n",
    "plt.plot(hist2.history['val_loss'])\n",
    "plt.title('Model loss')\n",
    "plt.ylabel('Loss')\n",
    "plt.xlabel('Epoch')\n",
    "plt.legend(['Train', 'Val'], loc='upper right')\n",
    "plt.show()"
   ]
  },
  {
   "cell_type": "code",
   "execution_count": 12,
   "metadata": {},
   "outputs": [
    {
     "data": {
      "image/png": "[encoded data removed]",
      "text/plain": [
       "<Figure size 432x288 with 1 Axes>"
      ]
     },
     "metadata": {
      "needs_background": "light"
     },
     "output_type": "display_data"
    }
   ],
   "source": [
    "plt.plot(hist2.history['accuracy'])\n",
    "plt.plot(hist2.history['val_accuracy'])\n",
    "plt.title('Model accuracy')\n",
    "plt.ylabel('Accuracy')\n",
    "plt.xlabel('Epoch')\n",
    "plt.legend(['Train', 'Val'], loc='lower right')\n",
    "plt.show()"
   ]
  },
  {
   "cell_type": "code",
   "execution_count": 13,
   "metadata": {},
   "outputs": [
    {
     "name": "stdout",
     "output_type": "stream",
     "text": [
      "1/1 [==============================] - 0s 140ms/step - loss: 0.6472 - accuracy: 0.7500\n"
     ]
    },
    {
     "data": {
      "text/plain": [
       "0.75"
      ]
     },
     "execution_count": 13,
     "metadata": {},
     "output_type": "execute_result"
    }
   ],
   "source": [
    "model2.evaluate(X_test2, Y_test2)[1]"
   ]
  },
  {
   "cell_type": "code",
   "execution_count": 14,
   "metadata": {},
   "outputs": [],
   "source": [
    "model4 = Sequential([\n",
    "    Dense(62, activation='relu', input_shape=(13,)),\n",
    "    Dense(62, activation='relu'),\n",
    "    Dense(1, activation='sigmoid'),\n",
    "])"
   ]
  },
  {
   "cell_type": "code",
   "execution_count": 15,
   "metadata": {},
   "outputs": [],
   "source": [
    "model4.compile(optimizer='adam',\n",
    "              loss='binary_crossentropy',\n",
    "              metrics=['accuracy'])"
   ]
  },
  {
   "cell_type": "code",
   "execution_count": 16,
   "metadata": {},
   "outputs": [
    {
     "name": "stdout",
     "output_type": "stream",
     "text": [
      "Epoch 1/100\n",
      "4/4 [==============================] - 1s 82ms/step - loss: 0.6769 - accuracy: 0.6143 - val_loss: 0.6956 - val_accuracy: 0.5208\n",
      "Epoch 2/100\n",
      "4/4 [==============================] - 0s 21ms/step - loss: 0.6577 - accuracy: 0.7038 - val_loss: 0.6683 - val_accuracy: 0.6458\n",
      "Epoch 3/100\n",
      "4/4 [==============================] - 0s 18ms/step - loss: 0.6330 - accuracy: 0.8144 - val_loss: 0.6486 - val_accuracy: 0.7292\n",
      "Epoch 4/100\n",
      "4/4 [==============================] - 0s 21ms/step - loss: 0.6027 - accuracy: 0.8454 - val_loss: 0.6287 - val_accuracy: 0.7500\n",
      "Epoch 5/100\n",
      "4/4 [==============================] - 0s 21ms/step - loss: 0.5861 - accuracy: 0.8607 - val_loss: 0.6108 - val_accuracy: 0.7708\n",
      "Epoch 6/100\n",
      "4/4 [==============================] - 0s 18ms/step - loss: 0.5552 - accuracy: 0.8678 - val_loss: 0.5913 - val_accuracy: 0.7708\n",
      "Epoch 7/100\n",
      "4/4 [==============================] - 0s 21ms/step - loss: 0.5364 - accuracy: 0.8517 - val_loss: 0.5704 - val_accuracy: 0.7917\n",
      "Epoch 8/100\n",
      "4/4 [==============================] - 0s 21ms/step - loss: 0.5093 - accuracy: 0.8610 - val_loss: 0.5488 - val_accuracy: 0.7917\n",
      "Epoch 9/100\n",
      "4/4 [==============================] - 0s 22ms/step - loss: 0.4830 - accuracy: 0.8706 - val_loss: 0.5276 - val_accuracy: 0.7917\n",
      "Epoch 10/100\n",
      "4/4 [==============================] - 0s 22ms/step - loss: 0.4592 - accuracy: 0.8755 - val_loss: 0.5089 - val_accuracy: 0.7917\n",
      "Epoch 11/100\n",
      "4/4 [==============================] - 0s 22ms/step - loss: 0.4363 - accuracy: 0.8657 - val_loss: 0.4930 - val_accuracy: 0.7917\n",
      "Epoch 12/100\n",
      "4/4 [==============================] - 0s 22ms/step - loss: 0.4254 - accuracy: 0.8561 - val_loss: 0.4827 - val_accuracy: 0.7917\n",
      "Epoch 13/100\n",
      "4/4 [==============================] - 0s 22ms/step - loss: 0.4002 - accuracy: 0.8643 - val_loss: 0.4765 - val_accuracy: 0.7917\n",
      "Epoch 14/100\n",
      "4/4 [==============================] - 0s 23ms/step - loss: 0.3846 - accuracy: 0.8799 - val_loss: 0.4716 - val_accuracy: 0.7917\n",
      "Epoch 15/100\n",
      "4/4 [==============================] - 0s 22ms/step - loss: 0.3692 - accuracy: 0.8653 - val_loss: 0.4719 - val_accuracy: 0.7917\n",
      "Epoch 16/100\n",
      "4/4 [==============================] - 0s 21ms/step - loss: 0.3493 - accuracy: 0.8610 - val_loss: 0.4713 - val_accuracy: 0.7917\n",
      "Epoch 17/100\n",
      "4/4 [==============================] - 0s 20ms/step - loss: 0.3776 - accuracy: 0.8574 - val_loss: 0.4700 - val_accuracy: 0.7917\n",
      "Epoch 18/100\n",
      "4/4 [==============================] - 0s 22ms/step - loss: 0.3330 - accuracy: 0.8849 - val_loss: 0.4682 - val_accuracy: 0.8125\n",
      "Epoch 19/100\n",
      "4/4 [==============================] - 0s 21ms/step - loss: 0.3617 - accuracy: 0.8541 - val_loss: 0.4671 - val_accuracy: 0.8333\n",
      "Epoch 20/100\n",
      "4/4 [==============================] - 0s 22ms/step - loss: 0.3388 - accuracy: 0.8683 - val_loss: 0.4690 - val_accuracy: 0.8333\n",
      "Epoch 21/100\n",
      "4/4 [==============================] - 0s 20ms/step - loss: 0.2985 - accuracy: 0.8816 - val_loss: 0.4738 - val_accuracy: 0.8333\n",
      "Epoch 22/100\n",
      "4/4 [==============================] - 0s 19ms/step - loss: 0.3573 - accuracy: 0.8586 - val_loss: 0.4713 - val_accuracy: 0.8333\n",
      "Epoch 23/100\n",
      "4/4 [==============================] - 0s 21ms/step - loss: 0.3049 - accuracy: 0.8882 - val_loss: 0.4829 - val_accuracy: 0.8333\n",
      "Epoch 24/100\n",
      "4/4 [==============================] - 0s 20ms/step - loss: 0.3004 - accuracy: 0.8952 - val_loss: 0.4805 - val_accuracy: 0.8333\n",
      "Epoch 25/100\n",
      "4/4 [==============================] - 0s 21ms/step - loss: 0.3285 - accuracy: 0.8742 - val_loss: 0.4791 - val_accuracy: 0.8333\n",
      "Epoch 26/100\n",
      "4/4 [==============================] - 0s 19ms/step - loss: 0.3116 - accuracy: 0.8791 - val_loss: 0.4848 - val_accuracy: 0.8333\n",
      "Epoch 27/100\n",
      "4/4 [==============================] - 0s 20ms/step - loss: 0.3106 - accuracy: 0.8628 - val_loss: 0.4882 - val_accuracy: 0.8333\n",
      "Epoch 28/100\n",
      "4/4 [==============================] - 0s 22ms/step - loss: 0.2857 - accuracy: 0.8772 - val_loss: 0.4877 - val_accuracy: 0.8333\n",
      "Epoch 29/100\n",
      "4/4 [==============================] - 0s 21ms/step - loss: 0.3142 - accuracy: 0.8666 - val_loss: 0.4790 - val_accuracy: 0.8125\n",
      "Epoch 30/100\n",
      "4/4 [==============================] - 0s 22ms/step - loss: 0.2841 - accuracy: 0.8865 - val_loss: 0.4765 - val_accuracy: 0.8125\n",
      "Epoch 31/100\n",
      "4/4 [==============================] - 0s 19ms/step - loss: 0.3146 - accuracy: 0.8580 - val_loss: 0.4809 - val_accuracy: 0.8125\n",
      "Epoch 32/100\n",
      "4/4 [==============================] - 0s 21ms/step - loss: 0.2897 - accuracy: 0.8882 - val_loss: 0.4919 - val_accuracy: 0.8125\n",
      "Epoch 33/100\n",
      "4/4 [==============================] - 0s 19ms/step - loss: 0.2811 - accuracy: 0.8898 - val_loss: 0.4969 - val_accuracy: 0.8125\n",
      "Epoch 34/100\n",
      "4/4 [==============================] - 0s 21ms/step - loss: 0.2620 - accuracy: 0.8898 - val_loss: 0.4912 - val_accuracy: 0.8125\n",
      "Epoch 35/100\n",
      "4/4 [==============================] - 0s 23ms/step - loss: 0.2727 - accuracy: 0.8893 - val_loss: 0.4869 - val_accuracy: 0.8333\n",
      "Epoch 36/100\n",
      "4/4 [==============================] - 0s 23ms/step - loss: 0.2663 - accuracy: 0.8951 - val_loss: 0.4889 - val_accuracy: 0.8333\n",
      "Epoch 37/100\n",
      "4/4 [==============================] - 0s 21ms/step - loss: 0.2679 - accuracy: 0.8795 - val_loss: 0.4903 - val_accuracy: 0.8333\n",
      "Epoch 38/100\n",
      "4/4 [==============================] - 0s 20ms/step - loss: 0.2708 - accuracy: 0.8780 - val_loss: 0.4955 - val_accuracy: 0.8333\n",
      "Epoch 39/100\n",
      "4/4 [==============================] - 0s 21ms/step - loss: 0.2859 - accuracy: 0.8765 - val_loss: 0.4988 - val_accuracy: 0.8333\n",
      "Epoch 40/100\n",
      "4/4 [==============================] - 0s 25ms/step - loss: 0.2670 - accuracy: 0.8883 - val_loss: 0.5030 - val_accuracy: 0.8333\n",
      "Epoch 41/100\n",
      "4/4 [==============================] - 0s 20ms/step - loss: 0.2356 - accuracy: 0.9067 - val_loss: 0.4999 - val_accuracy: 0.8333\n",
      "Epoch 42/100\n",
      "4/4 [==============================] - 0s 20ms/step - loss: 0.2630 - accuracy: 0.9073 - val_loss: 0.4992 - val_accuracy: 0.8333\n",
      "Epoch 43/100\n",
      "4/4 [==============================] - 0s 19ms/step - loss: 0.2653 - accuracy: 0.8944 - val_loss: 0.5102 - val_accuracy: 0.8333\n",
      "Epoch 44/100\n",
      "4/4 [==============================] - 0s 17ms/step - loss: 0.2508 - accuracy: 0.9063 - val_loss: 0.5121 - val_accuracy: 0.8333\n",
      "Epoch 45/100\n",
      "4/4 [==============================] - 0s 19ms/step - loss: 0.2397 - accuracy: 0.9090 - val_loss: 0.5149 - val_accuracy: 0.8333\n",
      "Epoch 46/100\n",
      "4/4 [==============================] - 0s 18ms/step - loss: 0.2735 - accuracy: 0.8880 - val_loss: 0.5085 - val_accuracy: 0.8333\n",
      "Epoch 47/100\n",
      "4/4 [==============================] - 0s 18ms/step - loss: 0.2788 - accuracy: 0.8864 - val_loss: 0.5187 - val_accuracy: 0.8333\n",
      "Epoch 48/100\n",
      "4/4 [==============================] - 0s 19ms/step - loss: 0.2292 - accuracy: 0.9187 - val_loss: 0.5282 - val_accuracy: 0.8333\n",
      "Epoch 49/100\n",
      "4/4 [==============================] - 0s 19ms/step - loss: 0.2188 - accuracy: 0.9328 - val_loss: 0.5351 - val_accuracy: 0.8333\n",
      "Epoch 50/100\n",
      "4/4 [==============================] - 0s 19ms/step - loss: 0.2564 - accuracy: 0.9063 - val_loss: 0.5297 - val_accuracy: 0.8333\n",
      "Epoch 51/100\n",
      "4/4 [==============================] - 0s 18ms/step - loss: 0.2664 - accuracy: 0.8978 - val_loss: 0.5306 - val_accuracy: 0.8333\n",
      "Epoch 52/100\n",
      "4/4 [==============================] - 0s 18ms/step - loss: 0.2377 - accuracy: 0.9090 - val_loss: 0.5359 - val_accuracy: 0.8333\n",
      "Epoch 53/100\n",
      "4/4 [==============================] - 0s 20ms/step - loss: 0.2302 - accuracy: 0.9193 - val_loss: 0.5410 - val_accuracy: 0.8333\n",
      "Epoch 54/100\n",
      "4/4 [==============================] - 0s 17ms/step - loss: 0.2349 - accuracy: 0.9026 - val_loss: 0.5491 - val_accuracy: 0.8333\n",
      "Epoch 55/100\n",
      "4/4 [==============================] - 0s 19ms/step - loss: 0.2405 - accuracy: 0.9162 - val_loss: 0.5553 - val_accuracy: 0.8333\n",
      "Epoch 56/100\n",
      "4/4 [==============================] - 0s 19ms/step - loss: 0.2507 - accuracy: 0.9092 - val_loss: 0.5490 - val_accuracy: 0.8333\n",
      "Epoch 57/100\n",
      "4/4 [==============================] - 0s 17ms/step - loss: 0.2311 - accuracy: 0.9189 - val_loss: 0.5420 - val_accuracy: 0.8333\n",
      "Epoch 58/100\n",
      "4/4 [==============================] - 0s 21ms/step - loss: 0.2314 - accuracy: 0.9119 - val_loss: 0.5527 - val_accuracy: 0.8333\n",
      "Epoch 59/100\n"
     ]
    },
    {
     "name": "stdout",
     "output_type": "stream",
     "text": [
      "4/4 [==============================] - 0s 21ms/step - loss: 0.2536 - accuracy: 0.9071 - val_loss: 0.5666 - val_accuracy: 0.8333\n",
      "Epoch 60/100\n",
      "4/4 [==============================] - 0s 18ms/step - loss: 0.2391 - accuracy: 0.9156 - val_loss: 0.5827 - val_accuracy: 0.8333\n",
      "Epoch 61/100\n",
      "4/4 [==============================] - 0s 20ms/step - loss: 0.2603 - accuracy: 0.8785 - val_loss: 0.5671 - val_accuracy: 0.8333\n",
      "Epoch 62/100\n",
      "4/4 [==============================] - 0s 22ms/step - loss: 0.2080 - accuracy: 0.9238 - val_loss: 0.5650 - val_accuracy: 0.8333\n",
      "Epoch 63/100\n",
      "4/4 [==============================] - 0s 17ms/step - loss: 0.2108 - accuracy: 0.9211 - val_loss: 0.5738 - val_accuracy: 0.8333\n",
      "Epoch 64/100\n",
      "4/4 [==============================] - 0s 17ms/step - loss: 0.2111 - accuracy: 0.9260 - val_loss: 0.5828 - val_accuracy: 0.8333\n",
      "Epoch 65/100\n",
      "4/4 [==============================] - 0s 18ms/step - loss: 0.2278 - accuracy: 0.9169 - val_loss: 0.5815 - val_accuracy: 0.8333\n",
      "Epoch 66/100\n",
      "4/4 [==============================] - 0s 20ms/step - loss: 0.2227 - accuracy: 0.9192 - val_loss: 0.5891 - val_accuracy: 0.8333\n",
      "Epoch 67/100\n",
      "4/4 [==============================] - 0s 16ms/step - loss: 0.2251 - accuracy: 0.9228 - val_loss: 0.5900 - val_accuracy: 0.8333\n",
      "Epoch 68/100\n",
      "4/4 [==============================] - 0s 17ms/step - loss: 0.1867 - accuracy: 0.9477 - val_loss: 0.5920 - val_accuracy: 0.8333\n",
      "Epoch 69/100\n",
      "4/4 [==============================] - 0s 16ms/step - loss: 0.2322 - accuracy: 0.9288 - val_loss: 0.5996 - val_accuracy: 0.8333\n",
      "Epoch 70/100\n",
      "4/4 [==============================] - 0s 22ms/step - loss: 0.2107 - accuracy: 0.9255 - val_loss: 0.5977 - val_accuracy: 0.8333\n",
      "Epoch 71/100\n",
      "4/4 [==============================] - 0s 23ms/step - loss: 0.2219 - accuracy: 0.9261 - val_loss: 0.6098 - val_accuracy: 0.8333\n",
      "Epoch 72/100\n",
      "4/4 [==============================] - 0s 21ms/step - loss: 0.2064 - accuracy: 0.9234 - val_loss: 0.6128 - val_accuracy: 0.8333\n",
      "Epoch 73/100\n",
      "4/4 [==============================] - 0s 20ms/step - loss: 0.1899 - accuracy: 0.9282 - val_loss: 0.6170 - val_accuracy: 0.8333\n",
      "Epoch 74/100\n",
      "4/4 [==============================] - 0s 21ms/step - loss: 0.1962 - accuracy: 0.9250 - val_loss: 0.6216 - val_accuracy: 0.8333\n",
      "Epoch 75/100\n",
      "4/4 [==============================] - 0s 24ms/step - loss: 0.2083 - accuracy: 0.9202 - val_loss: 0.6197 - val_accuracy: 0.8333\n",
      "Epoch 76/100\n",
      "4/4 [==============================] - 0s 21ms/step - loss: 0.1904 - accuracy: 0.9390 - val_loss: 0.6320 - val_accuracy: 0.8333\n",
      "Epoch 77/100\n",
      "4/4 [==============================] - 0s 27ms/step - loss: 0.1921 - accuracy: 0.9354 - val_loss: 0.6313 - val_accuracy: 0.8333\n",
      "Epoch 78/100\n",
      "4/4 [==============================] - 0s 23ms/step - loss: 0.2185 - accuracy: 0.9175 - val_loss: 0.6296 - val_accuracy: 0.8333\n",
      "Epoch 79/100\n",
      "4/4 [==============================] - 0s 20ms/step - loss: 0.1920 - accuracy: 0.9365 - val_loss: 0.6414 - val_accuracy: 0.8333\n",
      "Epoch 80/100\n",
      "4/4 [==============================] - 0s 17ms/step - loss: 0.2076 - accuracy: 0.9322 - val_loss: 0.6483 - val_accuracy: 0.8333\n",
      "Epoch 81/100\n",
      "4/4 [==============================] - 0s 36ms/step - loss: 0.1945 - accuracy: 0.9278 - val_loss: 0.6543 - val_accuracy: 0.8333\n",
      "Epoch 82/100\n",
      "4/4 [==============================] - 0s 21ms/step - loss: 0.1910 - accuracy: 0.9390 - val_loss: 0.6532 - val_accuracy: 0.8333\n",
      "Epoch 83/100\n",
      "4/4 [==============================] - 0s 16ms/step - loss: 0.1798 - accuracy: 0.9407 - val_loss: 0.6476 - val_accuracy: 0.8333\n",
      "Epoch 84/100\n",
      "4/4 [==============================] - 0s 19ms/step - loss: 0.1982 - accuracy: 0.9387 - val_loss: 0.6670 - val_accuracy: 0.8125\n",
      "Epoch 85/100\n",
      "4/4 [==============================] - 0s 28ms/step - loss: 0.1879 - accuracy: 0.9283 - val_loss: 0.6754 - val_accuracy: 0.7917\n",
      "Epoch 86/100\n",
      "4/4 [==============================] - 0s 20ms/step - loss: 0.1954 - accuracy: 0.9349 - val_loss: 0.6594 - val_accuracy: 0.8333\n",
      "Epoch 87/100\n",
      "4/4 [==============================] - 0s 18ms/step - loss: 0.1762 - accuracy: 0.9364 - val_loss: 0.6647 - val_accuracy: 0.8333\n",
      "Epoch 88/100\n",
      "4/4 [==============================] - 0s 17ms/step - loss: 0.1751 - accuracy: 0.9359 - val_loss: 0.6767 - val_accuracy: 0.8125\n",
      "Epoch 89/100\n",
      "4/4 [==============================] - 0s 17ms/step - loss: 0.1526 - accuracy: 0.9553 - val_loss: 0.6777 - val_accuracy: 0.8333\n",
      "Epoch 90/100\n",
      "4/4 [==============================] - 0s 18ms/step - loss: 0.1616 - accuracy: 0.9505 - val_loss: 0.6948 - val_accuracy: 0.8125\n",
      "Epoch 91/100\n",
      "4/4 [==============================] - 0s 19ms/step - loss: 0.1959 - accuracy: 0.9284 - val_loss: 0.6907 - val_accuracy: 0.7917\n",
      "Epoch 92/100\n",
      "4/4 [==============================] - 0s 15ms/step - loss: 0.1633 - accuracy: 0.9477 - val_loss: 0.6841 - val_accuracy: 0.8333\n",
      "Epoch 93/100\n",
      "4/4 [==============================] - 0s 16ms/step - loss: 0.1958 - accuracy: 0.9279 - val_loss: 0.7080 - val_accuracy: 0.7708\n",
      "Epoch 94/100\n",
      "4/4 [==============================] - 0s 16ms/step - loss: 0.1715 - accuracy: 0.9452 - val_loss: 0.7040 - val_accuracy: 0.7917\n",
      "Epoch 95/100\n",
      "4/4 [==============================] - 0s 17ms/step - loss: 0.1643 - accuracy: 0.9479 - val_loss: 0.7036 - val_accuracy: 0.7917\n",
      "Epoch 96/100\n",
      "4/4 [==============================] - 0s 33ms/step - loss: 0.1856 - accuracy: 0.9235 - val_loss: 0.7064 - val_accuracy: 0.7917\n",
      "Epoch 97/100\n",
      "4/4 [==============================] - 0s 26ms/step - loss: 0.1607 - accuracy: 0.9494 - val_loss: 0.7147 - val_accuracy: 0.7917\n",
      "Epoch 98/100\n",
      "4/4 [==============================] - 0s 24ms/step - loss: 0.1757 - accuracy: 0.9468 - val_loss: 0.7281 - val_accuracy: 0.7917\n",
      "Epoch 99/100\n",
      "4/4 [==============================] - 0s 21ms/step - loss: 0.1539 - accuracy: 0.9506 - val_loss: 0.7252 - val_accuracy: 0.7917\n",
      "Epoch 100/100\n",
      "4/4 [==============================] - 0s 19ms/step - loss: 0.1584 - accuracy: 0.9533 - val_loss: 0.7256 - val_accuracy: 0.7917\n"
     ]
    }
   ],
   "source": [
    "hist4 = model4.fit(X_train2, Y_train2,\n",
    "          batch_size=62, epochs=100,\n",
    "          validation_data=(X_val2, Y_val2))"
   ]
  },
  {
   "cell_type": "code",
   "execution_count": 17,
   "metadata": {},
   "outputs": [
    {
     "data": {
      "image/png": "[encoded data removed]",
      "text/plain": [
       "<Figure size 432x288 with 1 Axes>"
      ]
     },
     "metadata": {
      "needs_background": "light"
     },
     "output_type": "display_data"
    }
   ],
   "source": [
    "plt.plot(hist4.history['loss'])\n",
    "plt.plot(hist4.history['val_loss'])\n",
    "plt.title('Model loss')\n",
    "plt.ylabel('Loss')\n",
    "plt.xlabel('Epoch')\n",
    "plt.legend(['Train', 'Val'], loc='upper right')\n",
    "plt.show()"
   ]
  },
  {
   "cell_type": "code",
   "execution_count": 18,
   "metadata": {},
   "outputs": [
    {
     "data": {
      "image/png": "[encoded data removed]",
      "text/plain": [
       "<Figure size 432x288 with 1 Axes>"
      ]
     },
     "metadata": {
      "needs_background": "light"
     },
     "output_type": "display_data"
    }
   ],
   "source": [
    "plt.plot(hist4.history['accuracy'])\n",
    "plt.plot(hist4.history['val_accuracy'])\n",
    "plt.title('Model accuracy')\n",
    "plt.ylabel('Accuracy')\n",
    "plt.xlabel('Epoch')\n",
    "plt.legend(['Train', 'Val'], loc='lower right')\n",
    "plt.show()"
   ]
  },
  {
   "cell_type": "code",
   "execution_count": 19,
   "metadata": {},
   "outputs": [
    {
     "name": "stdout",
     "output_type": "stream",
     "text": [
      "1/1 [==============================] - 0s 32ms/step - loss: 0.8260 - accuracy: 0.7500\n"
     ]
    },
    {
     "data": {
      "text/plain": [
       "0.75"
      ]
     },
     "execution_count": 19,
     "metadata": {},
     "output_type": "execute_result"
    }
   ],
   "source": [
    "model4.evaluate(X_test2, Y_test2)[1]"
   ]
  },
  {
   "cell_type": "code",
   "execution_count": null,
   "metadata": {},
   "outputs": [],
   "source": []
  }
 ],
 "metadata": {
  "kernelspec": {
   "display_name": "Python 3",
   "language": "python",
   "name": "python3"
  },
  "language_info": {
   "codemirror_mode": {
    "name": "ipython",
    "version": 3
   },
   "file_extension": ".py",
   "mimetype": "text/x-python",
   "name": "python",
   "nbconvert_exporter": "python",
   "pygments_lexer": "ipython3",
   "version": "3.8.5"
  }
 },
 "nbformat": 4,
 "nbformat_minor": 4
}
